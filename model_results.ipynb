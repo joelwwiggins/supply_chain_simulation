{
  "nbformat": 4,
  "nbformat_minor": 0,
  "metadata": {
    "colab": {
      "name": "model_results.ipynb",
      "provenance": [],
      "collapsed_sections": [],
      "mount_file_id": "14petIbCm0W4DPPJ3uV1J39x6MZ4BiQtQ",
      "authorship_tag": "ABX9TyPr/rddtWTxFilNUFx1BH4r",
      "include_colab_link": true
    },
    "kernelspec": {
      "name": "python3",
      "display_name": "Python 3"
    },
    "language_info": {
      "name": "python"
    }
  },
  "cells": [
    {
      "cell_type": "markdown",
      "metadata": {
        "id": "view-in-github",
        "colab_type": "text"
      },
      "source": [
        "<a href=\"https://colab.research.google.com/github/joelwwiggins/supply_chain_simulation/blob/main/model_results.ipynb\" target=\"_parent\"><img src=\"https://colab.research.google.com/assets/colab-badge.svg\" alt=\"Open In Colab\"/></a>"
      ]
    },
    {
      "cell_type": "code",
      "execution_count": 5,
      "metadata": {
        "id": "0_dBhfQciOPF"
      },
      "outputs": [],
      "source": [
        "import numpy as np\n",
        "import pandas as pd\n",
        "import tensorflow as tf\n",
        "import os\n",
        "from sklearn.preprocessing import StandardScaler, OneHotEncoder, MinMaxScaler\n",
        "from sklearn.compose import ColumnTransformer, make_column_transformer\n",
        "from sklearn.pipeline import Pipeline\n",
        "from sklearn import preprocessing\n",
        "from sklearn.preprocessing import StandardScaler, OneHotEncoder\n",
        "from sklearn.preprocessing import OrdinalEncoder"
      ]
    },
    {
      "cell_type": "code",
      "source": [
        "le = preprocessing.LabelEncoder()\n",
        "mm=preprocessing.MinMaxScaler()\n",
        "ss=preprocessing.StandardScaler()\n",
        "oe=preprocessing.OrdinalEncoder()"
      ],
      "metadata": {
        "id": "SquYB18EvK6z"
      },
      "execution_count": null,
      "outputs": []
    },
    {
      "cell_type": "code",
      "source": [
        "!mkdir flask_docker"
      ],
      "metadata": {
        "id": "fRP4v7-YtwA1"
      },
      "execution_count": 1,
      "outputs": []
    },
    {
      "cell_type": "code",
      "source": [
        "!pip install Flask"
      ],
      "metadata": {
        "colab": {
          "base_uri": "https://localhost:8080/"
        },
        "id": "AwSH1G4zuDBG",
        "outputId": "0f2ecaa5-152b-483d-e37b-e7f59c7097c4"
      },
      "execution_count": 2,
      "outputs": [
        {
          "output_type": "stream",
          "name": "stdout",
          "text": [
            "Looking in indexes: https://pypi.org/simple, https://us-python.pkg.dev/colab-wheels/public/simple/\n",
            "Requirement already satisfied: Flask in /usr/local/lib/python3.7/dist-packages (1.1.4)\n",
            "Requirement already satisfied: Werkzeug<2.0,>=0.15 in /usr/local/lib/python3.7/dist-packages (from Flask) (1.0.1)\n",
            "Requirement already satisfied: click<8.0,>=5.1 in /usr/local/lib/python3.7/dist-packages (from Flask) (7.1.2)\n",
            "Requirement already satisfied: itsdangerous<2.0,>=0.24 in /usr/local/lib/python3.7/dist-packages (from Flask) (1.1.0)\n",
            "Requirement already satisfied: Jinja2<3.0,>=2.10.1 in /usr/local/lib/python3.7/dist-packages (from Flask) (2.11.3)\n",
            "Requirement already satisfied: MarkupSafe>=0.23 in /usr/local/lib/python3.7/dist-packages (from Jinja2<3.0,>=2.10.1->Flask) (2.0.1)\n"
          ]
        }
      ]
    },
    {
      "cell_type": "code",
      "source": [
        "%cd /content/flask_docker"
      ],
      "metadata": {
        "colab": {
          "base_uri": "https://localhost:8080/"
        },
        "id": "aZ4Gy3JHuHSQ",
        "outputId": "2a10477d-5c3e-4d5a-af9f-5aa39612cc7c"
      },
      "execution_count": 4,
      "outputs": [
        {
          "output_type": "stream",
          "name": "stdout",
          "text": [
            "/content/flask_docker\n"
          ]
        }
      ]
    },
    {
      "cell_type": "code",
      "source": [
        "def data_input(raw_data):\n",
        "\n",
        "  #Convert string features into integer labels\n",
        "  objList = raw_data.select_dtypes(include = \"object\").columns\n",
        "  intlist=raw_data.select_dtypes(include = (\"int64\")).columns\n",
        "  for feat in objList:\n",
        "    raw_data[feat] = le.fit_transform(raw_data[feat].astype('str'))\n",
        "  \n",
        "  #Scale labels and int data with sklearn standard scaler\n",
        "  date_merge_scaled=pd.DataFrame(ss.fit_transform(raw_data))\n",
        "\n",
        "  return date_merge_scaled"
      ],
      "metadata": {
        "id": "APCkhtGqqScc"
      },
      "execution_count": null,
      "outputs": []
    },
    {
      "cell_type": "code",
      "source": [
        "def prediction_model(X):\n",
        "  reconstructed_model = tf.keras.models.load_model(\"encode_decode_conv1d\")\n",
        "  prediction_result=pd.DataFrame(reconstructed_model.predict(X))\n",
        "  \n",
        "  return prediction_result"
      ],
      "metadata": {
        "id": "aqFTtlZeqvO3"
      },
      "execution_count": null,
      "outputs": []
    },
    {
      "cell_type": "code",
      "source": [
        "def production_model(raw_data):\n",
        "  scaled_results=prediction_model(data_input(raw_data))\n",
        "\n",
        "  return scaled_results"
      ],
      "metadata": {
        "id": "Sa5IsDQFqz1K"
      },
      "execution_count": null,
      "outputs": []
    }
  ]
}