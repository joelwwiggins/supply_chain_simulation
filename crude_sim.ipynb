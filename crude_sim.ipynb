{
 "cells": [
  {
   "cell_type": "code",
   "execution_count": 153,
   "metadata": {},
   "outputs": [
    {
     "name": "stdout",
     "output_type": "stream",
     "text": [
      "Defaulting to user installation because normal site-packages is not writeable\n",
      "Requirement already satisfied: nbformat in c:\\users\\jwiggins\\appdata\\roaming\\python\\python39\\site-packages (5.4.0)\n",
      "Requirement already satisfied: traitlets>=5.1 in c:\\users\\jwiggins\\appdata\\roaming\\python\\python39\\site-packages (from nbformat) (5.2.0)\n",
      "Requirement already satisfied: jsonschema>=2.6 in c:\\users\\jwiggins\\appdata\\roaming\\python\\python39\\site-packages (from nbformat) (4.6.0)\n",
      "Requirement already satisfied: jupyter-core in c:\\users\\jwiggins\\appdata\\roaming\\python\\python39\\site-packages (from nbformat) (4.10.0)\n",
      "Requirement already satisfied: fastjsonschema in c:\\users\\jwiggins\\appdata\\roaming\\python\\python39\\site-packages (from nbformat) (2.15.3)\n",
      "Requirement already satisfied: attrs>=17.4.0 in c:\\users\\jwiggins\\appdata\\roaming\\python\\python39\\site-packages (from jsonschema>=2.6->nbformat) (21.4.0)\n",
      "Requirement already satisfied: pyrsistent!=0.17.0,!=0.17.1,!=0.17.2,>=0.14.0 in c:\\users\\jwiggins\\appdata\\roaming\\python\\python39\\site-packages (from jsonschema>=2.6->nbformat) (0.18.1)\n",
      "Requirement already satisfied: pywin32>=1.0 in c:\\users\\jwiggins\\appdata\\roaming\\python\\python39\\site-packages (from jupyter-core->nbformat) (304)\n",
      "Note: you may need to restart the kernel to use updated packages.\n"
     ]
    },
    {
     "name": "stderr",
     "output_type": "stream",
     "text": [
      "WARNING: You are using pip version 21.2.3; however, version 22.1.2 is available.\n",
      "You should consider upgrading via the 'c:\\Program Files (x86)\\Microsoft Visual Studio\\Shared\\Python39_64\\python.exe -m pip install --upgrade pip' command.\n"
     ]
    }
   ],
   "source": [
    "%pip install nbformat "
   ]
  },
  {
   "cell_type": "code",
   "execution_count": 154,
   "metadata": {},
   "outputs": [],
   "source": [
    "import pandas as pd\n",
    "import tensorflow as tf\n",
    "import numpy as np\n",
    "import matplotlib.pyplot as plt\n",
    "from sklearn.preprocessing import MinMaxScaler as mm\n",
    "from sklearn.preprocessing import StandardScaler as ss\n",
    "from sklearn.model_selection import train_test_split"
   ]
  },
  {
   "cell_type": "code",
   "execution_count": 155,
   "metadata": {},
   "outputs": [
    {
     "data": {
      "text/html": [
       "<div>\n",
       "<style scoped>\n",
       "    .dataframe tbody tr th:only-of-type {\n",
       "        vertical-align: middle;\n",
       "    }\n",
       "\n",
       "    .dataframe tbody tr th {\n",
       "        vertical-align: top;\n",
       "    }\n",
       "\n",
       "    .dataframe thead th {\n",
       "        text-align: right;\n",
       "    }\n",
       "</style>\n",
       "<table border=\"1\" class=\"dataframe\">\n",
       "  <thead>\n",
       "    <tr style=\"text-align: right;\">\n",
       "      <th></th>\n",
       "      <th>0</th>\n",
       "    </tr>\n",
       "  </thead>\n",
       "  <tbody>\n",
       "    <tr>\n",
       "      <th>0</th>\n",
       "      <td>vps2_crude_diet</td>\n",
       "    </tr>\n",
       "    <tr>\n",
       "      <th>1</th>\n",
       "      <td>vps2_yields</td>\n",
       "    </tr>\n",
       "    <tr>\n",
       "      <th>2</th>\n",
       "      <td>vps2_strmq</td>\n",
       "    </tr>\n",
       "    <tr>\n",
       "      <th>3</th>\n",
       "      <td>vps4_crude_diet</td>\n",
       "    </tr>\n",
       "    <tr>\n",
       "      <th>4</th>\n",
       "      <td>vps4_yields</td>\n",
       "    </tr>\n",
       "    <tr>\n",
       "      <th>5</th>\n",
       "      <td>vps4_strmq</td>\n",
       "    </tr>\n",
       "    <tr>\n",
       "      <th>6</th>\n",
       "      <td>vps5_crude_diet</td>\n",
       "    </tr>\n",
       "    <tr>\n",
       "      <th>7</th>\n",
       "      <td>vps5_yields</td>\n",
       "    </tr>\n",
       "    <tr>\n",
       "      <th>8</th>\n",
       "      <td>vps5_strmq</td>\n",
       "    </tr>\n",
       "  </tbody>\n",
       "</table>\n",
       "</div>"
      ],
      "text/plain": [
       "                 0\n",
       "0  vps2_crude_diet\n",
       "1      vps2_yields\n",
       "2       vps2_strmq\n",
       "3  vps4_crude_diet\n",
       "4      vps4_yields\n",
       "5       vps4_strmq\n",
       "6  vps5_crude_diet\n",
       "7      vps5_yields\n",
       "8       vps5_strmq"
      ]
     },
     "execution_count": 155,
     "metadata": {},
     "output_type": "execute_result"
    }
   ],
   "source": [
    "df = pd.read_excel (r'C:\\Users\\jwiggins\\Downloads\\January 2017 Crude Diet Yields and Product Stream Quality.xlsx',None)\n",
    "sheets=pd.DataFrame(df.keys())\n",
    "sheets_lower_underscore=sheets.applymap(lambda x: x.lower().replace(' ','_'))\n",
    "sheets_lower_underscore"
   ]
  },
  {
   "cell_type": "code",
   "execution_count": 156,
   "metadata": {},
   "outputs": [],
   "source": [
    "import pandas as pd\n",
    "\n",
    "vps5_crude_diet = pd.read_excel (r'C:\\Users\\jwiggins\\Downloads\\January 2017 Crude Diet Yields and Product Stream Quality.xlsx',sheet_name='VPS5 Crude Diet', header=[5]).iloc[1:,:]\n",
    "vps5_yields = pd.read_excel (r'C:\\Users\\jwiggins\\Downloads\\January 2017 Crude Diet Yields and Product Stream Quality.xlsx',sheet_name='VPS5 Yields', header=[5]).iloc[1:,:]\n",
    "vps5_strmq = pd.read_excel (r'C:\\Users\\jwiggins\\Downloads\\January 2017 Crude Diet Yields and Product Stream Quality.xlsx',sheet_name='VPS5 StrmQ', header=[6]).iloc[1:,:]\n",
    "\n",
    "all_data=pd.concat([vps5_crude_diet,vps5_yields,vps5_strmq],axis=1)"
   ]
  },
  {
   "cell_type": "code",
   "execution_count": 157,
   "metadata": {},
   "outputs": [
    {
     "data": {
      "text/plain": [
       "Date        object\n",
       "FP5FAPI    float64\n",
       "FP5FSUL    float64\n",
       "FP5FNIT    float64\n",
       "FP5FV40    float64\n",
       "            ...   \n",
       "MNI        float64\n",
       "MVA        float64\n",
       "CON.4      float64\n",
       "V50        float64\n",
       "TAN.2      float64\n",
       "Length: 148, dtype: object"
      ]
     },
     "execution_count": 157,
     "metadata": {},
     "output_type": "execute_result"
    }
   ],
   "source": [
    "all_data.dtypes"
   ]
  },
  {
   "cell_type": "code",
   "execution_count": 158,
   "metadata": {},
   "outputs": [],
   "source": [
    "def data_feed(csv):\n",
    "    dropped_date = csv.select_dtypes(exclude=['datetime','object']).fillna(value=0).iloc[:30]\n",
    "    data_input_scaled=ss().fit_transform(dropped_date)\n",
    "    (x_train,x_test) = train_test_split(data_input_scaled,test_size=0.2,random_state=42)\n",
    "    return x_train,x_test"
   ]
  },
  {
   "cell_type": "code",
   "execution_count": 159,
   "metadata": {},
   "outputs": [
    {
     "data": {
      "text/plain": [
       "dtype('float64')"
      ]
     },
     "execution_count": 159,
     "metadata": {},
     "output_type": "execute_result"
    }
   ],
   "source": [
    "data_feed(all_data)[0].dtype"
   ]
  },
  {
   "cell_type": "code",
   "execution_count": 173,
   "metadata": {},
   "outputs": [],
   "source": [
    "def cnn_model(data_input):\n",
    "    info=data_feed(data_input)\n",
    "    model = tf.keras.models.Sequential()\n",
    "\n",
    "    # model.build(input_shape=(info[0].shape[1]))\n",
    "    # First hidden layer\n",
    "    #  YOUR CODE GOES HERE\n",
    "    # model.add(tf.keras.layers.Conv1D(12,3,activation=\"relu\",padding='same',input_shape=(info[0].shape[1],1)))\n",
    "    # model.add(tf.keras.layers.MaxPool1D(pool_size=2,data_format='channels_last',padding='same'))\n",
    "    # # # model.add(tf.keras.layers.Dropout(0.1))\n",
    "    # model.add(tf.keras.layers.Conv1D(32,3,activation=\"relu\",padding='same'))\n",
    "    # model.add(tf.keras.layers.MaxPool1D(pool_size=2,data_format='channels_last',padding='same'))\n",
    "    # # model.add(tf.keras.layers.Dropout(0.1))\n",
    "    # model.add(tf.keras.layers.Conv1D(64,5,activation=\"relu\",padding='same'))\n",
    "    # model.add(tf.keras.layers.MaxPool1D(pool_size=2,data_format='channels_last',padding='same'))\n",
    "    # model.add(tf.keras.layers.Conv1D(64,5,activation=\"relu\",padding='same'))\n",
    "    # model.add(tf.keras.layers.UpSampling1D(2))\n",
    "    # # nn_model.add(tf.keras.layers.Dropout(0.1))\n",
    "    # model.add(tf.keras.layers.Conv1D(32,3,activation=\"relu\",padding='same'))\n",
    "    # model.add(tf.keras.layers.UpSampling1D(2))\n",
    "    # # nn_model.add(tf.keras.layers.Dropout(0.1))\n",
    "    # model.add(tf.keras.layers.Conv1D(12,3,activation=\"relu\",padding='same'))\n",
    "    # model.add(tf.keras.layers.UpSampling1D(2))\n",
    "\n",
    "\n",
    "    model.add(tf.keras.layers.Conv1D(filters=4, kernel_size=3, activation='relu', input_shape=(info[0].shape[1],1)))\n",
    "    model.add(tf.keras.layers.MaxPool1D(pool_size=2))\n",
    "    model.add(tf.keras.layers.Conv1D(filters=8, kernel_size=3, activation='relu'))\n",
    "    model.add(tf.keras.layers.MaxPool1D(pool_size=2))\n",
    "    # model.add(tf.keras.layers.Conv1D(filters=8, kernel_size=3, activation='relu'))\n",
    "    # model.add(tf.keras.layers.MaxPool1D(pool_size=2))\n",
    "    # model.add(tf.keras.layers.Dense(units=64, activation='relu'))\n",
    "    # model.add(tf.keras.layers.Dense(units=16, activation='relu'))\n",
    "    # model.add(tf.keras.layers.Dense(units=4, activation='relu'))\n",
    "    # model.add(tf.keras.layers.Dense(units=1, activation='relu'))\n",
    "    # model.add(tf.keras.layers.Dense(units=4, activation='relu'))\n",
    "    # model.add(tf.keras.layers.Dense(units=16, activation='relu'))\n",
    "    # model.add(tf.keras.layers.Dense(units=64, activation='relu'))\n",
    "\n",
    "\n",
    "\n",
    "\n",
    "    model.add(tf.keras.layers.Flatten())\n",
    "    model.add(tf.keras.layers.Dense(units=50, activation='relu'))\n",
    "\n",
    "    model.add(tf.keras.layers.Dense(units=info[0].shape[1], activation='linear'))\n",
    "    model.compile(loss='mse', optimizer='adam', metrics=['mse', 'mae','accuracy'])\n",
    "    es = tf.keras.callbacks.EarlyStopping(monitor='val_mse',patience=30,verbose=1,mode='min')\n",
    "    # checkpointer = tf.keras.callbacks.ModelCheckpoint(filepath =\"/content/sample_data\")\n",
    "    tbCallBack = tf.keras.callbacks.TensorBoard(log_dir='./Graph', histogram_freq=1, write_graph=True, write_images=True)\n",
    "    cb_list = [es,tbCallBack]\n",
    "    model.fit(info[0], info[0], epochs=10000,validation_split=.05,shuffle=False,callbacks=cb_list)\n",
    "    model.evaluate(info[0], info[0])\n",
    "    return model\n"
   ]
  },
  {
   "cell_type": "code",
   "execution_count": 174,
   "metadata": {},
   "outputs": [
    {
     "name": "stdout",
     "output_type": "stream",
     "text": [
      "Epoch 1/10000\n",
      "1/1 [==============================] - 1s 612ms/step - loss: 1.0054 - mse: 1.0054 - mae: 0.7097 - accuracy: 0.0000e+00 - val_loss: 0.7647 - val_mse: 0.7647 - val_mae: 0.6255 - val_accuracy: 0.0000e+00\n",
      "Epoch 2/10000\n",
      "1/1 [==============================] - 0s 102ms/step - loss: 0.9909 - mse: 0.9909 - mae: 0.7042 - accuracy: 0.0455 - val_loss: 0.7572 - val_mse: 0.7572 - val_mae: 0.6231 - val_accuracy: 0.0000e+00\n",
      "Epoch 3/10000\n",
      "1/1 [==============================] - 0s 111ms/step - loss: 0.9780 - mse: 0.9780 - mae: 0.6993 - accuracy: 0.0455 - val_loss: 0.7504 - val_mse: 0.7504 - val_mae: 0.6208 - val_accuracy: 0.0000e+00\n",
      "Epoch 4/10000\n",
      "1/1 [==============================] - 0s 103ms/step - loss: 0.9663 - mse: 0.9663 - mae: 0.6949 - accuracy: 0.0455 - val_loss: 0.7444 - val_mse: 0.7444 - val_mae: 0.6187 - val_accuracy: 0.0000e+00\n",
      "Epoch 5/10000\n",
      "1/1 [==============================] - 0s 121ms/step - loss: 0.9556 - mse: 0.9556 - mae: 0.6908 - accuracy: 0.0000e+00 - val_loss: 0.7389 - val_mse: 0.7389 - val_mae: 0.6168 - val_accuracy: 0.0000e+00\n",
      "Epoch 6/10000\n",
      "1/1 [==============================] - 0s 112ms/step - loss: 0.9458 - mse: 0.9458 - mae: 0.6871 - accuracy: 0.0000e+00 - val_loss: 0.7339 - val_mse: 0.7339 - val_mae: 0.6150 - val_accuracy: 0.0000e+00\n",
      "Epoch 7/10000\n",
      "1/1 [==============================] - 0s 82ms/step - loss: 0.9367 - mse: 0.9367 - mae: 0.6837 - accuracy: 0.0000e+00 - val_loss: 0.7296 - val_mse: 0.7296 - val_mae: 0.6134 - val_accuracy: 0.0000e+00\n",
      "Epoch 8/10000\n",
      "1/1 [==============================] - 0s 105ms/step - loss: 0.9279 - mse: 0.9279 - mae: 0.6804 - accuracy: 0.0000e+00 - val_loss: 0.7251 - val_mse: 0.7251 - val_mae: 0.6118 - val_accuracy: 0.0000e+00\n",
      "Epoch 9/10000\n",
      "1/1 [==============================] - 0s 104ms/step - loss: 0.9195 - mse: 0.9195 - mae: 0.6774 - accuracy: 0.0455 - val_loss: 0.7202 - val_mse: 0.7202 - val_mae: 0.6103 - val_accuracy: 0.0000e+00\n",
      "Epoch 10/10000\n",
      "1/1 [==============================] - 0s 106ms/step - loss: 0.9114 - mse: 0.9114 - mae: 0.6744 - accuracy: 0.0455 - val_loss: 0.7149 - val_mse: 0.7149 - val_mae: 0.6086 - val_accuracy: 0.0000e+00\n",
      "Epoch 11/10000\n",
      "1/1 [==============================] - 0s 103ms/step - loss: 0.9033 - mse: 0.9033 - mae: 0.6716 - accuracy: 0.0455 - val_loss: 0.7089 - val_mse: 0.7089 - val_mae: 0.6063 - val_accuracy: 0.0000e+00\n",
      "Epoch 12/10000\n",
      "1/1 [==============================] - 0s 116ms/step - loss: 0.8951 - mse: 0.8951 - mae: 0.6686 - accuracy: 0.0455 - val_loss: 0.7022 - val_mse: 0.7022 - val_mae: 0.6036 - val_accuracy: 0.0000e+00\n",
      "Epoch 13/10000\n",
      "1/1 [==============================] - 0s 105ms/step - loss: 0.8867 - mse: 0.8867 - mae: 0.6655 - accuracy: 0.0455 - val_loss: 0.6949 - val_mse: 0.6949 - val_mae: 0.6006 - val_accuracy: 0.0000e+00\n",
      "Epoch 14/10000\n",
      "1/1 [==============================] - 0s 115ms/step - loss: 0.8779 - mse: 0.8779 - mae: 0.6623 - accuracy: 0.0455 - val_loss: 0.6871 - val_mse: 0.6871 - val_mae: 0.5971 - val_accuracy: 0.0000e+00\n",
      "Epoch 15/10000\n",
      "1/1 [==============================] - 0s 117ms/step - loss: 0.8689 - mse: 0.8689 - mae: 0.6588 - accuracy: 0.0455 - val_loss: 0.6784 - val_mse: 0.6784 - val_mae: 0.5932 - val_accuracy: 0.0000e+00\n",
      "Epoch 16/10000\n",
      "1/1 [==============================] - 0s 121ms/step - loss: 0.8593 - mse: 0.8593 - mae: 0.6551 - accuracy: 0.0455 - val_loss: 0.6690 - val_mse: 0.6690 - val_mae: 0.5889 - val_accuracy: 0.0000e+00\n",
      "Epoch 17/10000\n",
      "1/1 [==============================] - 0s 109ms/step - loss: 0.8493 - mse: 0.8493 - mae: 0.6512 - accuracy: 0.0455 - val_loss: 0.6587 - val_mse: 0.6587 - val_mae: 0.5840 - val_accuracy: 0.0000e+00\n",
      "Epoch 18/10000\n",
      "1/1 [==============================] - 0s 107ms/step - loss: 0.8386 - mse: 0.8386 - mae: 0.6469 - accuracy: 0.0455 - val_loss: 0.6476 - val_mse: 0.6476 - val_mae: 0.5786 - val_accuracy: 0.0000e+00\n",
      "Epoch 19/10000\n",
      "1/1 [==============================] - 0s 91ms/step - loss: 0.8272 - mse: 0.8272 - mae: 0.6423 - accuracy: 0.0455 - val_loss: 0.6357 - val_mse: 0.6357 - val_mae: 0.5726 - val_accuracy: 0.0000e+00\n",
      "Epoch 20/10000\n",
      "1/1 [==============================] - 0s 90ms/step - loss: 0.8152 - mse: 0.8152 - mae: 0.6374 - accuracy: 0.0455 - val_loss: 0.6226 - val_mse: 0.6226 - val_mae: 0.5658 - val_accuracy: 0.0000e+00\n",
      "Epoch 21/10000\n",
      "1/1 [==============================] - 0s 89ms/step - loss: 0.8024 - mse: 0.8024 - mae: 0.6321 - accuracy: 0.0455 - val_loss: 0.6086 - val_mse: 0.6086 - val_mae: 0.5584 - val_accuracy: 0.0000e+00\n",
      "Epoch 22/10000\n",
      "1/1 [==============================] - 0s 89ms/step - loss: 0.7892 - mse: 0.7892 - mae: 0.6265 - accuracy: 0.0455 - val_loss: 0.5939 - val_mse: 0.5939 - val_mae: 0.5502 - val_accuracy: 0.0000e+00\n",
      "Epoch 23/10000\n",
      "1/1 [==============================] - 0s 90ms/step - loss: 0.7753 - mse: 0.7753 - mae: 0.6205 - accuracy: 0.0455 - val_loss: 0.5785 - val_mse: 0.5785 - val_mae: 0.5413 - val_accuracy: 0.0000e+00\n",
      "Epoch 24/10000\n",
      "1/1 [==============================] - 0s 95ms/step - loss: 0.7607 - mse: 0.7607 - mae: 0.6143 - accuracy: 0.0455 - val_loss: 0.5624 - val_mse: 0.5624 - val_mae: 0.5320 - val_accuracy: 0.0000e+00\n",
      "Epoch 25/10000\n",
      "1/1 [==============================] - 0s 96ms/step - loss: 0.7456 - mse: 0.7456 - mae: 0.6076 - accuracy: 0.0455 - val_loss: 0.5459 - val_mse: 0.5459 - val_mae: 0.5220 - val_accuracy: 0.0000e+00\n",
      "Epoch 26/10000\n",
      "1/1 [==============================] - 0s 98ms/step - loss: 0.7301 - mse: 0.7301 - mae: 0.6005 - accuracy: 0.0455 - val_loss: 0.5288 - val_mse: 0.5288 - val_mae: 0.5111 - val_accuracy: 0.0000e+00\n",
      "Epoch 27/10000\n",
      "1/1 [==============================] - 0s 97ms/step - loss: 0.7143 - mse: 0.7143 - mae: 0.5931 - accuracy: 0.0000e+00 - val_loss: 0.5114 - val_mse: 0.5114 - val_mae: 0.5004 - val_accuracy: 0.0000e+00\n",
      "Epoch 28/10000\n",
      "1/1 [==============================] - 0s 99ms/step - loss: 0.6980 - mse: 0.6980 - mae: 0.5854 - accuracy: 0.0000e+00 - val_loss: 0.4938 - val_mse: 0.4938 - val_mae: 0.4898 - val_accuracy: 0.0000e+00\n",
      "Epoch 29/10000\n",
      "1/1 [==============================] - 0s 116ms/step - loss: 0.6813 - mse: 0.6813 - mae: 0.5774 - accuracy: 0.0000e+00 - val_loss: 0.4763 - val_mse: 0.4763 - val_mae: 0.4796 - val_accuracy: 0.0000e+00\n",
      "Epoch 30/10000\n",
      "1/1 [==============================] - 0s 99ms/step - loss: 0.6645 - mse: 0.6645 - mae: 0.5695 - accuracy: 0.0000e+00 - val_loss: 0.4592 - val_mse: 0.4592 - val_mae: 0.4699 - val_accuracy: 0.0000e+00\n",
      "Epoch 31/10000\n",
      "1/1 [==============================] - 0s 97ms/step - loss: 0.6474 - mse: 0.6474 - mae: 0.5615 - accuracy: 0.0000e+00 - val_loss: 0.4426 - val_mse: 0.4426 - val_mae: 0.4608 - val_accuracy: 0.0000e+00\n",
      "Epoch 32/10000\n",
      "1/1 [==============================] - 0s 90ms/step - loss: 0.6303 - mse: 0.6303 - mae: 0.5535 - accuracy: 0.0000e+00 - val_loss: 0.4266 - val_mse: 0.4266 - val_mae: 0.4519 - val_accuracy: 0.0000e+00\n",
      "Epoch 33/10000\n",
      "1/1 [==============================] - 0s 84ms/step - loss: 0.6131 - mse: 0.6131 - mae: 0.5456 - accuracy: 0.0000e+00 - val_loss: 0.4114 - val_mse: 0.4114 - val_mae: 0.4440 - val_accuracy: 0.0000e+00\n",
      "Epoch 34/10000\n",
      "1/1 [==============================] - 0s 91ms/step - loss: 0.5960 - mse: 0.5960 - mae: 0.5377 - accuracy: 0.0000e+00 - val_loss: 0.3971 - val_mse: 0.3971 - val_mae: 0.4358 - val_accuracy: 0.0000e+00\n",
      "Epoch 35/10000\n",
      "1/1 [==============================] - 0s 95ms/step - loss: 0.5788 - mse: 0.5788 - mae: 0.5298 - accuracy: 0.0000e+00 - val_loss: 0.3834 - val_mse: 0.3834 - val_mae: 0.4274 - val_accuracy: 0.0000e+00\n",
      "Epoch 36/10000\n",
      "1/1 [==============================] - 0s 89ms/step - loss: 0.5617 - mse: 0.5617 - mae: 0.5218 - accuracy: 0.0000e+00 - val_loss: 0.3705 - val_mse: 0.3705 - val_mae: 0.4193 - val_accuracy: 0.0000e+00\n",
      "Epoch 37/10000\n",
      "1/1 [==============================] - 0s 86ms/step - loss: 0.5446 - mse: 0.5446 - mae: 0.5138 - accuracy: 0.0455 - val_loss: 0.3584 - val_mse: 0.3584 - val_mae: 0.4118 - val_accuracy: 0.0000e+00\n",
      "Epoch 38/10000\n",
      "1/1 [==============================] - 0s 89ms/step - loss: 0.5279 - mse: 0.5279 - mae: 0.5059 - accuracy: 0.0455 - val_loss: 0.3470 - val_mse: 0.3470 - val_mae: 0.4054 - val_accuracy: 0.0000e+00\n",
      "Epoch 39/10000\n",
      "1/1 [==============================] - 0s 91ms/step - loss: 0.5115 - mse: 0.5115 - mae: 0.4981 - accuracy: 0.0455 - val_loss: 0.3362 - val_mse: 0.3362 - val_mae: 0.4005 - val_accuracy: 0.0000e+00\n",
      "Epoch 40/10000\n",
      "1/1 [==============================] - 0s 86ms/step - loss: 0.4955 - mse: 0.4955 - mae: 0.4907 - accuracy: 0.0455 - val_loss: 0.3258 - val_mse: 0.3258 - val_mae: 0.3968 - val_accuracy: 0.0000e+00\n",
      "Epoch 41/10000\n",
      "1/1 [==============================] - 0s 90ms/step - loss: 0.4800 - mse: 0.4800 - mae: 0.4830 - accuracy: 0.0455 - val_loss: 0.3160 - val_mse: 0.3160 - val_mae: 0.3930 - val_accuracy: 0.0000e+00\n",
      "Epoch 42/10000\n",
      "1/1 [==============================] - 0s 102ms/step - loss: 0.4651 - mse: 0.4651 - mae: 0.4755 - accuracy: 0.0455 - val_loss: 0.3065 - val_mse: 0.3065 - val_mae: 0.3889 - val_accuracy: 0.0000e+00\n",
      "Epoch 43/10000\n",
      "1/1 [==============================] - 0s 97ms/step - loss: 0.4507 - mse: 0.4507 - mae: 0.4682 - accuracy: 0.0455 - val_loss: 0.2973 - val_mse: 0.2973 - val_mae: 0.3845 - val_accuracy: 0.0000e+00\n",
      "Epoch 44/10000\n",
      "1/1 [==============================] - 0s 88ms/step - loss: 0.4369 - mse: 0.4369 - mae: 0.4612 - accuracy: 0.0455 - val_loss: 0.2880 - val_mse: 0.2880 - val_mae: 0.3798 - val_accuracy: 0.0000e+00\n",
      "Epoch 45/10000\n",
      "1/1 [==============================] - 0s 87ms/step - loss: 0.4238 - mse: 0.4238 - mae: 0.4540 - accuracy: 0.0455 - val_loss: 0.2787 - val_mse: 0.2787 - val_mae: 0.3750 - val_accuracy: 0.0000e+00\n",
      "Epoch 46/10000\n",
      "1/1 [==============================] - 0s 92ms/step - loss: 0.4114 - mse: 0.4114 - mae: 0.4471 - accuracy: 0.0909 - val_loss: 0.2700 - val_mse: 0.2700 - val_mae: 0.3704 - val_accuracy: 0.0000e+00\n",
      "Epoch 47/10000\n",
      "1/1 [==============================] - 0s 92ms/step - loss: 0.3996 - mse: 0.3996 - mae: 0.4405 - accuracy: 0.0909 - val_loss: 0.2615 - val_mse: 0.2615 - val_mae: 0.3654 - val_accuracy: 0.0000e+00\n",
      "Epoch 48/10000\n",
      "1/1 [==============================] - 0s 92ms/step - loss: 0.3884 - mse: 0.3884 - mae: 0.4341 - accuracy: 0.0909 - val_loss: 0.2533 - val_mse: 0.2533 - val_mae: 0.3600 - val_accuracy: 0.0000e+00\n",
      "Epoch 49/10000\n",
      "1/1 [==============================] - 0s 97ms/step - loss: 0.3777 - mse: 0.3777 - mae: 0.4281 - accuracy: 0.0909 - val_loss: 0.2452 - val_mse: 0.2452 - val_mae: 0.3544 - val_accuracy: 0.0000e+00\n",
      "Epoch 50/10000\n",
      "1/1 [==============================] - 0s 94ms/step - loss: 0.3675 - mse: 0.3675 - mae: 0.4222 - accuracy: 0.0909 - val_loss: 0.2373 - val_mse: 0.2373 - val_mae: 0.3489 - val_accuracy: 0.0000e+00\n",
      "Epoch 51/10000\n",
      "1/1 [==============================] - 0s 94ms/step - loss: 0.3577 - mse: 0.3577 - mae: 0.4164 - accuracy: 0.0909 - val_loss: 0.2295 - val_mse: 0.2295 - val_mae: 0.3435 - val_accuracy: 0.0000e+00\n",
      "Epoch 52/10000\n",
      "1/1 [==============================] - 0s 91ms/step - loss: 0.3483 - mse: 0.3483 - mae: 0.4107 - accuracy: 0.1364 - val_loss: 0.2217 - val_mse: 0.2217 - val_mae: 0.3379 - val_accuracy: 0.5000\n",
      "Epoch 53/10000\n",
      "1/1 [==============================] - 0s 88ms/step - loss: 0.3393 - mse: 0.3393 - mae: 0.4053 - accuracy: 0.1364 - val_loss: 0.2139 - val_mse: 0.2139 - val_mae: 0.3320 - val_accuracy: 0.5000\n",
      "Epoch 54/10000\n",
      "1/1 [==============================] - 0s 88ms/step - loss: 0.3307 - mse: 0.3307 - mae: 0.4002 - accuracy: 0.1364 - val_loss: 0.2063 - val_mse: 0.2063 - val_mae: 0.3261 - val_accuracy: 0.5000\n",
      "Epoch 55/10000\n",
      "1/1 [==============================] - 0s 89ms/step - loss: 0.3223 - mse: 0.3223 - mae: 0.3951 - accuracy: 0.1364 - val_loss: 0.1987 - val_mse: 0.1987 - val_mae: 0.3199 - val_accuracy: 0.5000\n",
      "Epoch 56/10000\n",
      "1/1 [==============================] - 0s 91ms/step - loss: 0.3143 - mse: 0.3143 - mae: 0.3900 - accuracy: 0.1364 - val_loss: 0.1913 - val_mse: 0.1913 - val_mae: 0.3135 - val_accuracy: 0.5000\n",
      "Epoch 57/10000\n",
      "1/1 [==============================] - 0s 93ms/step - loss: 0.3065 - mse: 0.3065 - mae: 0.3848 - accuracy: 0.1364 - val_loss: 0.1841 - val_mse: 0.1841 - val_mae: 0.3082 - val_accuracy: 0.5000\n",
      "Epoch 58/10000\n",
      "1/1 [==============================] - 0s 92ms/step - loss: 0.2990 - mse: 0.2990 - mae: 0.3794 - accuracy: 0.1364 - val_loss: 0.1774 - val_mse: 0.1774 - val_mae: 0.3030 - val_accuracy: 0.5000\n",
      "Epoch 59/10000\n",
      "1/1 [==============================] - 0s 90ms/step - loss: 0.2917 - mse: 0.2917 - mae: 0.3740 - accuracy: 0.1364 - val_loss: 0.1708 - val_mse: 0.1708 - val_mae: 0.2975 - val_accuracy: 0.5000\n",
      "Epoch 60/10000\n",
      "1/1 [==============================] - 0s 96ms/step - loss: 0.2848 - mse: 0.2848 - mae: 0.3686 - accuracy: 0.2273 - val_loss: 0.1646 - val_mse: 0.1646 - val_mae: 0.2921 - val_accuracy: 0.5000\n",
      "Epoch 61/10000\n",
      "1/1 [==============================] - 0s 92ms/step - loss: 0.2780 - mse: 0.2780 - mae: 0.3633 - accuracy: 0.2273 - val_loss: 0.1585 - val_mse: 0.1585 - val_mae: 0.2869 - val_accuracy: 0.5000\n",
      "Epoch 62/10000\n",
      "1/1 [==============================] - 0s 108ms/step - loss: 0.2716 - mse: 0.2716 - mae: 0.3580 - accuracy: 0.1818 - val_loss: 0.1528 - val_mse: 0.1528 - val_mae: 0.2819 - val_accuracy: 0.5000\n",
      "Epoch 63/10000\n",
      "1/1 [==============================] - 0s 92ms/step - loss: 0.2654 - mse: 0.2654 - mae: 0.3527 - accuracy: 0.1818 - val_loss: 0.1473 - val_mse: 0.1473 - val_mae: 0.2768 - val_accuracy: 0.5000\n",
      "Epoch 64/10000\n",
      "1/1 [==============================] - 0s 89ms/step - loss: 0.2594 - mse: 0.2594 - mae: 0.3475 - accuracy: 0.2273 - val_loss: 0.1421 - val_mse: 0.1421 - val_mae: 0.2719 - val_accuracy: 0.5000\n",
      "Epoch 65/10000\n",
      "1/1 [==============================] - 0s 97ms/step - loss: 0.2536 - mse: 0.2536 - mae: 0.3423 - accuracy: 0.2273 - val_loss: 0.1371 - val_mse: 0.1371 - val_mae: 0.2668 - val_accuracy: 0.5000\n",
      "Epoch 66/10000\n",
      "1/1 [==============================] - 0s 96ms/step - loss: 0.2480 - mse: 0.2480 - mae: 0.3373 - accuracy: 0.2273 - val_loss: 0.1324 - val_mse: 0.1324 - val_mae: 0.2616 - val_accuracy: 0.5000\n",
      "Epoch 67/10000\n",
      "1/1 [==============================] - 0s 101ms/step - loss: 0.2427 - mse: 0.2427 - mae: 0.3325 - accuracy: 0.2273 - val_loss: 0.1278 - val_mse: 0.1278 - val_mae: 0.2565 - val_accuracy: 0.0000e+00\n",
      "Epoch 68/10000\n",
      "1/1 [==============================] - 0s 97ms/step - loss: 0.2375 - mse: 0.2375 - mae: 0.3278 - accuracy: 0.2727 - val_loss: 0.1236 - val_mse: 0.1236 - val_mae: 0.2515 - val_accuracy: 0.0000e+00\n",
      "Epoch 69/10000\n",
      "1/1 [==============================] - 0s 97ms/step - loss: 0.2325 - mse: 0.2325 - mae: 0.3232 - accuracy: 0.3182 - val_loss: 0.1197 - val_mse: 0.1197 - val_mae: 0.2466 - val_accuracy: 0.0000e+00\n",
      "Epoch 70/10000\n",
      "1/1 [==============================] - 0s 91ms/step - loss: 0.2276 - mse: 0.2276 - mae: 0.3188 - accuracy: 0.3636 - val_loss: 0.1161 - val_mse: 0.1161 - val_mae: 0.2418 - val_accuracy: 0.0000e+00\n",
      "Epoch 71/10000\n",
      "1/1 [==============================] - 0s 96ms/step - loss: 0.2230 - mse: 0.2230 - mae: 0.3144 - accuracy: 0.3636 - val_loss: 0.1128 - val_mse: 0.1128 - val_mae: 0.2374 - val_accuracy: 0.0000e+00\n",
      "Epoch 72/10000\n",
      "1/1 [==============================] - 0s 100ms/step - loss: 0.2184 - mse: 0.2184 - mae: 0.3102 - accuracy: 0.3636 - val_loss: 0.1096 - val_mse: 0.1096 - val_mae: 0.2334 - val_accuracy: 0.0000e+00\n",
      "Epoch 73/10000\n",
      "1/1 [==============================] - 0s 88ms/step - loss: 0.2141 - mse: 0.2141 - mae: 0.3060 - accuracy: 0.3636 - val_loss: 0.1067 - val_mse: 0.1067 - val_mae: 0.2300 - val_accuracy: 0.0000e+00\n",
      "Epoch 74/10000\n",
      "1/1 [==============================] - 0s 85ms/step - loss: 0.2098 - mse: 0.2098 - mae: 0.3020 - accuracy: 0.3636 - val_loss: 0.1040 - val_mse: 0.1040 - val_mae: 0.2267 - val_accuracy: 0.5000\n",
      "Epoch 75/10000\n",
      "1/1 [==============================] - 0s 88ms/step - loss: 0.2057 - mse: 0.2057 - mae: 0.2981 - accuracy: 0.3636 - val_loss: 0.1013 - val_mse: 0.1013 - val_mae: 0.2234 - val_accuracy: 0.5000\n",
      "Epoch 76/10000\n",
      "1/1 [==============================] - 0s 87ms/step - loss: 0.2017 - mse: 0.2017 - mae: 0.2943 - accuracy: 0.3636 - val_loss: 0.0989 - val_mse: 0.0989 - val_mae: 0.2201 - val_accuracy: 0.5000\n",
      "Epoch 77/10000\n",
      "1/1 [==============================] - 0s 89ms/step - loss: 0.1979 - mse: 0.1979 - mae: 0.2907 - accuracy: 0.3636 - val_loss: 0.0964 - val_mse: 0.0964 - val_mae: 0.2170 - val_accuracy: 0.5000\n",
      "Epoch 78/10000\n",
      "1/1 [==============================] - 0s 95ms/step - loss: 0.1943 - mse: 0.1943 - mae: 0.2871 - accuracy: 0.3636 - val_loss: 0.0941 - val_mse: 0.0941 - val_mae: 0.2138 - val_accuracy: 0.5000\n",
      "Epoch 79/10000\n",
      "1/1 [==============================] - 0s 90ms/step - loss: 0.1907 - mse: 0.1907 - mae: 0.2838 - accuracy: 0.3636 - val_loss: 0.0917 - val_mse: 0.0917 - val_mae: 0.2108 - val_accuracy: 0.5000\n",
      "Epoch 80/10000\n",
      "1/1 [==============================] - 0s 90ms/step - loss: 0.1873 - mse: 0.1873 - mae: 0.2805 - accuracy: 0.3636 - val_loss: 0.0895 - val_mse: 0.0895 - val_mae: 0.2076 - val_accuracy: 0.5000\n",
      "Epoch 81/10000\n",
      "1/1 [==============================] - 0s 89ms/step - loss: 0.1840 - mse: 0.1840 - mae: 0.2775 - accuracy: 0.3636 - val_loss: 0.0873 - val_mse: 0.0873 - val_mae: 0.2046 - val_accuracy: 0.5000\n",
      "Epoch 82/10000\n",
      "1/1 [==============================] - 0s 87ms/step - loss: 0.1808 - mse: 0.1808 - mae: 0.2745 - accuracy: 0.3636 - val_loss: 0.0852 - val_mse: 0.0852 - val_mae: 0.2018 - val_accuracy: 0.5000\n",
      "Epoch 83/10000\n",
      "1/1 [==============================] - 0s 86ms/step - loss: 0.1776 - mse: 0.1776 - mae: 0.2715 - accuracy: 0.3636 - val_loss: 0.0834 - val_mse: 0.0834 - val_mae: 0.1994 - val_accuracy: 0.5000\n",
      "Epoch 84/10000\n",
      "1/1 [==============================] - 0s 87ms/step - loss: 0.1746 - mse: 0.1746 - mae: 0.2686 - accuracy: 0.3636 - val_loss: 0.0817 - val_mse: 0.0817 - val_mae: 0.1970 - val_accuracy: 0.5000\n",
      "Epoch 85/10000\n",
      "1/1 [==============================] - 0s 85ms/step - loss: 0.1716 - mse: 0.1716 - mae: 0.2658 - accuracy: 0.4091 - val_loss: 0.0802 - val_mse: 0.0802 - val_mae: 0.1948 - val_accuracy: 0.5000\n",
      "Epoch 86/10000\n",
      "1/1 [==============================] - 0s 86ms/step - loss: 0.1687 - mse: 0.1687 - mae: 0.2631 - accuracy: 0.4091 - val_loss: 0.0789 - val_mse: 0.0789 - val_mae: 0.1928 - val_accuracy: 0.5000\n",
      "Epoch 87/10000\n",
      "1/1 [==============================] - 0s 86ms/step - loss: 0.1658 - mse: 0.1658 - mae: 0.2604 - accuracy: 0.4091 - val_loss: 0.0778 - val_mse: 0.0778 - val_mae: 0.1910 - val_accuracy: 0.5000\n",
      "Epoch 88/10000\n",
      "1/1 [==============================] - 0s 90ms/step - loss: 0.1630 - mse: 0.1630 - mae: 0.2579 - accuracy: 0.4091 - val_loss: 0.0768 - val_mse: 0.0768 - val_mae: 0.1897 - val_accuracy: 0.5000\n",
      "Epoch 89/10000\n",
      "1/1 [==============================] - 0s 88ms/step - loss: 0.1603 - mse: 0.1603 - mae: 0.2554 - accuracy: 0.4091 - val_loss: 0.0758 - val_mse: 0.0758 - val_mae: 0.1887 - val_accuracy: 0.0000e+00\n",
      "Epoch 90/10000\n",
      "1/1 [==============================] - 0s 88ms/step - loss: 0.1577 - mse: 0.1577 - mae: 0.2529 - accuracy: 0.4091 - val_loss: 0.0749 - val_mse: 0.0749 - val_mae: 0.1877 - val_accuracy: 0.0000e+00\n",
      "Epoch 91/10000\n",
      "1/1 [==============================] - 0s 97ms/step - loss: 0.1551 - mse: 0.1551 - mae: 0.2506 - accuracy: 0.4091 - val_loss: 0.0740 - val_mse: 0.0740 - val_mae: 0.1870 - val_accuracy: 0.0000e+00\n",
      "Epoch 92/10000\n",
      "1/1 [==============================] - 0s 92ms/step - loss: 0.1526 - mse: 0.1526 - mae: 0.2483 - accuracy: 0.4091 - val_loss: 0.0730 - val_mse: 0.0730 - val_mae: 0.1862 - val_accuracy: 0.0000e+00\n",
      "Epoch 93/10000\n",
      "1/1 [==============================] - 0s 89ms/step - loss: 0.1501 - mse: 0.1501 - mae: 0.2461 - accuracy: 0.4545 - val_loss: 0.0721 - val_mse: 0.0721 - val_mae: 0.1852 - val_accuracy: 0.0000e+00\n",
      "Epoch 94/10000\n",
      "1/1 [==============================] - 0s 93ms/step - loss: 0.1477 - mse: 0.1477 - mae: 0.2440 - accuracy: 0.4545 - val_loss: 0.0714 - val_mse: 0.0714 - val_mae: 0.1842 - val_accuracy: 0.0000e+00\n",
      "Epoch 95/10000\n",
      "1/1 [==============================] - 0s 89ms/step - loss: 0.1454 - mse: 0.1454 - mae: 0.2419 - accuracy: 0.4545 - val_loss: 0.0708 - val_mse: 0.0708 - val_mae: 0.1834 - val_accuracy: 0.0000e+00\n",
      "Epoch 96/10000\n",
      "1/1 [==============================] - 0s 85ms/step - loss: 0.1430 - mse: 0.1430 - mae: 0.2398 - accuracy: 0.4545 - val_loss: 0.0702 - val_mse: 0.0702 - val_mae: 0.1825 - val_accuracy: 0.0000e+00\n",
      "Epoch 97/10000\n",
      "1/1 [==============================] - 0s 92ms/step - loss: 0.1407 - mse: 0.1407 - mae: 0.2378 - accuracy: 0.4545 - val_loss: 0.0697 - val_mse: 0.0697 - val_mae: 0.1819 - val_accuracy: 0.0000e+00\n",
      "Epoch 98/10000\n",
      "1/1 [==============================] - 0s 87ms/step - loss: 0.1385 - mse: 0.1385 - mae: 0.2358 - accuracy: 0.4545 - val_loss: 0.0693 - val_mse: 0.0693 - val_mae: 0.1813 - val_accuracy: 0.0000e+00\n",
      "Epoch 99/10000\n",
      "1/1 [==============================] - 0s 91ms/step - loss: 0.1363 - mse: 0.1363 - mae: 0.2339 - accuracy: 0.4545 - val_loss: 0.0688 - val_mse: 0.0688 - val_mae: 0.1809 - val_accuracy: 0.0000e+00\n",
      "Epoch 100/10000\n",
      "1/1 [==============================] - 0s 94ms/step - loss: 0.1342 - mse: 0.1342 - mae: 0.2321 - accuracy: 0.4545 - val_loss: 0.0684 - val_mse: 0.0684 - val_mae: 0.1805 - val_accuracy: 0.0000e+00\n",
      "Epoch 101/10000\n",
      "1/1 [==============================] - 0s 99ms/step - loss: 0.1320 - mse: 0.1320 - mae: 0.2304 - accuracy: 0.4545 - val_loss: 0.0681 - val_mse: 0.0681 - val_mae: 0.1801 - val_accuracy: 0.0000e+00\n",
      "Epoch 102/10000\n",
      "1/1 [==============================] - 0s 93ms/step - loss: 0.1300 - mse: 0.1300 - mae: 0.2287 - accuracy: 0.4545 - val_loss: 0.0678 - val_mse: 0.0678 - val_mae: 0.1799 - val_accuracy: 0.0000e+00\n",
      "Epoch 103/10000\n",
      "1/1 [==============================] - 0s 95ms/step - loss: 0.1279 - mse: 0.1279 - mae: 0.2270 - accuracy: 0.4545 - val_loss: 0.0676 - val_mse: 0.0676 - val_mae: 0.1797 - val_accuracy: 0.0000e+00\n",
      "Epoch 104/10000\n",
      "1/1 [==============================] - 0s 100ms/step - loss: 0.1259 - mse: 0.1259 - mae: 0.2253 - accuracy: 0.4545 - val_loss: 0.0674 - val_mse: 0.0674 - val_mae: 0.1795 - val_accuracy: 0.0000e+00\n",
      "Epoch 105/10000\n",
      "1/1 [==============================] - 0s 95ms/step - loss: 0.1239 - mse: 0.1239 - mae: 0.2236 - accuracy: 0.4545 - val_loss: 0.0673 - val_mse: 0.0673 - val_mae: 0.1793 - val_accuracy: 0.0000e+00\n",
      "Epoch 106/10000\n",
      "1/1 [==============================] - 0s 99ms/step - loss: 0.1219 - mse: 0.1219 - mae: 0.2220 - accuracy: 0.4545 - val_loss: 0.0672 - val_mse: 0.0672 - val_mae: 0.1793 - val_accuracy: 0.0000e+00\n",
      "Epoch 107/10000\n",
      "1/1 [==============================] - 0s 95ms/step - loss: 0.1200 - mse: 0.1200 - mae: 0.2204 - accuracy: 0.4545 - val_loss: 0.0672 - val_mse: 0.0672 - val_mae: 0.1795 - val_accuracy: 0.0000e+00\n",
      "Epoch 108/10000\n",
      "1/1 [==============================] - 0s 94ms/step - loss: 0.1181 - mse: 0.1181 - mae: 0.2188 - accuracy: 0.4545 - val_loss: 0.0672 - val_mse: 0.0672 - val_mae: 0.1796 - val_accuracy: 0.0000e+00\n",
      "Epoch 109/10000\n",
      "1/1 [==============================] - 0s 91ms/step - loss: 0.1162 - mse: 0.1162 - mae: 0.2172 - accuracy: 0.4545 - val_loss: 0.0673 - val_mse: 0.0673 - val_mae: 0.1798 - val_accuracy: 0.0000e+00\n",
      "Epoch 110/10000\n",
      "1/1 [==============================] - 0s 86ms/step - loss: 0.1144 - mse: 0.1144 - mae: 0.2156 - accuracy: 0.4545 - val_loss: 0.0675 - val_mse: 0.0675 - val_mae: 0.1801 - val_accuracy: 0.0000e+00\n",
      "Epoch 111/10000\n",
      "1/1 [==============================] - 0s 90ms/step - loss: 0.1125 - mse: 0.1125 - mae: 0.2140 - accuracy: 0.4545 - val_loss: 0.0676 - val_mse: 0.0676 - val_mae: 0.1803 - val_accuracy: 0.0000e+00\n",
      "Epoch 112/10000\n",
      "1/1 [==============================] - 0s 88ms/step - loss: 0.1108 - mse: 0.1108 - mae: 0.2124 - accuracy: 0.4545 - val_loss: 0.0678 - val_mse: 0.0678 - val_mae: 0.1806 - val_accuracy: 0.0000e+00\n",
      "Epoch 113/10000\n",
      "1/1 [==============================] - 0s 99ms/step - loss: 0.1090 - mse: 0.1090 - mae: 0.2109 - accuracy: 0.5000 - val_loss: 0.0680 - val_mse: 0.0680 - val_mae: 0.1809 - val_accuracy: 0.0000e+00\n",
      "Epoch 114/10000\n",
      "1/1 [==============================] - 0s 96ms/step - loss: 0.1073 - mse: 0.1073 - mae: 0.2093 - accuracy: 0.5000 - val_loss: 0.0682 - val_mse: 0.0682 - val_mae: 0.1812 - val_accuracy: 0.0000e+00\n",
      "Epoch 115/10000\n",
      "1/1 [==============================] - 0s 91ms/step - loss: 0.1055 - mse: 0.1055 - mae: 0.2078 - accuracy: 0.5000 - val_loss: 0.0684 - val_mse: 0.0684 - val_mae: 0.1816 - val_accuracy: 0.0000e+00\n",
      "Epoch 116/10000\n",
      "1/1 [==============================] - 0s 95ms/step - loss: 0.1039 - mse: 0.1039 - mae: 0.2063 - accuracy: 0.5000 - val_loss: 0.0685 - val_mse: 0.0685 - val_mae: 0.1819 - val_accuracy: 0.0000e+00\n",
      "Epoch 117/10000\n",
      "1/1 [==============================] - 0s 94ms/step - loss: 0.1022 - mse: 0.1022 - mae: 0.2047 - accuracy: 0.5000 - val_loss: 0.0687 - val_mse: 0.0687 - val_mae: 0.1822 - val_accuracy: 0.0000e+00\n",
      "Epoch 118/10000\n",
      "1/1 [==============================] - 0s 90ms/step - loss: 0.1005 - mse: 0.1005 - mae: 0.2031 - accuracy: 0.5000 - val_loss: 0.0688 - val_mse: 0.0688 - val_mae: 0.1824 - val_accuracy: 0.0000e+00\n",
      "Epoch 119/10000\n",
      "1/1 [==============================] - 0s 93ms/step - loss: 0.0989 - mse: 0.0989 - mae: 0.2016 - accuracy: 0.5000 - val_loss: 0.0689 - val_mse: 0.0689 - val_mae: 0.1828 - val_accuracy: 0.0000e+00\n",
      "Epoch 120/10000\n",
      "1/1 [==============================] - 0s 93ms/step - loss: 0.0973 - mse: 0.0973 - mae: 0.2000 - accuracy: 0.5000 - val_loss: 0.0691 - val_mse: 0.0691 - val_mae: 0.1833 - val_accuracy: 0.0000e+00\n",
      "Epoch 121/10000\n",
      "1/1 [==============================] - 0s 99ms/step - loss: 0.0957 - mse: 0.0957 - mae: 0.1985 - accuracy: 0.5455 - val_loss: 0.0691 - val_mse: 0.0691 - val_mae: 0.1838 - val_accuracy: 0.0000e+00\n",
      "Epoch 122/10000\n",
      "1/1 [==============================] - 0s 96ms/step - loss: 0.0942 - mse: 0.0942 - mae: 0.1969 - accuracy: 0.5455 - val_loss: 0.0692 - val_mse: 0.0692 - val_mae: 0.1843 - val_accuracy: 0.0000e+00\n",
      "Epoch 123/10000\n",
      "1/1 [==============================] - 0s 89ms/step - loss: 0.0926 - mse: 0.0926 - mae: 0.1954 - accuracy: 0.5455 - val_loss: 0.0692 - val_mse: 0.0692 - val_mae: 0.1847 - val_accuracy: 0.0000e+00\n",
      "Epoch 124/10000\n",
      "1/1 [==============================] - 0s 89ms/step - loss: 0.0911 - mse: 0.0911 - mae: 0.1939 - accuracy: 0.5455 - val_loss: 0.0691 - val_mse: 0.0691 - val_mae: 0.1848 - val_accuracy: 0.0000e+00\n",
      "Epoch 125/10000\n",
      "1/1 [==============================] - 0s 95ms/step - loss: 0.0896 - mse: 0.0896 - mae: 0.1924 - accuracy: 0.5455 - val_loss: 0.0690 - val_mse: 0.0690 - val_mae: 0.1847 - val_accuracy: 0.0000e+00\n",
      "Epoch 126/10000\n",
      "1/1 [==============================] - 0s 99ms/step - loss: 0.0882 - mse: 0.0882 - mae: 0.1909 - accuracy: 0.5455 - val_loss: 0.0689 - val_mse: 0.0689 - val_mae: 0.1846 - val_accuracy: 0.0000e+00\n",
      "Epoch 127/10000\n",
      "1/1 [==============================] - 0s 93ms/step - loss: 0.0867 - mse: 0.0867 - mae: 0.1894 - accuracy: 0.5455 - val_loss: 0.0688 - val_mse: 0.0688 - val_mae: 0.1846 - val_accuracy: 0.0000e+00\n",
      "Epoch 128/10000\n",
      "1/1 [==============================] - 0s 89ms/step - loss: 0.0853 - mse: 0.0853 - mae: 0.1880 - accuracy: 0.5455 - val_loss: 0.0689 - val_mse: 0.0689 - val_mae: 0.1846 - val_accuracy: 0.0000e+00\n",
      "Epoch 129/10000\n",
      "1/1 [==============================] - 0s 88ms/step - loss: 0.0838 - mse: 0.0838 - mae: 0.1865 - accuracy: 0.5455 - val_loss: 0.0690 - val_mse: 0.0690 - val_mae: 0.1848 - val_accuracy: 0.0000e+00\n",
      "Epoch 130/10000\n",
      "1/1 [==============================] - 0s 88ms/step - loss: 0.0824 - mse: 0.0824 - mae: 0.1851 - accuracy: 0.5455 - val_loss: 0.0692 - val_mse: 0.0692 - val_mae: 0.1852 - val_accuracy: 0.0000e+00\n",
      "Epoch 131/10000\n",
      "1/1 [==============================] - 0s 96ms/step - loss: 0.0810 - mse: 0.0810 - mae: 0.1838 - accuracy: 0.5455 - val_loss: 0.0692 - val_mse: 0.0692 - val_mae: 0.1855 - val_accuracy: 0.0000e+00\n",
      "Epoch 132/10000\n",
      "1/1 [==============================] - 0s 156ms/step - loss: 0.0796 - mse: 0.0796 - mae: 0.1824 - accuracy: 0.5455 - val_loss: 0.0691 - val_mse: 0.0691 - val_mae: 0.1854 - val_accuracy: 0.0000e+00\n",
      "Epoch 133/10000\n",
      "1/1 [==============================] - 0s 87ms/step - loss: 0.0782 - mse: 0.0782 - mae: 0.1810 - accuracy: 0.5455 - val_loss: 0.0689 - val_mse: 0.0689 - val_mae: 0.1852 - val_accuracy: 0.0000e+00\n",
      "Epoch 134/10000\n",
      "1/1 [==============================] - 0s 92ms/step - loss: 0.0769 - mse: 0.0769 - mae: 0.1796 - accuracy: 0.5455 - val_loss: 0.0688 - val_mse: 0.0688 - val_mae: 0.1849 - val_accuracy: 0.0000e+00\n",
      "Epoch 135/10000\n",
      "1/1 [==============================] - 0s 96ms/step - loss: 0.0755 - mse: 0.0755 - mae: 0.1782 - accuracy: 0.5455 - val_loss: 0.0685 - val_mse: 0.0685 - val_mae: 0.1845 - val_accuracy: 0.0000e+00\n",
      "Epoch 136/10000\n",
      "1/1 [==============================] - 0s 95ms/step - loss: 0.0741 - mse: 0.0741 - mae: 0.1769 - accuracy: 0.5455 - val_loss: 0.0683 - val_mse: 0.0683 - val_mae: 0.1842 - val_accuracy: 0.0000e+00\n",
      "Epoch 137/10000\n",
      "1/1 [==============================] - 0s 90ms/step - loss: 0.0728 - mse: 0.0728 - mae: 0.1756 - accuracy: 0.5455 - val_loss: 0.0680 - val_mse: 0.0680 - val_mae: 0.1839 - val_accuracy: 0.0000e+00\n",
      "Epoch 137: early stopping\n",
      "1/1 [==============================] - 0s 20ms/step - loss: 0.0712 - mse: 0.0712 - mae: 0.1751 - accuracy: 0.5000\n",
      "Model: \"sequential_37\"\n",
      "_________________________________________________________________\n",
      " Layer (type)                Output Shape              Param #   \n",
      "=================================================================\n",
      " conv1d_84 (Conv1D)          (None, 72, 4)             16        \n",
      "                                                                 \n",
      " max_pooling1d_62 (MaxPoolin  (None, 36, 4)            0         \n",
      " g1D)                                                            \n",
      "                                                                 \n",
      " conv1d_85 (Conv1D)          (None, 34, 8)             104       \n",
      "                                                                 \n",
      " max_pooling1d_63 (MaxPoolin  (None, 17, 8)            0         \n",
      " g1D)                                                            \n",
      "                                                                 \n",
      " flatten_32 (Flatten)        (None, 136)               0         \n",
      "                                                                 \n",
      " dense_43 (Dense)            (None, 50)                6850      \n",
      "                                                                 \n",
      " dense_44 (Dense)            (None, 74)                3774      \n",
      "                                                                 \n",
      "=================================================================\n",
      "Total params: 10,744\n",
      "Trainable params: 10,744\n",
      "Non-trainable params: 0\n",
      "_________________________________________________________________\n"
     ]
    }
   ],
   "source": [
    "m=cnn_model(all_data)\n",
    "\n",
    "m.summary()"
   ]
  },
  {
   "cell_type": "code",
   "execution_count": 175,
   "metadata": {},
   "outputs": [
    {
     "data": {
      "application/vnd.plotly.v1+json": {
       "config": {
        "plotlyServerURL": "https://plot.ly"
       },
       "data": [
        {
         "hovertemplate": "x=%{x}<br>y=%{y}<extra></extra>",
         "legendgroup": "",
         "line": {
          "color": "#636efa",
          "dash": "solid"
         },
         "marker": {
          "symbol": "circle"
         },
         "mode": "lines",
         "name": "",
         "orientation": "v",
         "showlegend": false,
         "type": "scatter",
         "x": [
          0,
          1,
          2,
          3,
          4,
          5,
          6,
          7,
          8,
          9,
          10,
          11,
          12,
          13,
          14,
          15,
          16,
          17,
          18,
          19,
          20,
          21,
          22,
          23
         ],
         "xaxis": "x",
         "y": [
          0.28078608839325037,
          0.23325588230130725,
          0.19654003544328627,
          0.14589621715804607,
          0.058151895976817164,
          0.1800606585443128,
          0.08738151245200666,
          0.3746925126405174,
          0.20566817391901554,
          0.2265301468787193,
          0.1196874144429853,
          0.15333961639877453,
          0.11506625132955581,
          0.12430105625444443,
          0.21412897996156324,
          0.049535917657944156,
          0.20774199426704093,
          0.17312518592381737,
          0.1304303996551707,
          0.11879857321427212,
          0.21263494160997665,
          0.2257510556961989,
          0.18647737808269504,
          0.18131584078994978
         ],
         "yaxis": "y"
        }
       ],
       "layout": {
        "legend": {
         "tracegroupgap": 0
        },
        "margin": {
         "t": 60
        },
        "template": {
         "data": {
          "bar": [
           {
            "error_x": {
             "color": "#2a3f5f"
            },
            "error_y": {
             "color": "#2a3f5f"
            },
            "marker": {
             "line": {
              "color": "#E5ECF6",
              "width": 0.5
             },
             "pattern": {
              "fillmode": "overlay",
              "size": 10,
              "solidity": 0.2
             }
            },
            "type": "bar"
           }
          ],
          "barpolar": [
           {
            "marker": {
             "line": {
              "color": "#E5ECF6",
              "width": 0.5
             },
             "pattern": {
              "fillmode": "overlay",
              "size": 10,
              "solidity": 0.2
             }
            },
            "type": "barpolar"
           }
          ],
          "carpet": [
           {
            "aaxis": {
             "endlinecolor": "#2a3f5f",
             "gridcolor": "white",
             "linecolor": "white",
             "minorgridcolor": "white",
             "startlinecolor": "#2a3f5f"
            },
            "baxis": {
             "endlinecolor": "#2a3f5f",
             "gridcolor": "white",
             "linecolor": "white",
             "minorgridcolor": "white",
             "startlinecolor": "#2a3f5f"
            },
            "type": "carpet"
           }
          ],
          "choropleth": [
           {
            "colorbar": {
             "outlinewidth": 0,
             "ticks": ""
            },
            "type": "choropleth"
           }
          ],
          "contour": [
           {
            "colorbar": {
             "outlinewidth": 0,
             "ticks": ""
            },
            "colorscale": [
             [
              0,
              "#0d0887"
             ],
             [
              0.1111111111111111,
              "#46039f"
             ],
             [
              0.2222222222222222,
              "#7201a8"
             ],
             [
              0.3333333333333333,
              "#9c179e"
             ],
             [
              0.4444444444444444,
              "#bd3786"
             ],
             [
              0.5555555555555556,
              "#d8576b"
             ],
             [
              0.6666666666666666,
              "#ed7953"
             ],
             [
              0.7777777777777778,
              "#fb9f3a"
             ],
             [
              0.8888888888888888,
              "#fdca26"
             ],
             [
              1,
              "#f0f921"
             ]
            ],
            "type": "contour"
           }
          ],
          "contourcarpet": [
           {
            "colorbar": {
             "outlinewidth": 0,
             "ticks": ""
            },
            "type": "contourcarpet"
           }
          ],
          "heatmap": [
           {
            "colorbar": {
             "outlinewidth": 0,
             "ticks": ""
            },
            "colorscale": [
             [
              0,
              "#0d0887"
             ],
             [
              0.1111111111111111,
              "#46039f"
             ],
             [
              0.2222222222222222,
              "#7201a8"
             ],
             [
              0.3333333333333333,
              "#9c179e"
             ],
             [
              0.4444444444444444,
              "#bd3786"
             ],
             [
              0.5555555555555556,
              "#d8576b"
             ],
             [
              0.6666666666666666,
              "#ed7953"
             ],
             [
              0.7777777777777778,
              "#fb9f3a"
             ],
             [
              0.8888888888888888,
              "#fdca26"
             ],
             [
              1,
              "#f0f921"
             ]
            ],
            "type": "heatmap"
           }
          ],
          "heatmapgl": [
           {
            "colorbar": {
             "outlinewidth": 0,
             "ticks": ""
            },
            "colorscale": [
             [
              0,
              "#0d0887"
             ],
             [
              0.1111111111111111,
              "#46039f"
             ],
             [
              0.2222222222222222,
              "#7201a8"
             ],
             [
              0.3333333333333333,
              "#9c179e"
             ],
             [
              0.4444444444444444,
              "#bd3786"
             ],
             [
              0.5555555555555556,
              "#d8576b"
             ],
             [
              0.6666666666666666,
              "#ed7953"
             ],
             [
              0.7777777777777778,
              "#fb9f3a"
             ],
             [
              0.8888888888888888,
              "#fdca26"
             ],
             [
              1,
              "#f0f921"
             ]
            ],
            "type": "heatmapgl"
           }
          ],
          "histogram": [
           {
            "marker": {
             "pattern": {
              "fillmode": "overlay",
              "size": 10,
              "solidity": 0.2
             }
            },
            "type": "histogram"
           }
          ],
          "histogram2d": [
           {
            "colorbar": {
             "outlinewidth": 0,
             "ticks": ""
            },
            "colorscale": [
             [
              0,
              "#0d0887"
             ],
             [
              0.1111111111111111,
              "#46039f"
             ],
             [
              0.2222222222222222,
              "#7201a8"
             ],
             [
              0.3333333333333333,
              "#9c179e"
             ],
             [
              0.4444444444444444,
              "#bd3786"
             ],
             [
              0.5555555555555556,
              "#d8576b"
             ],
             [
              0.6666666666666666,
              "#ed7953"
             ],
             [
              0.7777777777777778,
              "#fb9f3a"
             ],
             [
              0.8888888888888888,
              "#fdca26"
             ],
             [
              1,
              "#f0f921"
             ]
            ],
            "type": "histogram2d"
           }
          ],
          "histogram2dcontour": [
           {
            "colorbar": {
             "outlinewidth": 0,
             "ticks": ""
            },
            "colorscale": [
             [
              0,
              "#0d0887"
             ],
             [
              0.1111111111111111,
              "#46039f"
             ],
             [
              0.2222222222222222,
              "#7201a8"
             ],
             [
              0.3333333333333333,
              "#9c179e"
             ],
             [
              0.4444444444444444,
              "#bd3786"
             ],
             [
              0.5555555555555556,
              "#d8576b"
             ],
             [
              0.6666666666666666,
              "#ed7953"
             ],
             [
              0.7777777777777778,
              "#fb9f3a"
             ],
             [
              0.8888888888888888,
              "#fdca26"
             ],
             [
              1,
              "#f0f921"
             ]
            ],
            "type": "histogram2dcontour"
           }
          ],
          "mesh3d": [
           {
            "colorbar": {
             "outlinewidth": 0,
             "ticks": ""
            },
            "type": "mesh3d"
           }
          ],
          "parcoords": [
           {
            "line": {
             "colorbar": {
              "outlinewidth": 0,
              "ticks": ""
             }
            },
            "type": "parcoords"
           }
          ],
          "pie": [
           {
            "automargin": true,
            "type": "pie"
           }
          ],
          "scatter": [
           {
            "fillpattern": {
             "fillmode": "overlay",
             "size": 10,
             "solidity": 0.2
            },
            "type": "scatter"
           }
          ],
          "scatter3d": [
           {
            "line": {
             "colorbar": {
              "outlinewidth": 0,
              "ticks": ""
             }
            },
            "marker": {
             "colorbar": {
              "outlinewidth": 0,
              "ticks": ""
             }
            },
            "type": "scatter3d"
           }
          ],
          "scattercarpet": [
           {
            "marker": {
             "colorbar": {
              "outlinewidth": 0,
              "ticks": ""
             }
            },
            "type": "scattercarpet"
           }
          ],
          "scattergeo": [
           {
            "marker": {
             "colorbar": {
              "outlinewidth": 0,
              "ticks": ""
             }
            },
            "type": "scattergeo"
           }
          ],
          "scattergl": [
           {
            "marker": {
             "colorbar": {
              "outlinewidth": 0,
              "ticks": ""
             }
            },
            "type": "scattergl"
           }
          ],
          "scattermapbox": [
           {
            "marker": {
             "colorbar": {
              "outlinewidth": 0,
              "ticks": ""
             }
            },
            "type": "scattermapbox"
           }
          ],
          "scatterpolar": [
           {
            "marker": {
             "colorbar": {
              "outlinewidth": 0,
              "ticks": ""
             }
            },
            "type": "scatterpolar"
           }
          ],
          "scatterpolargl": [
           {
            "marker": {
             "colorbar": {
              "outlinewidth": 0,
              "ticks": ""
             }
            },
            "type": "scatterpolargl"
           }
          ],
          "scatterternary": [
           {
            "marker": {
             "colorbar": {
              "outlinewidth": 0,
              "ticks": ""
             }
            },
            "type": "scatterternary"
           }
          ],
          "surface": [
           {
            "colorbar": {
             "outlinewidth": 0,
             "ticks": ""
            },
            "colorscale": [
             [
              0,
              "#0d0887"
             ],
             [
              0.1111111111111111,
              "#46039f"
             ],
             [
              0.2222222222222222,
              "#7201a8"
             ],
             [
              0.3333333333333333,
              "#9c179e"
             ],
             [
              0.4444444444444444,
              "#bd3786"
             ],
             [
              0.5555555555555556,
              "#d8576b"
             ],
             [
              0.6666666666666666,
              "#ed7953"
             ],
             [
              0.7777777777777778,
              "#fb9f3a"
             ],
             [
              0.8888888888888888,
              "#fdca26"
             ],
             [
              1,
              "#f0f921"
             ]
            ],
            "type": "surface"
           }
          ],
          "table": [
           {
            "cells": {
             "fill": {
              "color": "#EBF0F8"
             },
             "line": {
              "color": "white"
             }
            },
            "header": {
             "fill": {
              "color": "#C8D4E3"
             },
             "line": {
              "color": "white"
             }
            },
            "type": "table"
           }
          ]
         },
         "layout": {
          "annotationdefaults": {
           "arrowcolor": "#2a3f5f",
           "arrowhead": 0,
           "arrowwidth": 1
          },
          "autotypenumbers": "strict",
          "coloraxis": {
           "colorbar": {
            "outlinewidth": 0,
            "ticks": ""
           }
          },
          "colorscale": {
           "diverging": [
            [
             0,
             "#8e0152"
            ],
            [
             0.1,
             "#c51b7d"
            ],
            [
             0.2,
             "#de77ae"
            ],
            [
             0.3,
             "#f1b6da"
            ],
            [
             0.4,
             "#fde0ef"
            ],
            [
             0.5,
             "#f7f7f7"
            ],
            [
             0.6,
             "#e6f5d0"
            ],
            [
             0.7,
             "#b8e186"
            ],
            [
             0.8,
             "#7fbc41"
            ],
            [
             0.9,
             "#4d9221"
            ],
            [
             1,
             "#276419"
            ]
           ],
           "sequential": [
            [
             0,
             "#0d0887"
            ],
            [
             0.1111111111111111,
             "#46039f"
            ],
            [
             0.2222222222222222,
             "#7201a8"
            ],
            [
             0.3333333333333333,
             "#9c179e"
            ],
            [
             0.4444444444444444,
             "#bd3786"
            ],
            [
             0.5555555555555556,
             "#d8576b"
            ],
            [
             0.6666666666666666,
             "#ed7953"
            ],
            [
             0.7777777777777778,
             "#fb9f3a"
            ],
            [
             0.8888888888888888,
             "#fdca26"
            ],
            [
             1,
             "#f0f921"
            ]
           ],
           "sequentialminus": [
            [
             0,
             "#0d0887"
            ],
            [
             0.1111111111111111,
             "#46039f"
            ],
            [
             0.2222222222222222,
             "#7201a8"
            ],
            [
             0.3333333333333333,
             "#9c179e"
            ],
            [
             0.4444444444444444,
             "#bd3786"
            ],
            [
             0.5555555555555556,
             "#d8576b"
            ],
            [
             0.6666666666666666,
             "#ed7953"
            ],
            [
             0.7777777777777778,
             "#fb9f3a"
            ],
            [
             0.8888888888888888,
             "#fdca26"
            ],
            [
             1,
             "#f0f921"
            ]
           ]
          },
          "colorway": [
           "#636efa",
           "#EF553B",
           "#00cc96",
           "#ab63fa",
           "#FFA15A",
           "#19d3f3",
           "#FF6692",
           "#B6E880",
           "#FF97FF",
           "#FECB52"
          ],
          "font": {
           "color": "#2a3f5f"
          },
          "geo": {
           "bgcolor": "white",
           "lakecolor": "white",
           "landcolor": "#E5ECF6",
           "showlakes": true,
           "showland": true,
           "subunitcolor": "white"
          },
          "hoverlabel": {
           "align": "left"
          },
          "hovermode": "closest",
          "mapbox": {
           "style": "light"
          },
          "paper_bgcolor": "white",
          "plot_bgcolor": "#E5ECF6",
          "polar": {
           "angularaxis": {
            "gridcolor": "white",
            "linecolor": "white",
            "ticks": ""
           },
           "bgcolor": "#E5ECF6",
           "radialaxis": {
            "gridcolor": "white",
            "linecolor": "white",
            "ticks": ""
           }
          },
          "scene": {
           "xaxis": {
            "backgroundcolor": "#E5ECF6",
            "gridcolor": "white",
            "gridwidth": 2,
            "linecolor": "white",
            "showbackground": true,
            "ticks": "",
            "zerolinecolor": "white"
           },
           "yaxis": {
            "backgroundcolor": "#E5ECF6",
            "gridcolor": "white",
            "gridwidth": 2,
            "linecolor": "white",
            "showbackground": true,
            "ticks": "",
            "zerolinecolor": "white"
           },
           "zaxis": {
            "backgroundcolor": "#E5ECF6",
            "gridcolor": "white",
            "gridwidth": 2,
            "linecolor": "white",
            "showbackground": true,
            "ticks": "",
            "zerolinecolor": "white"
           }
          },
          "shapedefaults": {
           "line": {
            "color": "#2a3f5f"
           }
          },
          "ternary": {
           "aaxis": {
            "gridcolor": "white",
            "linecolor": "white",
            "ticks": ""
           },
           "baxis": {
            "gridcolor": "white",
            "linecolor": "white",
            "ticks": ""
           },
           "bgcolor": "#E5ECF6",
           "caxis": {
            "gridcolor": "white",
            "linecolor": "white",
            "ticks": ""
           }
          },
          "title": {
           "x": 0.05
          },
          "xaxis": {
           "automargin": true,
           "gridcolor": "white",
           "linecolor": "white",
           "ticks": "",
           "title": {
            "standoff": 15
           },
           "zerolinecolor": "white",
           "zerolinewidth": 2
          },
          "yaxis": {
           "automargin": true,
           "gridcolor": "white",
           "linecolor": "white",
           "ticks": "",
           "title": {
            "standoff": 15
           },
           "zerolinecolor": "white",
           "zerolinewidth": 2
          }
         }
        },
        "xaxis": {
         "anchor": "y",
         "domain": [
          0,
          1
         ],
         "title": {
          "text": "x"
         }
        },
        "yaxis": {
         "anchor": "x",
         "domain": [
          0,
          1
         ],
         "title": {
          "text": "y"
         }
        }
       }
      }
     },
     "metadata": {},
     "output_type": "display_data"
    }
   ],
   "source": [
    "import matplotlib.pyplot as plt\n",
    "data_mod=data_feed(all_data)\n",
    "reconstructions = m.predict(data_mod[0])\n",
    "train_loss = tf.keras.losses.mae(reconstructions, data_mod[0])\n",
    "\n",
    "import plotly.express as px\n",
    "import numpy as np\n",
    "df_loss = pd.DataFrame(train_loss)\n",
    "x=range(0,len(df_loss))\n",
    "y=df_loss.iloc[:,0]\n",
    "fig = px.line(x=x,y=y)\n",
    "fig.show()"
   ]
  },
  {
   "cell_type": "code",
   "execution_count": 179,
   "metadata": {},
   "outputs": [
    {
     "data": {
      "text/plain": [
       "<function matplotlib.pyplot.show(close=None, block=None)>"
      ]
     },
     "execution_count": 179,
     "metadata": {},
     "output_type": "execute_result"
    },
    {
     "data": {
      "image/png": "[encoded data removed]",
      "text/plain": [
       "<Figure size 432x288 with 1 Axes>"
      ]
     },
     "metadata": {
      "needs_background": "light"
     },
     "output_type": "display_data"
    }
   ],
   "source": [
    "x=list(range(0,len(pd.DataFrame(data_mod[0]).iloc[:,1])))\n",
    "y=pd.DataFrame(reconstructions).iloc[:,2]\n",
    "x1=list(range(0,len(pd.DataFrame(data_mod[0]).iloc[:,1])))\n",
    "y1=pd.DataFrame(data_mod[0]).iloc[:,2]\n",
    "plt.plot(x,y)\n",
    "plt.plot(x1,y1)\n",
    "# plt.plot(x1,y1)\n",
    "plt.show\n"
   ]
  },
  {
   "cell_type": "code",
   "execution_count": 183,
   "metadata": {},
   "outputs": [
    {
     "data": {
      "text/plain": [
       "<function matplotlib.pyplot.show(close=None, block=None)>"
      ]
     },
     "execution_count": 183,
     "metadata": {},
     "output_type": "execute_result"
    },
    {
     "data": {
      "image/png": "[encoded data removed]",
      "text/plain": [
       "<Figure size 432x288 with 1 Axes>"
      ]
     },
     "metadata": {
      "needs_background": "light"
     },
     "output_type": "display_data"
    }
   ],
   "source": [
    "reconstructions_test = m.predict(data_mod[1])\n",
    "x=list(range(0,len(pd.DataFrame(data_mod[1]).iloc[:,0])))\n",
    "y=pd.DataFrame(reconstructions_test).iloc[:,4]\n",
    "x1=list(range(0,len(pd.DataFrame(data_mod[1]).iloc[:,1])))\n",
    "y1=pd.DataFrame(data_mod[1]).iloc[:,4]\n",
    "plt.plot(x,y)\n",
    "plt.plot(x1,y1)\n",
    "# plt.plot(x1,y1)\n",
    "plt.show"
   ]
  },
  {
   "cell_type": "code",
   "execution_count": null,
   "metadata": {},
   "outputs": [],
   "source": []
  }
 ],
 "metadata": {
  "kernelspec": {
   "display_name": "Python 3.9.7 64-bit",
   "language": "python",
   "name": "python3"
  },
  "language_info": {
   "codemirror_mode": {
    "name": "ipython",
    "version": 3
   },
   "file_extension": ".py",
   "mimetype": "text/x-python",
   "name": "python",
   "nbconvert_exporter": "python",
   "pygments_lexer": "ipython3",
   "version": "3.9.7"
  },
  "orig_nbformat": 4,
  "vscode": {
   "interpreter": {
    "hash": "c347c8f9a7ef94e4c9e03b4513be7835ed18f45b99a2a817fb579f408b867b16"
   }
  }
 },
 "nbformat": 4,
 "nbformat_minor": 2
}
