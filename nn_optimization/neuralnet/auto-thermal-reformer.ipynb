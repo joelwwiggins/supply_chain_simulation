{
  "cells": [
    {
      "cell_type": "markdown",
      "metadata": {
        "id": "1ssCQLHXv7u2"
      },
      "source": [
        "# ML Surrogates for Chemical Processes with OMLT\n",
        "This notebook illustrates the use of TensorFlow Keras and OMLT to produce an ML surrogate based on data from a chemical process flowsheet.\n",
        "\n",
        "There are several reasons to build surrogate models for complex processes, even when higher fidelity models already exist (e.g., reduce model size, improve convergence reliability, replace models with externally compiled code and make them fully-equation oriented).\n",
        "\n",
        "In this example, we have an existing model for an auto-thermal reformer flowsheet that has been built using the IDAES-PSE package. IDAES-PSE is a Python package that is built on Pyomo and provides a framework for equation-oriented modeling and analysis of advanced energy systems. We use this package to generate data for our systems, and then we utilize this data in an optimization problem with OMLT. To learn more about IDAES, see the [IDAES-PSE Github Page](https://github.com/IDAES/IDAES-PSE) or [IDAES Read-the-docs](https://idaes-pse.readthedocs.io/en/stable/)."
      ]
    },
    {
      "cell_type": "markdown",
      "metadata": {
        "id": "xXJrPEKkv7u6"
      },
      "source": [
        "## The Auto-thermal Reformer Process\n",
        "\n",
        "The figure below shows the reformer process as modeled in IDAES.\n",
        "\n",
        "![Reformer Flowsheet](https://github.com/joelwwiggins/supply_chain_simulation/blob/main/nn_optimization/images/reformer.png?raw=1)\n",
        "\n",
        "This model has 12 outputs of interest, the steam flowrate, the reformer duty, and the properties of the outlet stream, including temperature, pressure, and composition. We are interested modeling how these outputs change as a function of two operating (or input) variables: \n",
        "- the fraction of natural gas that bypasses the reformer\n",
        "- steam to natural gas flow ratio\n",
        "\n",
        "We have already used IDAES to generate a CSV file that contains the input and output data for 2800 data points for our system.\n",
        "\n",
        "In this example, we will train a neural network model with sigmoid activations from our process data and then demonstrate that we can solve an optimization problem with that surrogate model. In realistic applications, this surrogate model would form part of a design or operations problem with a much larger flowsheet. "
      ]
    },
    {
      "cell_type": "code",
      "execution_count": 2,
      "metadata": {
        "colab": {
          "base_uri": "https://localhost:8080/"
        },
        "id": "N9IICxfkv7u7",
        "outputId": "2d27669d-443c-46ab-a0cb-a903a332c9aa"
      },
      "outputs": [
        {
          "name": "stdout",
          "output_type": "stream",
          "text": [
            "Looking in indexes: https://pypi.org/simple, https://us-python.pkg.dev/colab-wheels/public/simple/\n",
            "Collecting omlt\n",
            "  Downloading omlt-1.0-py2.py3-none-any.whl (29 kB)\n",
            "Requirement already satisfied: networkx in /usr/local/lib/python3.7/dist-packages (from omlt) (2.6.3)\n",
            "Collecting pyomo\n",
            "  Downloading Pyomo-6.4.1-cp37-cp37m-manylinux_2_12_x86_64.manylinux2010_x86_64.whl (9.6 MB)\n",
            "\u001b[K     |████████████████████████████████| 9.6 MB 20.8 MB/s \n",
            "\u001b[?25hRequirement already satisfied: importlib-metadata in /usr/local/lib/python3.7/dist-packages (from omlt) (4.11.4)\n",
            "Requirement already satisfied: numpy in /usr/local/lib/python3.7/dist-packages (from omlt) (1.21.6)\n",
            "Requirement already satisfied: typing-extensions>=3.6.4 in /usr/local/lib/python3.7/dist-packages (from importlib-metadata->omlt) (4.1.1)\n",
            "Requirement already satisfied: zipp>=0.5 in /usr/local/lib/python3.7/dist-packages (from importlib-metadata->omlt) (3.8.0)\n",
            "Collecting ply\n",
            "  Downloading ply-3.11-py2.py3-none-any.whl (49 kB)\n",
            "\u001b[K     |████████████████████████████████| 49 kB 5.8 MB/s \n",
            "\u001b[?25hInstalling collected packages: ply, pyomo, omlt\n",
            "Successfully installed omlt-1.0 ply-3.11 pyomo-6.4.1\n",
            "Looking in indexes: https://pypi.org/simple, https://us-python.pkg.dev/colab-wheels/public/simple/\n",
            "Collecting onnx\n",
            "  Downloading onnx-1.12.0-cp37-cp37m-manylinux_2_17_x86_64.manylinux2014_x86_64.whl (13.1 MB)\n",
            "\u001b[K     |████████████████████████████████| 13.1 MB 13.1 MB/s \n",
            "\u001b[?25hRequirement already satisfied: protobuf<=3.20.1,>=3.12.2 in /usr/local/lib/python3.7/dist-packages (from onnx) (3.17.3)\n",
            "Requirement already satisfied: numpy>=1.16.6 in /usr/local/lib/python3.7/dist-packages (from onnx) (1.21.6)\n",
            "Requirement already satisfied: typing-extensions>=3.6.2.1 in /usr/local/lib/python3.7/dist-packages (from onnx) (4.1.1)\n",
            "Requirement already satisfied: six>=1.9 in /usr/local/lib/python3.7/dist-packages (from protobuf<=3.20.1,>=3.12.2->onnx) (1.15.0)\n",
            "Installing collected packages: onnx\n",
            "Successfully installed onnx-1.12.0\n",
            "Looking in indexes: https://pypi.org/simple, https://us-python.pkg.dev/colab-wheels/public/simple/\n",
            "Collecting onyx\n",
            "  Downloading onyx-0.8.11.tar.gz (99 kB)\n",
            "\u001b[K     |████████████████████████████████| 99 kB 582 kB/s \n",
            "\u001b[33mWARNING: Discarding https://files.pythonhosted.org/packages/a4/dc/3bbec75a0dc9d0e687341468f1104cacdf52cdd28976f1c9c568620adc76/onyx-0.8.11.tar.gz#sha256=4d7ee52a94a84fea56ad1e3997e57b5c2a76bdc088f15e494ec832974422f021 (from https://pypi.org/simple/onyx/). Command errored out with exit status 1: python setup.py egg_info Check the logs for full command output.\u001b[0m\n",
            "\u001b[?25h  Downloading onyx-0.8.10.tar.gz (99 kB)\n",
            "\u001b[K     |████████████████████████████████| 99 kB 8.1 MB/s \n",
            "\u001b[33mWARNING: Discarding https://files.pythonhosted.org/packages/d7/29/2bb706a539e39deba11f2d07989d65ef74fbfaa15647a32f7dbf28ef9556/onyx-0.8.10.tar.gz#sha256=2c3da298e74df518a2dbf7fd19c9a72d447100a9970654f7bb978b786bf83706 (from https://pypi.org/simple/onyx/). Command errored out with exit status 1: python setup.py egg_info Check the logs for full command output.\u001b[0m\n",
            "\u001b[?25h  Downloading onyx-0.8.7.zip (177 kB)\n",
            "\u001b[K     |████████████████████████████████| 177 kB 30.5 MB/s \n",
            "\u001b[33mWARNING: Discarding https://files.pythonhosted.org/packages/df/23/6f09eaba88be41efa538463f01ee9005abebb17b3077028946f202507490/onyx-0.8.7.zip#sha256=e792973dd8b7e4427e3a17bfa3312eb6915a1bd8230ea43a5c4bcd771b02aee5 (from https://pypi.org/simple/onyx/). Command errored out with exit status 1: python setup.py egg_info Check the logs for full command output.\u001b[0m\n",
            "\u001b[?25h  Downloading onyx-0.8.5.zip (176 kB)\n",
            "\u001b[K     |████████████████████████████████| 176 kB 34.3 MB/s \n",
            "\u001b[33mWARNING: Discarding https://files.pythonhosted.org/packages/63/dd/104e0ff6a6809350fdcc1835b0095a9f4c6b4032affe32604ffe1451ec2f/onyx-0.8.5.zip#sha256=21da4af81e261b190b50ecc5f1ad2d276bd7f1534b3a06c8d421639eda625d98 (from https://pypi.org/simple/onyx/). Command errored out with exit status 1: python setup.py egg_info Check the logs for full command output.\u001b[0m\n",
            "\u001b[?25h  Downloading onyx-0.7.13.zip (93 kB)\n",
            "\u001b[K     |████████████████████████████████| 93 kB 1.9 MB/s \n",
            "\u001b[33mWARNING: Discarding https://files.pythonhosted.org/packages/06/5f/89131e123a2d94f880cf791f5cad5dca87ae16ea41b816940e89e25f015a/onyx-0.7.13.zip#sha256=12d4720888120cf5ef06a0d592ea0db3425ea184246d476ac8ff696a4a8bcd24 (from https://pypi.org/simple/onyx/). Command errored out with exit status 1: python setup.py egg_info Check the logs for full command output.\u001b[0m\n",
            "\u001b[?25h  Downloading onyx-0.7.12.zip (93 kB)\n",
            "\u001b[K     |████████████████████████████████| 93 kB 1.7 MB/s \n",
            "\u001b[33mWARNING: Discarding https://files.pythonhosted.org/packages/59/4c/3539ee9206078b1f743b9fa2d69db3206110b37be9ed07589925e3822341/onyx-0.7.12.zip#sha256=00b4799dbb3dd9caf730e6b5dd9c6a3b9085abd7cea2bd6582d70dd7ce71040f (from https://pypi.org/simple/onyx/). Command errored out with exit status 1: python setup.py egg_info Check the logs for full command output.\u001b[0m\n",
            "\u001b[?25h  Downloading onyx-0.7.11.zip (93 kB)\n",
            "\u001b[K     |████████████████████████████████| 93 kB 1.6 MB/s \n",
            "\u001b[33mWARNING: Discarding https://files.pythonhosted.org/packages/55/98/6c6cb82e3a54826402ae9916bdf5a308f9f23b866d1fc057685d126a6659/onyx-0.7.11.zip#sha256=3757c11642fc236abe24760991a1b50c4ca14483560c0b6253941f35e72e2fe3 (from https://pypi.org/simple/onyx/). Command errored out with exit status 1: python setup.py egg_info Check the logs for full command output.\u001b[0m\n",
            "\u001b[?25h  Downloading onyx-0.7.10.tar.gz (54 kB)\n",
            "\u001b[K     |████████████████████████████████| 54 kB 2.9 MB/s \n",
            "\u001b[33mWARNING: Discarding https://files.pythonhosted.org/packages/39/ed/659ea073630ac6eaae46dcc7b8bce6a8b28a3bbd3c9181a12badd80f2d2d/onyx-0.7.10.tar.gz#sha256=5e19496c44f4ee522679b2f6d65c76f700f34e7678d6d06b446b2d42c0bb0d9c (from https://pypi.org/simple/onyx/). Command errored out with exit status 1: python setup.py egg_info Check the logs for full command output.\u001b[0m\n",
            "\u001b[?25h  Downloading onyx-0.7.8.zip (91 kB)\n",
            "\u001b[K     |████████████████████████████████| 91 kB 10.2 MB/s \n",
            "\u001b[33mWARNING: Discarding https://files.pythonhosted.org/packages/a9/db/f906dd97f5126111f4edc3c03ff93bfc635b9051d122438c93b314f0a1a7/onyx-0.7.8.zip#sha256=22933b247185dd92db29f7259d57633a007ce00b6d770ff37d926dfcbb94bdaa (from https://pypi.org/simple/onyx/). Command errored out with exit status 1: python setup.py egg_info Check the logs for full command output.\u001b[0m\n",
            "\u001b[?25h  Downloading onyx-0.7.7.zip (91 kB)\n",
            "\u001b[K     |████████████████████████████████| 91 kB 8.9 MB/s \n",
            "\u001b[33mWARNING: Discarding https://files.pythonhosted.org/packages/c5/31/9114bc3017dd4709838dfc1a84aeefca8e1e6ce568266998892cb8844409/onyx-0.7.7.zip#sha256=b15fffd00b40346cc89aa02f2bf219f7fde285717e364976e4cc087e75597f61 (from https://pypi.org/simple/onyx/). Command errored out with exit status 1: python setup.py egg_info Check the logs for full command output.\u001b[0m\n",
            "\u001b[?25h  Downloading onyx-0.7.6.zip (91 kB)\n",
            "\u001b[K     |████████████████████████████████| 91 kB 9.4 MB/s \n",
            "\u001b[33mWARNING: Discarding https://files.pythonhosted.org/packages/39/74/3665040f146afb842e286d9a5452db45bd220996e3fbf0c7243d5ab262e9/onyx-0.7.6.zip#sha256=967995ee1f07f29764c73d0c02faef481648693afb7206de133c99ccb613e260 (from https://pypi.org/simple/onyx/). Command errored out with exit status 1: python setup.py egg_info Check the logs for full command output.\u001b[0m\n",
            "\u001b[?25h  Downloading onyx-0.7.5.zip (90 kB)\n",
            "\u001b[K     |████████████████████████████████| 90 kB 7.6 MB/s \n",
            "\u001b[33mWARNING: Discarding https://files.pythonhosted.org/packages/af/d3/e3796fd8bcb1527efde6f9aa81ac9fcbceeb7fbba8de014366e7eb8ec3e1/onyx-0.7.5.zip#sha256=8a3377ac8f1777adf685a26f39293bc79f176d1e5d47c2d750207d51959f37c7 (from https://pypi.org/simple/onyx/). Command errored out with exit status 1: python setup.py egg_info Check the logs for full command output.\u001b[0m\n",
            "\u001b[?25h  Downloading onyx-0.7.4.tar.gz (52 kB)\n",
            "\u001b[K     |████████████████████████████████| 52 kB 1.6 MB/s \n",
            "\u001b[33mWARNING: Discarding https://files.pythonhosted.org/packages/7f/0e/899df3cd7656521e0cb608f5f67f6df54400dc15f18d6739e707f188100e/onyx-0.7.4.tar.gz#sha256=b252aa11d08a82daefac9e267af4403079dbddcb7142214a91cc87e3f68f3d89 (from https://pypi.org/simple/onyx/). Command errored out with exit status 1: python setup.py egg_info Check the logs for full command output.\u001b[0m\n",
            "\u001b[?25h  Downloading onyx-0.7.3.zip (90 kB)\n",
            "\u001b[K     |████████████████████████████████| 90 kB 5.4 MB/s \n",
            "\u001b[33mWARNING: Discarding https://files.pythonhosted.org/packages/73/f5/e81b0e898751d089c3653a7eb74c3edd4e8e5e1f295470d71773708d2e25/onyx-0.7.3.zip#sha256=8fba9148dd9442074be109472da84acfc4b0e201ea17ef094b5141e2bbdabe50 (from https://pypi.org/simple/onyx/). Command errored out with exit status 1: python setup.py egg_info Check the logs for full command output.\u001b[0m\n",
            "\u001b[?25h  Downloading onyx-0.6.4.zip (89 kB)\n",
            "\u001b[K     |████████████████████████████████| 89 kB 7.3 MB/s \n",
            "\u001b[33mWARNING: Discarding https://files.pythonhosted.org/packages/c9/a9/f3289d425a9cd6835fd51ab0868f4bf617106367115d6778c92641ef3882/onyx-0.6.4.zip#sha256=55ef3e7eae6b40cc57d1bbeac19ec3403b803b46237e009b7fe8fcc659c8c79b (from https://pypi.org/simple/onyx/). Command errored out with exit status 1: python setup.py egg_info Check the logs for full command output.\u001b[0m\n",
            "\u001b[?25h  Downloading onyx-0.6.3.zip (89 kB)\n",
            "\u001b[K     |████████████████████████████████| 89 kB 8.1 MB/s \n",
            "\u001b[33mWARNING: Discarding https://files.pythonhosted.org/packages/de/d4/d109d7b15059b6ebadf1b44924802fb646996c1ff4bc5101d615369a6f71/onyx-0.6.3.zip#sha256=79cc576d498dc4da2d7449c20b2e6eb78d71e52eee95a2f4e1c16e769d60d04e (from https://pypi.org/simple/onyx/). Command errored out with exit status 1: python setup.py egg_info Check the logs for full command output.\u001b[0m\n",
            "\u001b[?25h  Downloading onyx-0.6.2.zip (89 kB)\n",
            "\u001b[K     |████████████████████████████████| 89 kB 5.2 MB/s \n",
            "\u001b[33mWARNING: Discarding https://files.pythonhosted.org/packages/db/c0/8ba3cca80105b516c8146c076bcb36da7ac38cdf13f9eac1f960e5b4f7a1/onyx-0.6.2.zip#sha256=5684ea33017a8af70b858932b03233bb5c7e63720ca9f659946ff516bb08ec7b (from https://pypi.org/simple/onyx/). Command errored out with exit status 1: python setup.py egg_info Check the logs for full command output.\u001b[0m\n",
            "\u001b[?25h  Downloading onyx-0.6.1.tar.gz (53 kB)\n",
            "\u001b[K     |████████████████████████████████| 53 kB 1.5 MB/s \n",
            "\u001b[33mWARNING: Discarding https://files.pythonhosted.org/packages/a1/4c/9b3827aac1c6f7baa7cd7975abeda79370572b541b40d774637b81f60363/onyx-0.6.1.tar.gz#sha256=c667f0220356fa5767f63d8ed009de21437de65c5ade3861c0483d92e4e86ecd (from https://pypi.org/simple/onyx/). Command errored out with exit status 1: python setup.py egg_info Check the logs for full command output.\u001b[0m\n",
            "\u001b[?25h  Downloading onyx-0.5.zip (88 kB)\n",
            "\u001b[K     |████████████████████████████████| 88 kB 7.1 MB/s \n",
            "\u001b[33mWARNING: Discarding https://files.pythonhosted.org/packages/b4/72/5848bdaf4e9229844cd01ea06a3be3dcf601cac5d1531e14f02d1da7c829/onyx-0.5.zip#sha256=d095d2b6bb4278b4312686eb834600ae1320dff473bf24070af2a3126ac24ae9 (from https://pypi.org/simple/onyx/). Command errored out with exit status 1: python setup.py egg_info Check the logs for full command output.\u001b[0m\n",
            "\u001b[?25h  Downloading onyx-0.4.7.tar.gz (52 kB)\n",
            "\u001b[K     |████████████████████████████████| 52 kB 749 kB/s \n",
            "\u001b[33mWARNING: Discarding https://files.pythonhosted.org/packages/81/9b/c74ff8eda10a852229f8daf5ab518727327a8e106ae71503129e0a0a55cd/onyx-0.4.7.tar.gz#sha256=1591fb11bd7d63ce35c2b7b3f591569f6e7e707ccfebd1b451a97756c440cd8a (from https://pypi.org/simple/onyx/). Command errored out with exit status 1: python setup.py egg_info Check the logs for full command output.\u001b[0m\n",
            "\u001b[?25h  Downloading onyx-0.4.6.zip (88 kB)\n",
            "\u001b[K     |████████████████████████████████| 88 kB 6.6 MB/s \n",
            "\u001b[33mWARNING: Discarding https://files.pythonhosted.org/packages/ee/eb/30aa93b675542bc62ec4b1b5bde19f37da4dc4df02f1477a469b5d998aa3/onyx-0.4.6.zip#sha256=8402784c1d407bf00435f46cc5f936c1c70b2870a1728becd964e07c2ef11008 (from https://pypi.org/simple/onyx/). Command errored out with exit status 1: python setup.py egg_info Check the logs for full command output.\u001b[0m\n",
            "\u001b[?25h  Downloading onyx-0.4.5.zip (88 kB)\n",
            "\u001b[K     |████████████████████████████████| 88 kB 4.9 MB/s \n",
            "\u001b[33mWARNING: Discarding https://files.pythonhosted.org/packages/03/1c/40d94f13964a13c8a295c0f746e1157e05be4365dc71895e80bc2c95de58/onyx-0.4.5.zip#sha256=09859958e729fdfd098537572880fef5fc3d8d6f927a52c1877a7cb95097c1da (from https://pypi.org/simple/onyx/). Command errored out with exit status 1: python setup.py egg_info Check the logs for full command output.\u001b[0m\n",
            "\u001b[?25h  Downloading onyx-0.4.4.zip (88 kB)\n",
            "\u001b[K     |████████████████████████████████| 88 kB 4.6 MB/s \n",
            "\u001b[33mWARNING: Discarding https://files.pythonhosted.org/packages/21/68/2913a5283992ef89039e0528a1e7f1a88678a53bb2073e69dae92e072268/onyx-0.4.4.zip#sha256=d795646baf9506de0d047028d0d48aa53e15e4704f04da2f6e6089eb8523596a (from https://pypi.org/simple/onyx/). Command errored out with exit status 1: python setup.py egg_info Check the logs for full command output.\u001b[0m\n",
            "\u001b[?25h  Downloading onyx-0.4.2.zip (88 kB)\n",
            "\u001b[K     |████████████████████████████████| 88 kB 6.3 MB/s \n",
            "\u001b[33mWARNING: Discarding https://files.pythonhosted.org/packages/b4/de/8eb88a0069d9498b04b5cd9671f77292a5001eb8485240efff2bfa64c6fd/onyx-0.4.2.zip#sha256=45e9a83858003627232c9f3e7c724014f8d777dc50d640289e2bfea679925e8c (from https://pypi.org/simple/onyx/). Command errored out with exit status 1: python setup.py egg_info Check the logs for full command output.\u001b[0m\n",
            "\u001b[?25h  Downloading onyx-0.4.1.zip (87 kB)\n",
            "\u001b[K     |████████████████████████████████| 87 kB 6.5 MB/s \n",
            "\u001b[33mWARNING: Discarding https://files.pythonhosted.org/packages/06/0f/10f41b559f5054cab2e0a99f8206332561029d2a1cc684a272afbe221d2e/onyx-0.4.1.zip#sha256=3fa0961c0588236dd050f2feddbf4c2c664114caa3770e7e216e737bd9da9e72 (from https://pypi.org/simple/onyx/). Command errored out with exit status 1: python setup.py egg_info Check the logs for full command output.\u001b[0m\n",
            "\u001b[?25h  Downloading onyx-0.4.zip (87 kB)\n",
            "\u001b[K     |████████████████████████████████| 87 kB 3.9 MB/s \n",
            "\u001b[33mWARNING: Discarding https://files.pythonhosted.org/packages/c3/6d/59cf55e888d1e333eba48683cbb232d37f28c67b52f1dc113f52cb07ce2a/onyx-0.4.zip#sha256=781be6209547842b1cc42a956bc1ae12fc70b771d77f80c401a068f71f465a62 (from https://pypi.org/simple/onyx/). Command errored out with exit status 1: python setup.py egg_info Check the logs for full command output.\u001b[0m\n",
            "\u001b[?25h  Downloading onyx-0.3.12.tar.gz (51 kB)\n",
            "\u001b[K     |████████████████████████████████| 51 kB 257 kB/s \n",
            "\u001b[33mWARNING: Discarding https://files.pythonhosted.org/packages/66/ac/e6e9d93293634a26f8cb292df2ccaa665ec9f888d083860d8f457ad621cc/onyx-0.3.12.tar.gz#sha256=e924d0aacdc30886b1c81d6c4ee18dd4031e8243b5db69843677e16623ecc9a7 (from https://pypi.org/simple/onyx/). Command errored out with exit status 1: python setup.py egg_info Check the logs for full command output.\u001b[0m\n",
            "\u001b[?25h  Downloading onyx-0.3.11.tar.gz (51 kB)\n",
            "\u001b[K     |████████████████████████████████| 51 kB 156 kB/s \n",
            "\u001b[33mWARNING: Discarding https://files.pythonhosted.org/packages/d7/9f/52b9a2e7bfe25b759a82fdc5df54798940bb69bc748e1c783d32ddb1505d/onyx-0.3.11.tar.gz#sha256=87cbf3859a4a604d3845f1b7f3599f4429f0c088f80bfd6241933b6ef18795a5 (from https://pypi.org/simple/onyx/). Command errored out with exit status 1: python setup.py egg_info Check the logs for full command output.\u001b[0m\n",
            "\u001b[?25h  Downloading onyx-0.3.10.tar.gz (51 kB)\n",
            "\u001b[K     |████████████████████████████████| 51 kB 145 kB/s \n",
            "\u001b[33mWARNING: Discarding https://files.pythonhosted.org/packages/58/e9/2d411cc7afbcadfdc71f116731663ac68b36fa6b9a91f19ac402a36b83d2/onyx-0.3.10.tar.gz#sha256=eb9456399e3212a4ab8c5867b0039dc877520ed29310e415e01cd80ef96171a0 (from https://pypi.org/simple/onyx/). Command errored out with exit status 1: python setup.py egg_info Check the logs for full command output.\u001b[0m\n",
            "\u001b[?25h  Downloading onyx-0.3.9.tar.gz (51 kB)\n",
            "\u001b[K     |████████████████████████████████| 51 kB 47 kB/s \n",
            "\u001b[33mWARNING: Discarding https://files.pythonhosted.org/packages/97/75/e1109c2586805555341b376776e84b47be809de39bca3963d31ba869b7cc/onyx-0.3.9.tar.gz#sha256=e521ef67a2f0e17db386296b31f43e30b84592843b3e79c8e3ff169a1f5764c1 (from https://pypi.org/simple/onyx/). Command errored out with exit status 1: python setup.py egg_info Check the logs for full command output.\u001b[0m\n",
            "\u001b[?25h  Downloading onyx-0.3.8.tar.gz (51 kB)\n",
            "\u001b[K     |████████████████████████████████| 51 kB 46 kB/s \n",
            "\u001b[33mWARNING: Discarding https://files.pythonhosted.org/packages/98/00/e06bda66eed80877bdf4a84fc375036aa4e6fe5f81bf3d86ccbb62de1b9f/onyx-0.3.8.tar.gz#sha256=9c52c1352d508340f2ff2baba49e762afb4b786c1490ec96adda5da0b1f16fae (from https://pypi.org/simple/onyx/). Command errored out with exit status 1: python setup.py egg_info Check the logs for full command output.\u001b[0m\n",
            "\u001b[?25h  Downloading onyx-0.3.7.tar.gz (51 kB)\n",
            "\u001b[K     |████████████████████████████████| 51 kB 5.3 MB/s \n",
            "\u001b[33mWARNING: Discarding https://files.pythonhosted.org/packages/d7/09/4dae2b4104ea582910552adaf75f8f0b49320e0cd6223ef06af2e9b166ef/onyx-0.3.7.tar.gz#sha256=128e58a305b88addeb840ef7238c43b20c6481791d70e78cbaf8972d03d74192 (from https://pypi.org/simple/onyx/). Command errored out with exit status 1: python setup.py egg_info Check the logs for full command output.\u001b[0m\n",
            "\u001b[?25h  Downloading onyx-0.3.6.tar.gz (50 kB)\n",
            "\u001b[K     |████████████████████████████████| 50 kB 6.4 MB/s \n",
            "\u001b[33mWARNING: Discarding https://files.pythonhosted.org/packages/45/7f/b3de4666b0b2e6ba121991ee61e3ae15ebcd3f1718416d0fd60156ba8daa/onyx-0.3.6.tar.gz#sha256=c2a1f9e86819319d87b91cef353de70f48991af08eea12c9dc0ab707eacd491a (from https://pypi.org/simple/onyx/). Command errored out with exit status 1: python setup.py egg_info Check the logs for full command output.\u001b[0m\n",
            "\u001b[?25h  Downloading onyx-0.3.5.tar.gz (50 kB)\n",
            "\u001b[K     |████████████████████████████████| 50 kB 6.5 MB/s \n",
            "\u001b[33mWARNING: Discarding https://files.pythonhosted.org/packages/06/5a/a0ac24ed834378f50c9f1eae68d74341ba2363a39cf1b2c8ce84492ff455/onyx-0.3.5.tar.gz#sha256=6494a5afbdbcb1b6e78652b0a53091c2f9e4a913cacec03cd2372332d6fdad9a (from https://pypi.org/simple/onyx/). Command errored out with exit status 1: python setup.py egg_info Check the logs for full command output.\u001b[0m\n",
            "\u001b[?25h  Downloading onyx-0.3.4.tar.gz (50 kB)\n",
            "\u001b[K     |████████████████████████████████| 50 kB 5.8 MB/s \n",
            "\u001b[33mWARNING: Discarding https://files.pythonhosted.org/packages/d0/90/f1b20c086cc690a7044cecedb0b48d44b72a80562814d6e5f3005fa117d5/onyx-0.3.4.tar.gz#sha256=22ed4990f77facd9ef0b7bc9e81d0f8cf33bd546090b7f7c193e01dfcac5507f (from https://pypi.org/simple/onyx/). Command errored out with exit status 1: python setup.py egg_info Check the logs for full command output.\u001b[0m\n",
            "\u001b[?25h  Downloading onyx-0.3.3.tar.gz (49 kB)\n",
            "\u001b[K     |████████████████████████████████| 49 kB 5.2 MB/s \n",
            "\u001b[33mWARNING: Discarding https://files.pythonhosted.org/packages/5c/82/0ea5ca49cf62b872e0be9e877954d7a942fb08d471f937cd95416905c3d9/onyx-0.3.3.tar.gz#sha256=c8d3327ba0c9c70c773b8477b3cba1a7bd1b547fb50144b05dd474c9fb0053e4 (from https://pypi.org/simple/onyx/). Command errored out with exit status 1: python setup.py egg_info Check the logs for full command output.\u001b[0m\n",
            "\u001b[?25h  Downloading onyx-0.3.2.tar.gz (49 kB)\n",
            "\u001b[K     |████████████████████████████████| 49 kB 5.3 MB/s \n",
            "\u001b[33mWARNING: Discarding https://files.pythonhosted.org/packages/5a/db/8a291d8ec12f1ac1b1d8b37b158fcaed5cef62640effd28bcf96c1b77db7/onyx-0.3.2.tar.gz#sha256=188a7e5e311416bcafaa9398e38ccd62d1118cb153c84e4481afe15324b2c82c (from https://pypi.org/simple/onyx/). Command errored out with exit status 1: python setup.py egg_info Check the logs for full command output.\u001b[0m\n",
            "\u001b[?25h  Downloading onyx-0.3.tar.gz (49 kB)\n",
            "\u001b[K     |████████████████████████████████| 49 kB 5.2 MB/s \n",
            "\u001b[33mWARNING: Discarding https://files.pythonhosted.org/packages/c7/2e/cd142843ac8a8f1733a068c113c45514eac26a5e98a45effc675be9c4c8a/onyx-0.3.tar.gz#sha256=0bb09002a8408fa2220282af8ef5240538e40a75c39d5500b8acb7c088257679 (from https://pypi.org/simple/onyx/). Command errored out with exit status 1: python setup.py egg_info Check the logs for full command output.\u001b[0m\n",
            "\u001b[?25h  Downloading onyx-0.2.1.tar.gz (49 kB)\n",
            "\u001b[K     |████████████████████████████████| 49 kB 6.0 MB/s \n",
            "\u001b[33mWARNING: Discarding https://files.pythonhosted.org/packages/f6/32/0d54482b8076a3a8ede8bdb09bc5f9e33c1b4dd3d872aa733c971899486e/onyx-0.2.1.tar.gz#sha256=3a13b69e66584835acedd1fabac02817dd3486e4bfe1f633e91d9f3355778c69 (from https://pypi.org/simple/onyx/). Command errored out with exit status 1: python setup.py egg_info Check the logs for full command output.\u001b[0m\n",
            "\u001b[?25h  Downloading onyx-0.2.tar.gz (49 kB)\n",
            "\u001b[K     |████████████████████████████████| 49 kB 5.5 MB/s \n",
            "\u001b[33mWARNING: Discarding https://files.pythonhosted.org/packages/0d/84/280882b9bb748f74f01c2f8cc89432b152b2426067e5cd27a207f5cd2b84/onyx-0.2.tar.gz#sha256=81bf1738f6bc36bf8a6952186b52533abbd503dda6f7d4123750d92e7715c1e8 (from https://pypi.org/simple/onyx/). Command errored out with exit status 1: python setup.py egg_info Check the logs for full command output.\u001b[0m\n",
            "\u001b[?25h  Downloading onyx-0.1.5.tar.gz (48 kB)\n",
            "\u001b[K     |████████████████████████████████| 48 kB 5.0 MB/s \n",
            "\u001b[33mWARNING: Discarding https://files.pythonhosted.org/packages/6c/0b/fc370fbd73aba0eae08a4040b4d8161992ad34e04c8785a78d66936beaeb/onyx-0.1.5.tar.gz#sha256=cf3b533f718efacb0f390cf7900ba07a7da4165a183abb97aa31643fbdc6fed1 (from https://pypi.org/simple/onyx/). Command errored out with exit status 1: python setup.py egg_info Check the logs for full command output.\u001b[0m\n",
            "\u001b[?25h  Downloading onyx-0.1.4.zip (83 kB)\n",
            "\u001b[K     |████████████████████████████████| 83 kB 1.8 MB/s \n",
            "\u001b[33mWARNING: Discarding https://files.pythonhosted.org/packages/49/de/8f3dd2fbb26c657e1801accb6fde08415be848f21d75579cbc5b3e04a0a7/onyx-0.1.4.zip#sha256=6715dbdfc064c9e29602dfe49d7f59829f6263d3605edd2f4b61890e4d37d33c (from https://pypi.org/simple/onyx/). Command errored out with exit status 1: python setup.py egg_info Check the logs for full command output.\u001b[0m\n",
            "\u001b[?25h  Downloading onyx-0.1.3.zip (83 kB)\n",
            "\u001b[K     |████████████████████████████████| 83 kB 1.9 MB/s \n",
            "\u001b[33mWARNING: Discarding https://files.pythonhosted.org/packages/50/5b/9ccfbd671e362e9fd0c627e4c1dbfb5894e3147ec49ff6e361a94810ebd2/onyx-0.1.3.zip#sha256=a198576f245d433105eaa84f705f8e528dba5755ec62e953870ba918e0dfca11 (from https://pypi.org/simple/onyx/). Command errored out with exit status 1: python setup.py egg_info Check the logs for full command output.\u001b[0m\n",
            "\u001b[?25h  Downloading onyx-0.1.1.tar.gz (47 kB)\n",
            "\u001b[K     |████████████████████████████████| 47 kB 2.8 MB/s \n",
            "\u001b[33mWARNING: Discarding https://files.pythonhosted.org/packages/6e/8d/b585ae381b99a34feda8ec27053f93b91b72b67723ed1d5de082ee29af85/onyx-0.1.1.tar.gz#sha256=890a95c5a035906d2f2b8df6727aaffc53e8deee4558a7f2a9c0a2cf53819741 (from https://pypi.org/simple/onyx/). Command errored out with exit status 1: python setup.py egg_info Check the logs for full command output.\u001b[0m\n",
            "\u001b[?25h  Downloading onyx-0.1.tar.gz (47 kB)\n",
            "\u001b[K     |████████████████████████████████| 47 kB 4.0 MB/s \n",
            "\u001b[33mWARNING: Discarding https://files.pythonhosted.org/packages/8c/89/7593520610ff5fba7feb016898f3c5716c7b0538200d5d43f95ae72eabf9/onyx-0.1.tar.gz#sha256=01f77f1f034a2f9b0db013b2457e1adc50d8f225071d4ca1486a5fe76aba74d7 (from https://pypi.org/simple/onyx/). Command errored out with exit status 1: python setup.py egg_info Check the logs for full command output.\u001b[0m\n",
            "\u001b[?25h  Downloading onyx-0.0.21.tar.gz (47 kB)\n",
            "\u001b[K     |████████████████████████████████| 47 kB 3.0 MB/s \n",
            "\u001b[33mWARNING: Discarding https://files.pythonhosted.org/packages/57/6d/efa6bbc37b3287cfda9f19962d9f26c6043df8fa2fd66963e1a9a2856bbc/onyx-0.0.21.tar.gz#sha256=2a5743488546e630218d233c1176c4a1058d716a94fc9566ef32cbbdef7fdc7f (from https://pypi.org/simple/onyx/). Command errored out with exit status 1: python setup.py egg_info Check the logs for full command output.\u001b[0m\n",
            "\u001b[?25h  Downloading onyx-0.0.20.tar.gz (47 kB)\n",
            "\u001b[K     |████████████████████████████████| 47 kB 4.4 MB/s \n",
            "\u001b[33mWARNING: Discarding https://files.pythonhosted.org/packages/89/43/a4dabc2d285dd3fac7689be312c11695328a4dd5658830269f53b7d55a1c/onyx-0.0.20.tar.gz#sha256=5b9482c9f27f7526a5ff026d247938a096eebf2a6edb73cda34e099bd89b2356 (from https://pypi.org/simple/onyx/). Command errored out with exit status 1: python setup.py egg_info Check the logs for full command output.\u001b[0m\n",
            "\u001b[?25h  Downloading onyx-0.0.19.tar.gz (47 kB)\n",
            "\u001b[K     |████████████████████████████████| 47 kB 4.3 MB/s \n",
            "\u001b[33mWARNING: Discarding https://files.pythonhosted.org/packages/0b/11/55b52bdadb0714c6437a53f494022e0bcf7b38d346a50c29528912a6b5db/onyx-0.0.19.tar.gz#sha256=327b7fcd1c6851fdd2a2bd5605d5e0564d16671831055622c80f163590c3258f (from https://pypi.org/simple/onyx/). Command errored out with exit status 1: python setup.py egg_info Check the logs for full command output.\u001b[0m\n",
            "\u001b[?25h  Downloading onyx-0.0.17.tar.gz (47 kB)\n",
            "\u001b[K     |████████████████████████████████| 47 kB 4.2 MB/s \n",
            "\u001b[33mWARNING: Discarding https://files.pythonhosted.org/packages/67/c7/a0cadba9cf5c63e0454a58fd0180ecd575b082a3bd8af77e70b34d815eb2/onyx-0.0.17.tar.gz#sha256=144f101eff8781923a1ec64c6c86263d27a5b1736545eb02690f687cfec5d562 (from https://pypi.org/simple/onyx/). Command errored out with exit status 1: python setup.py egg_info Check the logs for full command output.\u001b[0m\n",
            "\u001b[?25h  Downloading onyx-0.0.5.tar.gz (45 kB)\n",
            "\u001b[K     |████████████████████████████████| 45 kB 3.1 MB/s \n",
            "\u001b[33mWARNING: Discarding https://files.pythonhosted.org/packages/97/fd/0b6642f8f3dc5f26d2db9c2f994b5f650ef2948b3041c3683865f52972a6/onyx-0.0.5.tar.gz#sha256=7bc9dce4a8f86252e97a58b21eafb347db3c018d6ceb5f6753a98b279a2125d3 (from https://pypi.org/simple/onyx/). Command errored out with exit status 1: python setup.py egg_info Check the logs for full command output.\u001b[0m\n",
            "\u001b[31mERROR: Could not find a version that satisfies the requirement onyx (from versions: 0.0.5, 0.0.17, 0.0.19, 0.0.20, 0.0.21, 0.1, 0.1.1, 0.1.3, 0.1.4, 0.1.5, 0.2, 0.2.1, 0.3, 0.3.2, 0.3.3, 0.3.4, 0.3.5, 0.3.6, 0.3.7, 0.3.8, 0.3.9, 0.3.10, 0.3.11, 0.3.12, 0.4, 0.4.1, 0.4.2, 0.4.4, 0.4.5, 0.4.6, 0.4.7, 0.5, 0.6.1, 0.6.2, 0.6.3, 0.6.4, 0.7.3, 0.7.4, 0.7.5, 0.7.6, 0.7.7, 0.7.8, 0.7.10, 0.7.11, 0.7.12, 0.7.13, 0.8.5, 0.8.7, 0.8.10, 0.8.11)\u001b[0m\n",
            "\u001b[31mERROR: No matching distribution found for onyx\u001b[0m\n",
            "\u001b[?25h"
          ]
        }
      ],
      "source": [
        "%pip install omlt\n",
        "%pip install onnx\n",
        "%pip install onyx\n"
      ]
    },
    {
      "cell_type": "code",
      "execution_count": 3,
      "metadata": {
        "id": "o8K1jXtxwPfF"
      },
      "outputs": [],
      "source": [
        "!wget -N -q \"https://ampl.com/dl/open/ipopt/ipopt-linux64.zip\"\n",
        "!unzip -o -q ipopt-linux64"
      ]
    },
    {
      "cell_type": "code",
      "execution_count": 2,
      "metadata": {
        "id": "CV4ub32mv7u9"
      },
      "outputs": [],
      "source": [
        "import os\n",
        "os.environ['TF_CPP_MIN_LOG_LEVEL'] = '2' # suppress CUDA warnings from tensorflow\n",
        "\n",
        "# import the necessary packages\n",
        "from omlt import OmltBlock, OffsetScaling\n",
        "from omlt.io.keras_reader import load_keras_sequential\n",
        "from omlt.neuralnet import FullSpaceSmoothNNFormulation\n",
        "import pyomo.environ as pyo\n",
        "import pandas as pd\n",
        "import tensorflow.keras as keras\n",
        "from tensorflow.keras.models import Sequential\n",
        "from tensorflow.keras.layers import Dense\n",
        "from tensorflow.keras.optimizers import Adam\n",
        "from tensorflow.keras.callbacks import ModelCheckpoint"
      ]
    },
    {
      "cell_type": "code",
      "execution_count": 11,
      "metadata": {
        "colab": {
          "base_uri": "https://localhost:8080/"
        },
        "id": "TaKtUDwMv7u-",
        "outputId": "39f1eca2-aeb7-4dae-df31-f8463af67893"
      },
      "outputs": [
        {
          "name": "stdout",
          "output_type": "stream",
          "text": [
            "      Bypass Fraction  NG Steam Ratio  Steam Flow  Reformer Duty        AR  \\\n",
            "0                 0.8        0.800000    0.193898    9806.732716  0.002662   \n",
            "1                 0.8        0.810526    0.196449    9846.047501  0.002660   \n",
            "2                 0.8        0.821053    0.199000    9885.419259  0.002657   \n",
            "3                 0.8        0.831579    0.201552    9924.849127  0.002654   \n",
            "4                 0.8        0.842105    0.204103    9964.338177  0.002651   \n",
            "...               ...             ...         ...            ...       ...   \n",
            "2795              0.1        1.157895    1.262887   39771.876388  0.004086   \n",
            "2796              0.1        1.168421    1.274368   39989.582852  0.004080   \n",
            "2797              0.1        1.178947    1.285849   40207.531167  0.004073   \n",
            "2798              0.1        1.189474    1.297330   40425.721366  0.004067   \n",
            "2799              0.1        1.200000    1.308811   40644.153425  0.004060   \n",
            "\n",
            "          C2H6      C3H8     C4H10       CH4        CO       CO2        H2  \\\n",
            "0     0.012120  0.002651  0.001515  0.369276  0.073971  0.032251  0.208494   \n",
            "1     0.012107  0.002648  0.001513  0.368883  0.073684  0.032432  0.208507   \n",
            "2     0.012094  0.002646  0.001512  0.368491  0.073398  0.032612  0.208519   \n",
            "3     0.012082  0.002643  0.001510  0.368100  0.073114  0.032791  0.208529   \n",
            "4     0.012069  0.002640  0.001509  0.367710  0.072832  0.032968  0.208537   \n",
            "...        ...       ...       ...       ...       ...       ...       ...   \n",
            "2795  0.000517  0.000113  0.000065  0.016104  0.103440  0.054146  0.330923   \n",
            "2796  0.000516  0.000113  0.000064  0.016073  0.103003  0.054335  0.330682   \n",
            "2797  0.000515  0.000113  0.000064  0.016043  0.102569  0.054521  0.330439   \n",
            "2798  0.000514  0.000112  0.000064  0.016013  0.102138  0.054706  0.330196   \n",
            "2799  0.000513  0.000112  0.000064  0.015984  0.101710  0.054889  0.329953   \n",
            "\n",
            "           H2O        N2  \n",
            "0     0.070771  0.226288  \n",
            "1     0.071514  0.226050  \n",
            "2     0.072258  0.225813  \n",
            "3     0.073000  0.225577  \n",
            "4     0.073743  0.225341  \n",
            "...        ...       ...  \n",
            "2795  0.152351  0.338256  \n",
            "2796  0.153420  0.337714  \n",
            "2797  0.154487  0.337174  \n",
            "2798  0.155552  0.336636  \n",
            "2799  0.156616  0.336099  \n",
            "\n",
            "[2800 rows x 14 columns]\n"
          ]
        }
      ],
      "source": [
        "# read in our csv data\n",
        "columns = ['Bypass Fraction', 'NG Steam Ratio', 'Steam Flow',\n",
        "           'Reformer Duty','AR', 'C2H6', 'C3H8', 'C4H10',\n",
        "           'CH4', 'CO', 'CO2', 'H2', 'H2O', 'N2']\n",
        "df = pd.read_csv(r'C:\\Users\\jwiggins\\Documents\\Python_virtual_env\\Supply Chain Simulation\\supply_chain_simulation\\supply_chain_simulation\\nn_optimization\\reformer.csv', usecols=columns)\n",
        "print(df)"
      ]
    },
    {
      "cell_type": "code",
      "execution_count": 21,
      "metadata": {
        "id": "8FBiNnVEv7u_"
      },
      "outputs": [],
      "source": [
        "# separate the data into inputs and outputs\n",
        "inputs = ['Bypass Fraction', 'NG Steam Ratio']\n",
        "outputs = [ 'Steam Flow', 'Reformer Duty','AR', 'C2H6', 'C3H8', 'C4H10',\n",
        "           'CH4', 'CO', 'CO2', 'H2', 'H2O', 'N2']\n",
        "dfin = df[inputs]\n",
        "dfout = df[outputs]"
      ]
    },
    {
      "cell_type": "code",
      "execution_count": 22,
      "metadata": {
        "id": "IlCMOBHav7u_"
      },
      "outputs": [],
      "source": [
        "# We scale the data for improved training, however, we want to formulate\n",
        "# our optimizaton problem on the original variables. Therefore, we keep\n",
        "# the scaling parameters to use later in our optimization formulation\n",
        "\n",
        "x_offset, x_factor = dfin.mean().to_dict(), dfin.std().to_dict()\n",
        "y_offset, y_factor = dfout.mean().to_dict(), dfout.std().to_dict()\n",
        "\n",
        "dfin = (dfin - dfin.mean()).divide(dfin.std())\n",
        "dfout = (dfout - dfout.mean()).divide(dfout.std())\n",
        "\n",
        "# capture the minimum and maximum values of the scaled inputs\n",
        "# so we don't use the model outside the valid range\n",
        "scaled_lb = dfin.min()[inputs].values\n",
        "scaled_ub = dfin.max()[inputs].values"
      ]
    },
    {
      "cell_type": "code",
      "execution_count": 23,
      "metadata": {
        "id": "R4VnGnXQv7vA"
      },
      "outputs": [],
      "source": [
        "# create our Keras Sequential model\n",
        "nn = Sequential(name='reformer_sigmoid_4_20')\n",
        "nn.add(Dense(units=20, input_dim=len(inputs), activation='sigmoid'))\n",
        "nn.add(Dense(units=20, activation='sigmoid'))\n",
        "nn.add(Dense(units=20, activation='sigmoid'))\n",
        "nn.add(Dense(units=20, activation='sigmoid'))\n",
        "nn.add(Dense(units=len(outputs)))\n",
        "nn.compile(optimizer=Adam(), loss='mse')"
      ]
    },
    {
      "cell_type": "code",
      "execution_count": 24,
      "metadata": {
        "colab": {
          "base_uri": "https://localhost:8080/"
        },
        "id": "PHEmbZZCv7vB",
        "outputId": "0720b5a5-0779-41d0-8a63-fe8b956690e3"
      },
      "outputs": [
        {
          "name": "stdout",
          "output_type": "stream",
          "text": [
            "Epoch 1/100\n",
            "88/88 [==============================] - 0s 2ms/step - loss: 1.0311\n",
            "Epoch 2/100\n",
            "88/88 [==============================] - 0s 2ms/step - loss: 0.9941\n",
            "Epoch 3/100\n",
            "88/88 [==============================] - 0s 2ms/step - loss: 0.9573\n",
            "Epoch 4/100\n",
            "88/88 [==============================] - 0s 2ms/step - loss: 0.6406\n",
            "Epoch 5/100\n",
            "88/88 [==============================] - 0s 2ms/step - loss: 0.2066\n",
            "Epoch 6/100\n",
            "88/88 [==============================] - 0s 2ms/step - loss: 0.1445\n",
            "Epoch 7/100\n",
            "88/88 [==============================] - 0s 1ms/step - loss: 0.1237\n",
            "Epoch 8/100\n",
            "88/88 [==============================] - 0s 2ms/step - loss: 0.1093\n",
            "Epoch 9/100\n",
            "88/88 [==============================] - 0s 2ms/step - loss: 0.0993\n",
            "Epoch 10/100\n",
            "88/88 [==============================] - 0s 2ms/step - loss: 0.0918\n",
            "Epoch 11/100\n",
            "88/88 [==============================] - 0s 2ms/step - loss: 0.0860\n",
            "Epoch 12/100\n",
            "88/88 [==============================] - 0s 2ms/step - loss: 0.0817\n",
            "Epoch 13/100\n",
            "88/88 [==============================] - 0s 2ms/step - loss: 0.0783\n",
            "Epoch 14/100\n",
            "88/88 [==============================] - 0s 2ms/step - loss: 0.0757\n",
            "Epoch 15/100\n",
            "88/88 [==============================] - 0s 1ms/step - loss: 0.0740\n",
            "Epoch 16/100\n",
            "88/88 [==============================] - 0s 2ms/step - loss: 0.0727\n",
            "Epoch 17/100\n",
            "88/88 [==============================] - 0s 2ms/step - loss: 0.0719\n",
            "Epoch 18/100\n",
            "88/88 [==============================] - 0s 2ms/step - loss: 0.0711\n",
            "Epoch 19/100\n",
            "88/88 [==============================] - 0s 2ms/step - loss: 0.0703\n",
            "Epoch 20/100\n",
            "88/88 [==============================] - 0s 1ms/step - loss: 0.0694\n",
            "Epoch 21/100\n",
            "88/88 [==============================] - 0s 1ms/step - loss: 0.0686\n",
            "Epoch 22/100\n",
            "88/88 [==============================] - 0s 2ms/step - loss: 0.0676\n",
            "Epoch 23/100\n",
            "88/88 [==============================] - 0s 1ms/step - loss: 0.0663\n",
            "Epoch 24/100\n",
            "88/88 [==============================] - 0s 1ms/step - loss: 0.0642\n",
            "Epoch 25/100\n",
            "88/88 [==============================] - 0s 1ms/step - loss: 0.0610\n",
            "Epoch 26/100\n",
            "88/88 [==============================] - 0s 1ms/step - loss: 0.0552\n",
            "Epoch 27/100\n",
            "88/88 [==============================] - 0s 1ms/step - loss: 0.0438\n",
            "Epoch 28/100\n",
            "88/88 [==============================] - 0s 1ms/step - loss: 0.0291\n",
            "Epoch 29/100\n",
            "88/88 [==============================] - 0s 2ms/step - loss: 0.0176\n",
            "Epoch 30/100\n",
            "88/88 [==============================] - 0s 2ms/step - loss: 0.0112\n",
            "Epoch 31/100\n",
            "88/88 [==============================] - 0s 2ms/step - loss: 0.0080\n",
            "Epoch 32/100\n",
            "88/88 [==============================] - 0s 2ms/step - loss: 0.0061\n",
            "Epoch 33/100\n",
            "88/88 [==============================] - 0s 2ms/step - loss: 0.0050\n",
            "Epoch 34/100\n",
            "88/88 [==============================] - 0s 2ms/step - loss: 0.0043\n",
            "Epoch 35/100\n",
            "88/88 [==============================] - 0s 1ms/step - loss: 0.0039\n",
            "Epoch 36/100\n",
            "88/88 [==============================] - 0s 2ms/step - loss: 0.0033\n",
            "Epoch 37/100\n",
            "88/88 [==============================] - 0s 2ms/step - loss: 0.0031\n",
            "Epoch 38/100\n",
            "88/88 [==============================] - 0s 2ms/step - loss: 0.0027\n",
            "Epoch 39/100\n",
            "88/88 [==============================] - 0s 1ms/step - loss: 0.0025\n",
            "Epoch 40/100\n",
            "88/88 [==============================] - 0s 1ms/step - loss: 0.0023\n",
            "Epoch 41/100\n",
            "88/88 [==============================] - 0s 1ms/step - loss: 0.0021\n",
            "Epoch 42/100\n",
            "88/88 [==============================] - 0s 1ms/step - loss: 0.0020\n",
            "Epoch 43/100\n",
            "88/88 [==============================] - 0s 1ms/step - loss: 0.0018\n",
            "Epoch 44/100\n",
            "88/88 [==============================] - 0s 1ms/step - loss: 0.0017\n",
            "Epoch 45/100\n",
            "88/88 [==============================] - 0s 1ms/step - loss: 0.0016\n",
            "Epoch 46/100\n",
            "88/88 [==============================] - 0s 1ms/step - loss: 0.0016\n",
            "Epoch 47/100\n",
            "88/88 [==============================] - 0s 1ms/step - loss: 0.0014\n",
            "Epoch 48/100\n",
            "88/88 [==============================] - 0s 1ms/step - loss: 0.0014\n",
            "Epoch 49/100\n",
            "88/88 [==============================] - 0s 947us/step - loss: 0.0013\n",
            "Epoch 50/100\n",
            "88/88 [==============================] - 0s 1ms/step - loss: 0.0013\n",
            "Epoch 51/100\n",
            "88/88 [==============================] - 0s 1ms/step - loss: 0.0012\n",
            "Epoch 52/100\n",
            "88/88 [==============================] - 0s 1ms/step - loss: 0.0011\n",
            "Epoch 53/100\n",
            "88/88 [==============================] - 0s 992us/step - loss: 0.0010\n",
            "Epoch 54/100\n",
            "88/88 [==============================] - 0s 1ms/step - loss: 9.8289e-04\n",
            "Epoch 55/100\n",
            "88/88 [==============================] - 0s 1ms/step - loss: 9.5305e-04\n",
            "Epoch 56/100\n",
            "88/88 [==============================] - 0s 1ms/step - loss: 9.3142e-04\n",
            "Epoch 57/100\n",
            "88/88 [==============================] - 0s 1ms/step - loss: 8.6331e-04\n",
            "Epoch 58/100\n",
            "88/88 [==============================] - 0s 1ms/step - loss: 8.1419e-04\n",
            "Epoch 59/100\n",
            "88/88 [==============================] - 0s 1ms/step - loss: 7.8523e-04\n",
            "Epoch 60/100\n",
            "88/88 [==============================] - 0s 1ms/step - loss: 8.6978e-04\n",
            "Epoch 61/100\n",
            "88/88 [==============================] - 0s 995us/step - loss: 7.3480e-04\n",
            "Epoch 62/100\n",
            "88/88 [==============================] - 0s 1ms/step - loss: 6.8735e-04\n",
            "Epoch 63/100\n",
            "88/88 [==============================] - 0s 1ms/step - loss: 6.9222e-04\n",
            "Epoch 64/100\n",
            "88/88 [==============================] - 0s 1ms/step - loss: 6.6381e-04\n",
            "Epoch 65/100\n",
            "88/88 [==============================] - 0s 2ms/step - loss: 6.6799e-04\n",
            "Epoch 66/100\n",
            "88/88 [==============================] - 0s 2ms/step - loss: 6.3016e-04\n",
            "Epoch 67/100\n",
            "88/88 [==============================] - 0s 1ms/step - loss: 5.5878e-04\n",
            "Epoch 68/100\n",
            "88/88 [==============================] - 0s 2ms/step - loss: 5.6438e-04\n",
            "Epoch 69/100\n",
            "88/88 [==============================] - 0s 2ms/step - loss: 5.5913e-04\n",
            "Epoch 70/100\n",
            "88/88 [==============================] - 0s 1ms/step - loss: 5.2969e-04\n",
            "Epoch 71/100\n",
            "88/88 [==============================] - 0s 1ms/step - loss: 4.9826e-04\n",
            "Epoch 72/100\n",
            "88/88 [==============================] - 0s 2ms/step - loss: 4.8760e-04\n",
            "Epoch 73/100\n",
            "88/88 [==============================] - 0s 2ms/step - loss: 5.0270e-04\n",
            "Epoch 74/100\n",
            "88/88 [==============================] - 0s 1ms/step - loss: 4.8612e-04\n",
            "Epoch 75/100\n",
            "88/88 [==============================] - 0s 2ms/step - loss: 4.2343e-04\n",
            "Epoch 76/100\n",
            "88/88 [==============================] - 0s 2ms/step - loss: 4.1513e-04\n",
            "Epoch 77/100\n",
            "88/88 [==============================] - 0s 2ms/step - loss: 3.9223e-04\n",
            "Epoch 78/100\n",
            "88/88 [==============================] - 0s 2ms/step - loss: 4.0312e-04\n",
            "Epoch 79/100\n",
            "88/88 [==============================] - 0s 2ms/step - loss: 4.0936e-04\n",
            "Epoch 80/100\n",
            "88/88 [==============================] - 0s 2ms/step - loss: 3.5209e-04\n",
            "Epoch 81/100\n",
            "88/88 [==============================] - 0s 1ms/step - loss: 3.4795e-04\n",
            "Epoch 82/100\n",
            "88/88 [==============================] - 0s 2ms/step - loss: 3.4918e-04\n",
            "Epoch 83/100\n",
            "88/88 [==============================] - 0s 1ms/step - loss: 3.3455e-04\n",
            "Epoch 84/100\n",
            "88/88 [==============================] - 0s 1ms/step - loss: 3.2249e-04\n",
            "Epoch 85/100\n",
            "88/88 [==============================] - 0s 2ms/step - loss: 3.0200e-04\n",
            "Epoch 86/100\n",
            "88/88 [==============================] - 0s 2ms/step - loss: 2.9405e-04\n",
            "Epoch 87/100\n",
            "88/88 [==============================] - 0s 2ms/step - loss: 3.0056e-04\n",
            "Epoch 88/100\n",
            "88/88 [==============================] - 0s 2ms/step - loss: 3.0060e-04\n",
            "Epoch 89/100\n",
            "88/88 [==============================] - 0s 2ms/step - loss: 2.8681e-04\n",
            "Epoch 90/100\n",
            "88/88 [==============================] - 0s 2ms/step - loss: 2.8289e-04\n",
            "Epoch 91/100\n",
            "88/88 [==============================] - 0s 1ms/step - loss: 2.7414e-04\n",
            "Epoch 92/100\n",
            "88/88 [==============================] - 0s 1ms/step - loss: 2.6433e-04\n",
            "Epoch 93/100\n",
            "88/88 [==============================] - 0s 1ms/step - loss: 2.5950e-04\n",
            "Epoch 94/100\n",
            "88/88 [==============================] - 0s 1ms/step - loss: 2.4283e-04\n",
            "Epoch 95/100\n",
            "88/88 [==============================] - 0s 1ms/step - loss: 2.3358e-04\n",
            "Epoch 96/100\n",
            "88/88 [==============================] - 0s 1ms/step - loss: 2.1952e-04\n",
            "Epoch 97/100\n",
            "88/88 [==============================] - 0s 1ms/step - loss: 2.2092e-04\n",
            "Epoch 98/100\n",
            "88/88 [==============================] - 0s 1ms/step - loss: 2.1878e-04\n",
            "Epoch 99/100\n",
            "88/88 [==============================] - 0s 2ms/step - loss: 2.1941e-04\n",
            "Epoch 100/100\n",
            "88/88 [==============================] - 0s 2ms/step - loss: 1.9985e-04\n"
          ]
        }
      ],
      "source": [
        "# train our model\n",
        "x = dfin.values\n",
        "y = dfout.values\n",
        "\n",
        "history = nn.fit(x, y, epochs=100)"
      ]
    },
    {
      "cell_type": "code",
      "execution_count": 17,
      "metadata": {
        "colab": {
          "base_uri": "https://localhost:8080/"
        },
        "id": "Ad0jqvMuv7vC",
        "outputId": "0c731fed-8e65-4c35-c1fc-14d3c22c10fc"
      },
      "outputs": [
        {
          "name": "stdout",
          "output_type": "stream",
          "text": [
            "INFO:tensorflow:Assets written to: reformer_nn\\assets\n"
          ]
        }
      ],
      "source": [
        "# save the model to disk\n",
        "# While not technically necessary, this shows how we can load a previously saved model into\n",
        "# our optimization formulation)\n",
        "nn.save('reformer_nn')"
      ]
    },
    {
      "cell_type": "markdown",
      "metadata": {
        "id": "G99dIjf5v7vC"
      },
      "source": [
        "## Optimization Problem\n",
        "In this small example, we will formulate a simple optimization problem that seeks to maximize the concentration of Hydrogen in the outlet while placing an upper bound on the Nitrogen concentration."
      ]
    },
    {
      "cell_type": "code",
      "execution_count": 12,
      "metadata": {
        "id": "X5SLe_xav7vC"
      },
      "outputs": [],
      "source": [
        "# first, create the Pyomo model\n",
        "m = pyo.ConcreteModel()"
      ]
    },
    {
      "cell_type": "code",
      "execution_count": 13,
      "metadata": {
        "id": "JTv-tri4v7vD"
      },
      "outputs": [],
      "source": [
        "# create the OmltBlock to hold the neural network model\n",
        "m.reformer = OmltBlock()"
      ]
    },
    {
      "cell_type": "code",
      "execution_count": 14,
      "metadata": {
        "id": "u8eh4IOjv7vD"
      },
      "outputs": [],
      "source": [
        "# load the Keras model\n",
        "nn_reformer = keras.models.load_model('reformer_nn', compile=False)\n",
        "\n",
        "# Note: The neural network is in the scaled space. We want access to the\n",
        "# variables in the unscaled space. Therefore, we need to tell OMLT about the\n",
        "# scaling factors\n",
        "scaler = OffsetScaling(\n",
        "        offset_inputs={i: x_offset[inputs[i]] for i in range(len(inputs))},\n",
        "        factor_inputs={i: x_factor[inputs[i]] for i in range(len(inputs))},\n",
        "        offset_outputs={i: y_offset[outputs[i]] for i in range(len(outputs))},\n",
        "        factor_outputs={i: y_factor[outputs[i]] for i in range(len(outputs))}\n",
        "    )\n",
        "\n",
        "scaled_input_bounds = {i: (scaled_lb[i], scaled_ub[i]) for i in range(len(inputs))}\n",
        "\n",
        "# create a network definition from the Keras model\n",
        "net = load_keras_sequential(nn_reformer, scaling_object=scaler, scaled_input_bounds=scaled_input_bounds)\n",
        "\n",
        "# create the variables and constraints for the neural network in Pyomo\n",
        "m.reformer.build_formulation(FullSpaceSmoothNNFormulation(net))"
      ]
    },
    {
      "cell_type": "code",
      "execution_count": 15,
      "metadata": {
        "id": "Z_NxhlJ8v7vE"
      },
      "outputs": [],
      "source": [
        "# now add the objective and the constraints\n",
        "h2_idx = outputs.index('H2')\n",
        "n2_idx = outputs.index('N2')\n",
        "m.obj = pyo.Objective(expr=m.reformer.outputs[h2_idx], sense=pyo.maximize)\n",
        "m.con = pyo.Constraint(expr=m.reformer.outputs[n2_idx] <= 0.34)"
      ]
    },
    {
      "cell_type": "code",
      "execution_count": 16,
      "metadata": {
        "colab": {
          "base_uri": "https://localhost:8080/"
        },
        "id": "bDkdflWJv7vE",
        "outputId": "78c7bf93-c97c-4135-9d98-26a681e627c9"
      },
      "outputs": [
        {
          "name": "stdout",
          "output_type": "stream",
          "text": [
            "Ipopt 3.12.13: \n",
            "\n",
            "******************************************************************************\n",
            "This program contains Ipopt, a library for large-scale nonlinear optimization.\n",
            " Ipopt is released as open source code under the Eclipse Public License (EPL).\n",
            "         For more information visit http://projects.coin-or.org/Ipopt\n",
            "******************************************************************************\n",
            "\n",
            "This is Ipopt version 3.12.13, running with linear solver mumps.\n",
            "NOTE: Other linear solvers might be more efficient (see Ipopt documentation).\n",
            "\n",
            "Number of nonzeros in equality constraint Jacobian...:     1812\n",
            "Number of nonzeros in inequality constraint Jacobian.:        1\n",
            "Number of nonzeros in Lagrangian Hessian.............:       80\n",
            "\n",
            "Total number of variables............................:      214\n",
            "                     variables with only lower bounds:        0\n",
            "                variables with lower and upper bounds:      190\n",
            "                     variables with only upper bounds:        0\n",
            "Total number of equality constraints.................:      212\n",
            "Total number of inequality constraints...............:        1\n",
            "        inequality constraints with only lower bounds:        0\n",
            "   inequality constraints with lower and upper bounds:        0\n",
            "        inequality constraints with only upper bounds:        1\n",
            "\n",
            "iter    objective    inf_pr   inf_du lg(mu)  ||d||  lg(rg) alpha_du alpha_pr  ls\n",
            "   0 -0.0000000e+00 2.32e+04 2.73e-04  -1.0 0.00e+00    -  0.00e+00 0.00e+00   0\n",
            "   1 -2.3342340e-03 2.30e+04 4.86e-01  -1.0 2.94e+03    -  5.45e-03 8.10e-03f  1\n",
            "   2 -3.1715846e-03 2.29e+04 1.44e+01  -1.0 3.01e+04    -  8.57e-03 2.46e-03h  1\n",
            "   3 -3.6578070e-03 2.29e+04 4.74e+01  -1.0 4.83e+04    -  8.08e-03 1.05e-03h  1\n",
            "   4 -3.9266588e-03 2.29e+04 1.03e+03  -1.0 6.68e+04    -  1.05e-02 4.50e-04h  1\n",
            "   5r-3.9266588e-03 2.29e+04 9.99e+02   2.5 0.00e+00    -  0.00e+00 4.30e-07R  5\n",
            "   6r-3.6603601e-03 2.25e+04 1.41e+03   2.5 4.42e+04    -  1.28e-02 1.16e-04f  1\n",
            "   7r-6.1207948e-03 2.14e+02 1.40e+03   1.1 6.68e+04    -  5.08e-04 4.26e-03f  1\n",
            "   8 -6.1549059e-03 2.14e+02 1.85e+02  -1.0 1.48e+04    -  1.72e-02 1.05e-04h  1\n",
            "   9 -6.1765151e-03 2.14e+02 1.19e+04  -1.0 1.53e+04    -  3.00e-03 4.67e-05h  1\n",
            "iter    objective    inf_pr   inf_du lg(mu)  ||d||  lg(rg) alpha_du alpha_pr  ls\n",
            "  10r-6.1765151e-03 2.14e+02 9.99e+02   0.4 0.00e+00    -  0.00e+00 4.67e-07R  3\n",
            "  11r-1.9310192e-02 1.16e+02 1.00e+03   0.4 2.70e+03    -  1.67e-04 4.63e-04f  1\n",
            "  12r-1.9310192e-02 1.16e+02 9.99e+02   0.4 0.00e+00    -  0.00e+00 3.48e-07R  4\n",
            "  13r-3.2756300e-02 8.30e+01 9.99e+02   0.4 8.81e+02    -  3.12e-04 4.72e-04f  1\n",
            "  14r-6.7805346e-02 2.73e+01 9.97e+02   0.4 5.59e+02    -  5.29e-04 1.33e-03f  1\n",
            "  15r-1.1813935e-01 2.17e+00 9.97e+02   0.4 2.44e+02    -  9.02e-04 2.33e-03f  1\n",
            "  16 -1.2099051e-01 2.12e+00 4.14e+00  -1.0 4.14e+03    -  4.09e-03 2.12e-02f  1\n",
            "  17 -1.2356062e-01 2.10e+00 9.48e+00  -1.0 2.34e+04    -  3.67e-02 1.16e-02f  1\n",
            "  18 -1.2364641e-01 2.09e+00 1.72e+02  -1.0 1.68e+04    -  4.06e-02 2.17e-03h  1\n",
            "  19 -1.2356887e-01 2.08e+00 2.77e+02  -1.0 2.33e+04    -  1.86e-02 5.67e-03h  1\n",
            "iter    objective    inf_pr   inf_du lg(mu)  ||d||  lg(rg) alpha_du alpha_pr  ls\n",
            "  20 -1.2357598e-01 2.08e+00 3.78e+04  -1.0 1.38e+04    -  1.13e-01 1.31e-04h  1\n",
            "  21 -1.2362553e-01 2.08e+00 4.55e+06  -1.0 6.39e+03    -  6.09e-02 4.95e-04h  1\n",
            "  22 -1.2362678e-01 2.08e+00 8.54e+10  -1.0 6.42e+03    -  2.35e-01 1.25e-05h  1\n",
            "  23r-1.2362678e-01 2.08e+00 1.00e+03   0.3 0.00e+00    -  0.00e+00 7.13e-08R  2\n",
            "  24r-1.3253110e-01 2.04e+00 9.98e+02   0.3 2.24e+02    -  3.43e-03 7.29e-04f  1\n",
            "  25r-1.8471177e-01 1.89e+00 9.92e+02   0.3 2.03e+02    -  5.73e-03 5.78e-03f  1\n",
            "  26 -2.0088125e-01 1.51e+00 1.34e+03  -1.0 1.69e+04    -  4.39e-04 1.99e-01f  1\n",
            "  27 -2.0087144e-01 1.51e+00 1.33e+03  -1.0 6.87e+02  -4.0 6.59e-03 1.71e-03h  1\n",
            "  28 -2.0994619e-01 1.35e+00 1.20e+03  -1.0 1.62e+04    -  3.14e-03 1.02e-01f  1\n",
            "  29 -2.0939745e-01 1.34e+00 1.14e+03  -1.0 3.76e+03  -4.5 6.67e-02 6.98e-03h  1\n",
            "iter    objective    inf_pr   inf_du lg(mu)  ||d||  lg(rg) alpha_du alpha_pr  ls\n",
            "  30 -2.2530548e-01 1.07e+00 9.61e+02  -1.0 1.52e+04    -  3.83e-03 2.03e-01f  1\n",
            "  31 -2.8280021e-01 1.55e-01 8.61e+02  -1.0 1.27e+04    -  1.23e-01 8.55e-01h  1\n",
            "  32 -2.8688771e-01 1.35e-01 7.60e+02  -1.0 7.81e+03    -  4.64e-01 1.34e-01h  1\n",
            "  33 -3.0310660e-01 3.08e-02 5.24e+03  -1.0 5.66e+03    -  5.56e-02 9.44e-01h  1\n",
            "  34 -3.0847431e-01 8.22e-03 2.27e+03  -1.0 2.26e+03    -  1.38e-01 1.00e+00f  1\n",
            "  35 -3.0624849e-01 4.58e-03 7.35e+00  -1.0 1.25e+03    -  8.46e-01 1.00e+00f  1\n",
            "  36 -2.9839605e-01 2.93e-02 2.19e+00  -1.0 5.01e+03    -  8.71e-01 7.92e-01f  1\n",
            "  37 -2.9105657e-01 5.80e-03 1.19e-01  -1.0 1.26e+03    -  1.00e+00 1.00e+00f  1\n",
            "  38 -2.8960695e-01 4.25e-04 2.17e+00  -1.7 4.69e+02    -  9.28e-01 1.00e+00h  1\n",
            "  39 -2.8658814e-01 9.59e-03 2.97e-02  -1.7 1.38e+03    -  1.00e+00 1.00e+00f  1\n",
            "iter    objective    inf_pr   inf_du lg(mu)  ||d||  lg(rg) alpha_du alpha_pr  ls\n",
            "  40 -2.8576679e-01 1.39e-03 2.28e+00  -2.5 2.88e+02    -  7.25e-01 1.00e+00h  1\n",
            "  41 -2.8692113e-01 2.01e-04 2.16e-03  -2.5 1.79e+02    -  1.00e+00 1.00e+00h  1\n",
            "  42 -2.9461415e-01 4.64e-03 5.96e-02  -3.8 1.52e+03    -  8.22e-01 1.00e+00h  1\n",
            "  43 -3.1056621e-01 1.76e-02 1.23e-03  -3.8 3.63e+03    -  1.00e+00 9.77e-01h  1\n",
            "  44 -3.1956086e-01 1.66e-02 1.71e-02  -3.8 3.84e+03    -  9.48e-01 1.00e+00h  1\n",
            "  45 -3.2546091e-01 5.70e-02 7.34e-02  -3.8 1.52e+03    -  2.85e-01 4.06e-01h  1\n",
            "  46 -3.2567901e-01 5.60e-02 3.76e-01  -3.8 1.01e+04    -  4.91e-02 1.85e-02h  1\n",
            "  47 -3.2508651e-01 5.57e-02 6.01e-01  -3.8 1.65e+04    -  2.87e-02 3.96e-02f  2\n",
            "  48 -3.2499186e-01 6.18e-02 2.36e-01  -3.8 1.56e+04    -  3.10e-02 5.24e-02h  2\n",
            "  49 -3.2617035e-01 3.56e-02 1.03e-01  -3.8 1.30e+03    -  3.44e-01 4.23e-01h  1\n",
            "iter    objective    inf_pr   inf_du lg(mu)  ||d||  lg(rg) alpha_du alpha_pr  ls\n",
            "  50 -3.2579797e-01 1.64e-03 3.99e-05  -3.8 2.48e+02    -  1.00e+00 1.00e+00h  1\n",
            "  51 -3.2586830e-01 8.59e-05 2.39e-06  -3.8 6.38e+01    -  1.00e+00 1.00e+00h  1\n",
            "  52 -3.2767726e-01 1.17e-02 1.03e-02  -5.7 3.67e+03    -  4.93e-01 5.24e-01h  1\n",
            "  53 -3.2975360e-01 3.86e-02 7.80e-04  -5.7 5.44e+03    -  5.86e-01 5.61e-01h  1\n",
            "  54 -3.3154785e-01 4.16e-02 2.01e-02  -5.7 4.18e+03    -  6.33e-01 7.75e-01h  1\n",
            "  55 -3.3150511e-01 2.79e-02 3.66e-01  -5.7 5.45e+01    -  5.44e-02 3.31e-01h  1\n",
            "  56 -3.3133163e-01 2.93e-04 2.08e-01  -5.7 1.90e+02    -  1.56e-01 1.00e+00h  1\n",
            "  57 -3.3137980e-01 1.63e-04 3.66e-02  -5.7 1.63e+02    -  1.00e+00 5.13e-01h  1\n",
            "  58 -3.3137354e-01 3.60e-07 1.08e+02  -5.7 1.06e+01    -  2.02e-04 1.00e+00f  1\n",
            "  59 -3.3137305e-01 2.19e-09 8.79e-11  -5.7 8.67e-01    -  1.00e+00 1.00e+00h  1\n",
            "iter    objective    inf_pr   inf_du lg(mu)  ||d||  lg(rg) alpha_du alpha_pr  ls\n",
            "  60 -3.3138083e-01 2.01e-07 1.08e-03  -8.6 1.03e+01    -  1.00e+00 9.01e-01h  1\n",
            "  61 -3.3138103e-01 3.49e-10 5.71e-02  -8.6 2.11e-01    -  2.82e-01 1.00e+00f  1\n",
            "  62 -3.3138103e-01 2.55e-15 2.51e-14  -8.6 9.12e-04    -  1.00e+00 1.00e+00h  1\n",
            "\n",
            "Number of Iterations....: 62\n",
            "\n",
            "                                   (scaled)                 (unscaled)\n",
            "Objective...............:  -3.3138103179607348e-01   -3.3138103179607348e-01\n",
            "Dual infeasibility......:   2.5091040356528538e-14    2.5091040356528538e-14\n",
            "Constraint violation....:   2.5535129566378600e-15    2.5535129566378600e-15\n",
            "Complementarity.........:   2.6856757376221240e-09    2.6856757376221240e-09\n",
            "Overall NLP error.......:   2.6856757376221240e-09    2.6856757376221240e-09\n",
            "\n",
            "\n",
            "Number of objective function evaluations             = 83\n",
            "Number of objective gradient evaluations             = 59\n",
            "Number of equality constraint evaluations            = 83\n",
            "Number of inequality constraint evaluations          = 83\n",
            "Number of equality constraint Jacobian evaluations   = 67\n",
            "Number of inequality constraint Jacobian evaluations = 67\n",
            "Number of Lagrangian Hessian evaluations             = 62\n",
            "Total CPU secs in IPOPT (w/o function evaluations)   =      0.245\n",
            "Total CPU secs in NLP function evaluations           =      0.008\n",
            "\n",
            "EXIT: Optimal Solution Found.\n",
            "\b\b\b\b\b\b\b\b\b\b\b\b\b\b\b"
          ]
        }
      ],
      "source": [
        "# now solve the optimization problem\n",
        "solver = pyo.SolverFactory('ipopt')\n",
        "status = solver.solve(m, tee=True)"
      ]
    },
    {
      "cell_type": "code",
      "execution_count": 17,
      "metadata": {
        "colab": {
          "base_uri": "https://localhost:8080/"
        },
        "id": "VqgDegWfv7vE",
        "outputId": "1d8b9cec-a1b6-40fa-e4b9-315f6bd8fe7a"
      },
      "outputs": [
        {
          "name": "stdout",
          "output_type": "stream",
          "text": [
            "Bypass Fraction: 0.10000023663266308\n",
            "NG Steam Ratio: 1.1139330924434168\n",
            "H2 Concentration: 0.3313810317960735\n",
            "N2 Concentration: 0.34000000435466543\n"
          ]
        }
      ],
      "source": [
        "print('Bypass Fraction:', pyo.value(m.reformer.inputs[0]))\n",
        "print('NG Steam Ratio:', pyo.value(m.reformer.inputs[1]))\n",
        "print('H2 Concentration:', pyo.value(m.reformer.outputs[h2_idx]))\n",
        "print('N2 Concentration:', pyo.value(m.reformer.outputs[n2_idx]))"
      ]
    },
    {
      "cell_type": "code",
      "execution_count": 29,
      "metadata": {
        "id": "m4fov3KZv7vF"
      },
      "outputs": [
        {
          "data": {
            "text/html": [
              "<div>\n",
              "<style scoped>\n",
              "    .dataframe tbody tr th:only-of-type {\n",
              "        vertical-align: middle;\n",
              "    }\n",
              "\n",
              "    .dataframe tbody tr th {\n",
              "        vertical-align: top;\n",
              "    }\n",
              "\n",
              "    .dataframe thead th {\n",
              "        text-align: right;\n",
              "    }\n",
              "</style>\n",
              "<table border=\"1\" class=\"dataframe\">\n",
              "  <thead>\n",
              "    <tr style=\"text-align: right;\">\n",
              "      <th></th>\n",
              "      <th>Steam Flow</th>\n",
              "      <th>Reformer Duty</th>\n",
              "      <th>AR</th>\n",
              "      <th>C2H6</th>\n",
              "      <th>C3H8</th>\n",
              "      <th>C4H10</th>\n",
              "      <th>CH4</th>\n",
              "      <th>CO</th>\n",
              "      <th>CO2</th>\n",
              "      <th>H2</th>\n",
              "      <th>H2O</th>\n",
              "      <th>N2</th>\n",
              "    </tr>\n",
              "  </thead>\n",
              "  <tbody>\n",
              "    <tr>\n",
              "      <th>0</th>\n",
              "      <td>-1.805541</td>\n",
              "      <td>-1.683807</td>\n",
              "      <td>-2.222771</td>\n",
              "      <td>2.422867</td>\n",
              "      <td>2.425049</td>\n",
              "      <td>2.429208</td>\n",
              "      <td>2.450698</td>\n",
              "      <td>-1.828085</td>\n",
              "      <td>-2.701060</td>\n",
              "      <td>-2.362022</td>\n",
              "      <td>-2.619916</td>\n",
              "      <td>-2.218774</td>\n",
              "    </tr>\n",
              "    <tr>\n",
              "      <th>1</th>\n",
              "      <td>-1.798042</td>\n",
              "      <td>-1.680849</td>\n",
              "      <td>-2.231698</td>\n",
              "      <td>2.423327</td>\n",
              "      <td>2.425778</td>\n",
              "      <td>2.428618</td>\n",
              "      <td>2.449987</td>\n",
              "      <td>-1.849774</td>\n",
              "      <td>-2.673985</td>\n",
              "      <td>-2.365599</td>\n",
              "      <td>-2.585436</td>\n",
              "      <td>-2.228149</td>\n",
              "    </tr>\n",
              "    <tr>\n",
              "      <th>2</th>\n",
              "      <td>-1.790231</td>\n",
              "      <td>-1.677695</td>\n",
              "      <td>-2.240525</td>\n",
              "      <td>2.423472</td>\n",
              "      <td>2.426250</td>\n",
              "      <td>2.427757</td>\n",
              "      <td>2.449010</td>\n",
              "      <td>-1.871596</td>\n",
              "      <td>-2.646191</td>\n",
              "      <td>-2.368973</td>\n",
              "      <td>-2.550155</td>\n",
              "      <td>-2.237422</td>\n",
              "    </tr>\n",
              "    <tr>\n",
              "      <th>3</th>\n",
              "      <td>-1.782122</td>\n",
              "      <td>-1.674349</td>\n",
              "      <td>-2.249238</td>\n",
              "      <td>2.423302</td>\n",
              "      <td>2.426465</td>\n",
              "      <td>2.426629</td>\n",
              "      <td>2.447771</td>\n",
              "      <td>-1.893510</td>\n",
              "      <td>-2.617738</td>\n",
              "      <td>-2.372141</td>\n",
              "      <td>-2.514146</td>\n",
              "      <td>-2.246578</td>\n",
              "    </tr>\n",
              "    <tr>\n",
              "      <th>4</th>\n",
              "      <td>-1.773732</td>\n",
              "      <td>-1.670812</td>\n",
              "      <td>-2.257820</td>\n",
              "      <td>2.422820</td>\n",
              "      <td>2.426425</td>\n",
              "      <td>2.425242</td>\n",
              "      <td>2.446273</td>\n",
              "      <td>-1.915475</td>\n",
              "      <td>-2.588687</td>\n",
              "      <td>-2.375098</td>\n",
              "      <td>-2.477486</td>\n",
              "      <td>-2.255595</td>\n",
              "    </tr>\n",
              "    <tr>\n",
              "      <th>...</th>\n",
              "      <td>...</td>\n",
              "      <td>...</td>\n",
              "      <td>...</td>\n",
              "      <td>...</td>\n",
              "      <td>...</td>\n",
              "      <td>...</td>\n",
              "      <td>...</td>\n",
              "      <td>...</td>\n",
              "      <td>...</td>\n",
              "      <td>...</td>\n",
              "      <td>...</td>\n",
              "      <td>...</td>\n",
              "    </tr>\n",
              "    <tr>\n",
              "      <th>2795</th>\n",
              "      <td>2.166839</td>\n",
              "      <td>2.045166</td>\n",
              "      <td>0.961004</td>\n",
              "      <td>-1.220388</td>\n",
              "      <td>-1.206330</td>\n",
              "      <td>-1.205281</td>\n",
              "      <td>-1.217341</td>\n",
              "      <td>0.566930</td>\n",
              "      <td>1.731788</td>\n",
              "      <td>1.105814</td>\n",
              "      <td>1.831165</td>\n",
              "      <td>0.955730</td>\n",
              "    </tr>\n",
              "    <tr>\n",
              "      <th>2796</th>\n",
              "      <td>2.198785</td>\n",
              "      <td>2.066802</td>\n",
              "      <td>0.947557</td>\n",
              "      <td>-1.219256</td>\n",
              "      <td>-1.204666</td>\n",
              "      <td>-1.203916</td>\n",
              "      <td>-1.217012</td>\n",
              "      <td>0.535918</td>\n",
              "      <td>1.765291</td>\n",
              "      <td>1.100016</td>\n",
              "      <td>1.877622</td>\n",
              "      <td>0.941576</td>\n",
              "    </tr>\n",
              "    <tr>\n",
              "      <th>2797</th>\n",
              "      <td>2.229663</td>\n",
              "      <td>2.087800</td>\n",
              "      <td>0.934395</td>\n",
              "      <td>-1.218041</td>\n",
              "      <td>-1.202916</td>\n",
              "      <td>-1.202438</td>\n",
              "      <td>-1.216642</td>\n",
              "      <td>0.505735</td>\n",
              "      <td>1.797619</td>\n",
              "      <td>1.094322</td>\n",
              "      <td>1.922605</td>\n",
              "      <td>0.927739</td>\n",
              "    </tr>\n",
              "    <tr>\n",
              "      <th>2798</th>\n",
              "      <td>2.259445</td>\n",
              "      <td>2.108130</td>\n",
              "      <td>0.921532</td>\n",
              "      <td>-1.216750</td>\n",
              "      <td>-1.201088</td>\n",
              "      <td>-1.200856</td>\n",
              "      <td>-1.216229</td>\n",
              "      <td>0.476410</td>\n",
              "      <td>1.828756</td>\n",
              "      <td>1.088740</td>\n",
              "      <td>1.966075</td>\n",
              "      <td>0.914235</td>\n",
              "    </tr>\n",
              "    <tr>\n",
              "      <th>2799</th>\n",
              "      <td>2.288104</td>\n",
              "      <td>2.127766</td>\n",
              "      <td>0.908984</td>\n",
              "      <td>-1.215392</td>\n",
              "      <td>-1.199191</td>\n",
              "      <td>-1.199177</td>\n",
              "      <td>-1.215775</td>\n",
              "      <td>0.447971</td>\n",
              "      <td>1.858684</td>\n",
              "      <td>1.083273</td>\n",
              "      <td>2.008001</td>\n",
              "      <td>0.901080</td>\n",
              "    </tr>\n",
              "  </tbody>\n",
              "</table>\n",
              "<p>2800 rows × 12 columns</p>\n",
              "</div>"
            ],
            "text/plain": [
              "      Steam Flow  Reformer Duty        AR      C2H6      C3H8     C4H10  \\\n",
              "0      -1.805541      -1.683807 -2.222771  2.422867  2.425049  2.429208   \n",
              "1      -1.798042      -1.680849 -2.231698  2.423327  2.425778  2.428618   \n",
              "2      -1.790231      -1.677695 -2.240525  2.423472  2.426250  2.427757   \n",
              "3      -1.782122      -1.674349 -2.249238  2.423302  2.426465  2.426629   \n",
              "4      -1.773732      -1.670812 -2.257820  2.422820  2.426425  2.425242   \n",
              "...          ...            ...       ...       ...       ...       ...   \n",
              "2795    2.166839       2.045166  0.961004 -1.220388 -1.206330 -1.205281   \n",
              "2796    2.198785       2.066802  0.947557 -1.219256 -1.204666 -1.203916   \n",
              "2797    2.229663       2.087800  0.934395 -1.218041 -1.202916 -1.202438   \n",
              "2798    2.259445       2.108130  0.921532 -1.216750 -1.201088 -1.200856   \n",
              "2799    2.288104       2.127766  0.908984 -1.215392 -1.199191 -1.199177   \n",
              "\n",
              "           CH4        CO       CO2        H2       H2O        N2  \n",
              "0     2.450698 -1.828085 -2.701060 -2.362022 -2.619916 -2.218774  \n",
              "1     2.449987 -1.849774 -2.673985 -2.365599 -2.585436 -2.228149  \n",
              "2     2.449010 -1.871596 -2.646191 -2.368973 -2.550155 -2.237422  \n",
              "3     2.447771 -1.893510 -2.617738 -2.372141 -2.514146 -2.246578  \n",
              "4     2.446273 -1.915475 -2.588687 -2.375098 -2.477486 -2.255595  \n",
              "...        ...       ...       ...       ...       ...       ...  \n",
              "2795 -1.217341  0.566930  1.731788  1.105814  1.831165  0.955730  \n",
              "2796 -1.217012  0.535918  1.765291  1.100016  1.877622  0.941576  \n",
              "2797 -1.216642  0.505735  1.797619  1.094322  1.922605  0.927739  \n",
              "2798 -1.216229  0.476410  1.828756  1.088740  1.966075  0.914235  \n",
              "2799 -1.215775  0.447971  1.858684  1.083273  2.008001  0.901080  \n",
              "\n",
              "[2800 rows x 12 columns]"
            ]
          },
          "execution_count": 29,
          "metadata": {},
          "output_type": "execute_result"
        }
      ],
      "source": [
        "y_pred=pd.DataFrame(nn.predict(dfin))\n",
        "df_df=pd.DataFrame(dfout)\n",
        "cols=df_df.columns\n",
        "y_pred.columns=cols\n",
        "y_pred"
      ]
    },
    {
      "cell_type": "code",
      "execution_count": 30,
      "metadata": {},
      "outputs": [
        {
          "data": {
            "text/html": [
              "<div>\n",
              "<style scoped>\n",
              "    .dataframe tbody tr th:only-of-type {\n",
              "        vertical-align: middle;\n",
              "    }\n",
              "\n",
              "    .dataframe tbody tr th {\n",
              "        vertical-align: top;\n",
              "    }\n",
              "\n",
              "    .dataframe thead th {\n",
              "        text-align: right;\n",
              "    }\n",
              "</style>\n",
              "<table border=\"1\" class=\"dataframe\">\n",
              "  <thead>\n",
              "    <tr style=\"text-align: right;\">\n",
              "      <th></th>\n",
              "      <th>Steam Flow</th>\n",
              "      <th>Reformer Duty</th>\n",
              "      <th>AR</th>\n",
              "      <th>C2H6</th>\n",
              "      <th>C3H8</th>\n",
              "      <th>C4H10</th>\n",
              "      <th>CH4</th>\n",
              "      <th>CO</th>\n",
              "      <th>CO2</th>\n",
              "      <th>H2</th>\n",
              "      <th>H2O</th>\n",
              "      <th>N2</th>\n",
              "    </tr>\n",
              "  </thead>\n",
              "  <tbody>\n",
              "    <tr>\n",
              "      <th>Steam Flow</th>\n",
              "      <td>1.000000</td>\n",
              "      <td>0.991731</td>\n",
              "      <td>0.862744</td>\n",
              "      <td>-0.919465</td>\n",
              "      <td>-0.919499</td>\n",
              "      <td>-0.919442</td>\n",
              "      <td>-0.919637</td>\n",
              "      <td>0.736538</td>\n",
              "      <td>0.951606</td>\n",
              "      <td>0.898241</td>\n",
              "      <td>0.909995</td>\n",
              "      <td>0.859710</td>\n",
              "    </tr>\n",
              "    <tr>\n",
              "      <th>Reformer Duty</th>\n",
              "      <td>0.991731</td>\n",
              "      <td>1.000000</td>\n",
              "      <td>0.903909</td>\n",
              "      <td>-0.942073</td>\n",
              "      <td>-0.942080</td>\n",
              "      <td>-0.942050</td>\n",
              "      <td>-0.942183</td>\n",
              "      <td>0.803832</td>\n",
              "      <td>0.917788</td>\n",
              "      <td>0.928771</td>\n",
              "      <td>0.855950</td>\n",
              "      <td>0.901701</td>\n",
              "    </tr>\n",
              "    <tr>\n",
              "      <th>AR</th>\n",
              "      <td>0.862744</td>\n",
              "      <td>0.903909</td>\n",
              "      <td>1.000000</td>\n",
              "      <td>-0.987657</td>\n",
              "      <td>-0.987664</td>\n",
              "      <td>-0.987673</td>\n",
              "      <td>-0.987541</td>\n",
              "      <td>0.971616</td>\n",
              "      <td>0.812324</td>\n",
              "      <td>0.995851</td>\n",
              "      <td>0.696998</td>\n",
              "      <td>0.999971</td>\n",
              "    </tr>\n",
              "    <tr>\n",
              "      <th>C2H6</th>\n",
              "      <td>-0.919465</td>\n",
              "      <td>-0.942073</td>\n",
              "      <td>-0.987657</td>\n",
              "      <td>1.000000</td>\n",
              "      <td>0.999982</td>\n",
              "      <td>0.999993</td>\n",
              "      <td>0.999985</td>\n",
              "      <td>-0.922607</td>\n",
              "      <td>-0.893593</td>\n",
              "      <td>-0.997789</td>\n",
              "      <td>-0.800649</td>\n",
              "      <td>-0.986539</td>\n",
              "    </tr>\n",
              "    <tr>\n",
              "      <th>C3H8</th>\n",
              "      <td>-0.919499</td>\n",
              "      <td>-0.942080</td>\n",
              "      <td>-0.987664</td>\n",
              "      <td>0.999982</td>\n",
              "      <td>1.000000</td>\n",
              "      <td>0.999991</td>\n",
              "      <td>0.999988</td>\n",
              "      <td>-0.922612</td>\n",
              "      <td>-0.893588</td>\n",
              "      <td>-0.997802</td>\n",
              "      <td>-0.800666</td>\n",
              "      <td>-0.986540</td>\n",
              "    </tr>\n",
              "    <tr>\n",
              "      <th>C4H10</th>\n",
              "      <td>-0.919442</td>\n",
              "      <td>-0.942050</td>\n",
              "      <td>-0.987673</td>\n",
              "      <td>0.999993</td>\n",
              "      <td>0.999991</td>\n",
              "      <td>1.000000</td>\n",
              "      <td>0.999986</td>\n",
              "      <td>-0.922623</td>\n",
              "      <td>-0.893576</td>\n",
              "      <td>-0.997803</td>\n",
              "      <td>-0.800637</td>\n",
              "      <td>-0.986548</td>\n",
              "    </tr>\n",
              "    <tr>\n",
              "      <th>CH4</th>\n",
              "      <td>-0.919637</td>\n",
              "      <td>-0.942183</td>\n",
              "      <td>-0.987541</td>\n",
              "      <td>0.999985</td>\n",
              "      <td>0.999988</td>\n",
              "      <td>0.999986</td>\n",
              "      <td>1.000000</td>\n",
              "      <td>-0.922332</td>\n",
              "      <td>-0.893926</td>\n",
              "      <td>-0.997756</td>\n",
              "      <td>-0.801105</td>\n",
              "      <td>-0.986423</td>\n",
              "    </tr>\n",
              "    <tr>\n",
              "      <th>CO</th>\n",
              "      <td>0.736538</td>\n",
              "      <td>0.803832</td>\n",
              "      <td>0.971616</td>\n",
              "      <td>-0.922607</td>\n",
              "      <td>-0.922612</td>\n",
              "      <td>-0.922623</td>\n",
              "      <td>-0.922332</td>\n",
              "      <td>1.000000</td>\n",
              "      <td>0.651337</td>\n",
              "      <td>0.946087</td>\n",
              "      <td>0.507664</td>\n",
              "      <td>0.973256</td>\n",
              "    </tr>\n",
              "    <tr>\n",
              "      <th>CO2</th>\n",
              "      <td>0.951606</td>\n",
              "      <td>0.917788</td>\n",
              "      <td>0.812324</td>\n",
              "      <td>-0.893593</td>\n",
              "      <td>-0.893588</td>\n",
              "      <td>-0.893576</td>\n",
              "      <td>-0.893926</td>\n",
              "      <td>0.651337</td>\n",
              "      <td>1.000000</td>\n",
              "      <td>0.861987</td>\n",
              "      <td>0.984241</td>\n",
              "      <td>0.808222</td>\n",
              "    </tr>\n",
              "    <tr>\n",
              "      <th>H2</th>\n",
              "      <td>0.898241</td>\n",
              "      <td>0.928771</td>\n",
              "      <td>0.995851</td>\n",
              "      <td>-0.997789</td>\n",
              "      <td>-0.997802</td>\n",
              "      <td>-0.997803</td>\n",
              "      <td>-0.997756</td>\n",
              "      <td>0.946087</td>\n",
              "      <td>0.861987</td>\n",
              "      <td>1.000000</td>\n",
              "      <td>0.759295</td>\n",
              "      <td>0.995191</td>\n",
              "    </tr>\n",
              "    <tr>\n",
              "      <th>H2O</th>\n",
              "      <td>0.909995</td>\n",
              "      <td>0.855950</td>\n",
              "      <td>0.696998</td>\n",
              "      <td>-0.800649</td>\n",
              "      <td>-0.800666</td>\n",
              "      <td>-0.800637</td>\n",
              "      <td>-0.801105</td>\n",
              "      <td>0.507664</td>\n",
              "      <td>0.984241</td>\n",
              "      <td>0.759295</td>\n",
              "      <td>1.000000</td>\n",
              "      <td>0.691956</td>\n",
              "    </tr>\n",
              "    <tr>\n",
              "      <th>N2</th>\n",
              "      <td>0.859710</td>\n",
              "      <td>0.901701</td>\n",
              "      <td>0.999971</td>\n",
              "      <td>-0.986539</td>\n",
              "      <td>-0.986540</td>\n",
              "      <td>-0.986548</td>\n",
              "      <td>-0.986423</td>\n",
              "      <td>0.973256</td>\n",
              "      <td>0.808222</td>\n",
              "      <td>0.995191</td>\n",
              "      <td>0.691956</td>\n",
              "      <td>1.000000</td>\n",
              "    </tr>\n",
              "  </tbody>\n",
              "</table>\n",
              "</div>"
            ],
            "text/plain": [
              "               Steam Flow  Reformer Duty        AR      C2H6      C3H8  \\\n",
              "Steam Flow       1.000000       0.991731  0.862744 -0.919465 -0.919499   \n",
              "Reformer Duty    0.991731       1.000000  0.903909 -0.942073 -0.942080   \n",
              "AR               0.862744       0.903909  1.000000 -0.987657 -0.987664   \n",
              "C2H6            -0.919465      -0.942073 -0.987657  1.000000  0.999982   \n",
              "C3H8            -0.919499      -0.942080 -0.987664  0.999982  1.000000   \n",
              "C4H10           -0.919442      -0.942050 -0.987673  0.999993  0.999991   \n",
              "CH4             -0.919637      -0.942183 -0.987541  0.999985  0.999988   \n",
              "CO               0.736538       0.803832  0.971616 -0.922607 -0.922612   \n",
              "CO2              0.951606       0.917788  0.812324 -0.893593 -0.893588   \n",
              "H2               0.898241       0.928771  0.995851 -0.997789 -0.997802   \n",
              "H2O              0.909995       0.855950  0.696998 -0.800649 -0.800666   \n",
              "N2               0.859710       0.901701  0.999971 -0.986539 -0.986540   \n",
              "\n",
              "                  C4H10       CH4        CO       CO2        H2       H2O  \\\n",
              "Steam Flow    -0.919442 -0.919637  0.736538  0.951606  0.898241  0.909995   \n",
              "Reformer Duty -0.942050 -0.942183  0.803832  0.917788  0.928771  0.855950   \n",
              "AR            -0.987673 -0.987541  0.971616  0.812324  0.995851  0.696998   \n",
              "C2H6           0.999993  0.999985 -0.922607 -0.893593 -0.997789 -0.800649   \n",
              "C3H8           0.999991  0.999988 -0.922612 -0.893588 -0.997802 -0.800666   \n",
              "C4H10          1.000000  0.999986 -0.922623 -0.893576 -0.997803 -0.800637   \n",
              "CH4            0.999986  1.000000 -0.922332 -0.893926 -0.997756 -0.801105   \n",
              "CO            -0.922623 -0.922332  1.000000  0.651337  0.946087  0.507664   \n",
              "CO2           -0.893576 -0.893926  0.651337  1.000000  0.861987  0.984241   \n",
              "H2            -0.997803 -0.997756  0.946087  0.861987  1.000000  0.759295   \n",
              "H2O           -0.800637 -0.801105  0.507664  0.984241  0.759295  1.000000   \n",
              "N2            -0.986548 -0.986423  0.973256  0.808222  0.995191  0.691956   \n",
              "\n",
              "                     N2  \n",
              "Steam Flow     0.859710  \n",
              "Reformer Duty  0.901701  \n",
              "AR             0.999971  \n",
              "C2H6          -0.986539  \n",
              "C3H8          -0.986540  \n",
              "C4H10         -0.986548  \n",
              "CH4           -0.986423  \n",
              "CO             0.973256  \n",
              "CO2            0.808222  \n",
              "H2             0.995191  \n",
              "H2O            0.691956  \n",
              "N2             1.000000  "
            ]
          },
          "execution_count": 30,
          "metadata": {},
          "output_type": "execute_result"
        }
      ],
      "source": [
        "heat_map_data=pd.concat([y_pred,df_df]).corr()\n",
        "heat_map_data"
      ]
    },
    {
      "cell_type": "code",
      "execution_count": 35,
      "metadata": {},
      "outputs": [
        {
          "data": {
            "application/vnd.plotly.v1+json": {
              "config": {
                "plotlyServerURL": "https://plot.ly"
              },
              "data": [
                {
                  "coloraxis": "coloraxis",
                  "hovertemplate": "x: %{x}<br>y: %{y}<br>color: %{z}<extra></extra>",
                  "name": "0",
                  "type": "heatmap",
                  "x": [
                    "Steam Flow",
                    "Reformer Duty",
                    "AR",
                    "C2H6",
                    "C3H8",
                    "C4H10",
                    "CH4",
                    "CO",
                    "CO2",
                    "H2",
                    "H2O",
                    "N2"
                  ],
                  "xaxis": "x",
                  "y": [
                    "Steam Flow",
                    "Reformer Duty",
                    "AR",
                    "C2H6",
                    "C3H8",
                    "C4H10",
                    "CH4",
                    "CO",
                    "CO2",
                    "H2",
                    "H2O",
                    "N2"
                  ],
                  "yaxis": "y",
                  "z": [
                    [
                      1,
                      0.9917308541172157,
                      0.8627441607486187,
                      -0.9194649995210359,
                      -0.9194991934520376,
                      -0.9194415141344531,
                      -0.919637302286508,
                      0.7365382913480975,
                      0.9516057633790207,
                      0.8982413287038615,
                      0.909995422315808,
                      0.8597095594730815
                    ],
                    [
                      0.9917308541172157,
                      1,
                      0.9039093189097815,
                      -0.9420727284409799,
                      -0.9420802994365797,
                      -0.9420498945496075,
                      -0.9421830672628442,
                      0.8038320164472714,
                      0.9177877752743346,
                      0.9287708909481058,
                      0.8559496571556383,
                      0.9017010346724074
                    ],
                    [
                      0.8627441607486187,
                      0.9039093189097815,
                      1,
                      -0.9876574695090599,
                      -0.9876641075708565,
                      -0.987673006772173,
                      -0.9875412130878164,
                      0.9716160135798012,
                      0.8123237531298904,
                      0.9958513545638613,
                      0.6969975255977018,
                      0.999970740045498
                    ],
                    [
                      -0.9194649995210359,
                      -0.9420727284409799,
                      -0.9876574695090599,
                      1,
                      0.9999822824252647,
                      0.9999927579311888,
                      0.9999847111630857,
                      -0.9226073979240659,
                      -0.8935934658762469,
                      -0.997789183991095,
                      -0.8006490065277444,
                      -0.9865394837526265
                    ],
                    [
                      -0.9194991934520376,
                      -0.9420802994365797,
                      -0.9876641075708565,
                      0.9999822824252647,
                      1,
                      0.9999908892817788,
                      0.9999875735761784,
                      -0.9226121800836525,
                      -0.8935882565211007,
                      -0.9978016435578853,
                      -0.80066576123854,
                      -0.9865399165647142
                    ],
                    [
                      -0.9194415141344531,
                      -0.9420498945496075,
                      -0.987673006772173,
                      0.9999927579311888,
                      0.9999908892817788,
                      1,
                      0.9999863841517971,
                      -0.9226230099327547,
                      -0.8935759086351958,
                      -0.9978030729083301,
                      -0.8006371061187645,
                      -0.9865481240520565
                    ],
                    [
                      -0.919637302286508,
                      -0.9421830672628442,
                      -0.9875412130878164,
                      0.9999847111630857,
                      0.9999875735761784,
                      0.9999863841517971,
                      1,
                      -0.9223324730773566,
                      -0.8939263888626782,
                      -0.9977556173453828,
                      -0.8011048321741844,
                      -0.9864232228773948
                    ],
                    [
                      0.7365382913480975,
                      0.8038320164472714,
                      0.9716160135798012,
                      -0.9226073979240659,
                      -0.9226121800836525,
                      -0.9226230099327547,
                      -0.9223324730773566,
                      1,
                      0.6513369555372082,
                      0.9460873132421689,
                      0.5076644605038778,
                      0.9732555674390866
                    ],
                    [
                      0.9516057633790207,
                      0.9177877752743346,
                      0.8123237531298904,
                      -0.8935934658762469,
                      -0.8935882565211007,
                      -0.8935759086351958,
                      -0.8939263888626782,
                      0.6513369555372082,
                      1,
                      0.8619872371569146,
                      0.9842413626709913,
                      0.8082221872113973
                    ],
                    [
                      0.8982413287038615,
                      0.9287708909481058,
                      0.9958513545638613,
                      -0.997789183991095,
                      -0.9978016435578853,
                      -0.9978030729083301,
                      -0.9977556173453828,
                      0.9460873132421689,
                      0.8619872371569146,
                      1,
                      0.7592946396668937,
                      0.9951910172481573
                    ],
                    [
                      0.909995422315808,
                      0.8559496571556383,
                      0.6969975255977018,
                      -0.8006490065277444,
                      -0.80066576123854,
                      -0.8006371061187645,
                      -0.8011048321741844,
                      0.5076644605038778,
                      0.9842413626709913,
                      0.7592946396668937,
                      1,
                      0.6919561441013133
                    ],
                    [
                      0.8597095594730815,
                      0.9017010346724074,
                      0.999970740045498,
                      -0.9865394837526265,
                      -0.9865399165647142,
                      -0.9865481240520565,
                      -0.9864232228773948,
                      0.9732555674390866,
                      0.8082221872113973,
                      0.9951910172481573,
                      0.6919561441013133,
                      1
                    ]
                  ]
                }
              ],
              "layout": {
                "coloraxis": {
                  "colorscale": [
                    [
                      0,
                      "#0d0887"
                    ],
                    [
                      0.1111111111111111,
                      "#46039f"
                    ],
                    [
                      0.2222222222222222,
                      "#7201a8"
                    ],
                    [
                      0.3333333333333333,
                      "#9c179e"
                    ],
                    [
                      0.4444444444444444,
                      "#bd3786"
                    ],
                    [
                      0.5555555555555556,
                      "#d8576b"
                    ],
                    [
                      0.6666666666666666,
                      "#ed7953"
                    ],
                    [
                      0.7777777777777778,
                      "#fb9f3a"
                    ],
                    [
                      0.8888888888888888,
                      "#fdca26"
                    ],
                    [
                      1,
                      "#f0f921"
                    ]
                  ]
                },
                "margin": {
                  "t": 60
                },
                "template": {
                  "data": {
                    "bar": [
                      {
                        "error_x": {
                          "color": "#2a3f5f"
                        },
                        "error_y": {
                          "color": "#2a3f5f"
                        },
                        "marker": {
                          "line": {
                            "color": "#E5ECF6",
                            "width": 0.5
                          },
                          "pattern": {
                            "fillmode": "overlay",
                            "size": 10,
                            "solidity": 0.2
                          }
                        },
                        "type": "bar"
                      }
                    ],
                    "barpolar": [
                      {
                        "marker": {
                          "line": {
                            "color": "#E5ECF6",
                            "width": 0.5
                          },
                          "pattern": {
                            "fillmode": "overlay",
                            "size": 10,
                            "solidity": 0.2
                          }
                        },
                        "type": "barpolar"
                      }
                    ],
                    "carpet": [
                      {
                        "aaxis": {
                          "endlinecolor": "#2a3f5f",
                          "gridcolor": "white",
                          "linecolor": "white",
                          "minorgridcolor": "white",
                          "startlinecolor": "#2a3f5f"
                        },
                        "baxis": {
                          "endlinecolor": "#2a3f5f",
                          "gridcolor": "white",
                          "linecolor": "white",
                          "minorgridcolor": "white",
                          "startlinecolor": "#2a3f5f"
                        },
                        "type": "carpet"
                      }
                    ],
                    "choropleth": [
                      {
                        "colorbar": {
                          "outlinewidth": 0,
                          "ticks": ""
                        },
                        "type": "choropleth"
                      }
                    ],
                    "contour": [
                      {
                        "colorbar": {
                          "outlinewidth": 0,
                          "ticks": ""
                        },
                        "colorscale": [
                          [
                            0,
                            "#0d0887"
                          ],
                          [
                            0.1111111111111111,
                            "#46039f"
                          ],
                          [
                            0.2222222222222222,
                            "#7201a8"
                          ],
                          [
                            0.3333333333333333,
                            "#9c179e"
                          ],
                          [
                            0.4444444444444444,
                            "#bd3786"
                          ],
                          [
                            0.5555555555555556,
                            "#d8576b"
                          ],
                          [
                            0.6666666666666666,
                            "#ed7953"
                          ],
                          [
                            0.7777777777777778,
                            "#fb9f3a"
                          ],
                          [
                            0.8888888888888888,
                            "#fdca26"
                          ],
                          [
                            1,
                            "#f0f921"
                          ]
                        ],
                        "type": "contour"
                      }
                    ],
                    "contourcarpet": [
                      {
                        "colorbar": {
                          "outlinewidth": 0,
                          "ticks": ""
                        },
                        "type": "contourcarpet"
                      }
                    ],
                    "heatmap": [
                      {
                        "colorbar": {
                          "outlinewidth": 0,
                          "ticks": ""
                        },
                        "colorscale": [
                          [
                            0,
                            "#0d0887"
                          ],
                          [
                            0.1111111111111111,
                            "#46039f"
                          ],
                          [
                            0.2222222222222222,
                            "#7201a8"
                          ],
                          [
                            0.3333333333333333,
                            "#9c179e"
                          ],
                          [
                            0.4444444444444444,
                            "#bd3786"
                          ],
                          [
                            0.5555555555555556,
                            "#d8576b"
                          ],
                          [
                            0.6666666666666666,
                            "#ed7953"
                          ],
                          [
                            0.7777777777777778,
                            "#fb9f3a"
                          ],
                          [
                            0.8888888888888888,
                            "#fdca26"
                          ],
                          [
                            1,
                            "#f0f921"
                          ]
                        ],
                        "type": "heatmap"
                      }
                    ],
                    "heatmapgl": [
                      {
                        "colorbar": {
                          "outlinewidth": 0,
                          "ticks": ""
                        },
                        "colorscale": [
                          [
                            0,
                            "#0d0887"
                          ],
                          [
                            0.1111111111111111,
                            "#46039f"
                          ],
                          [
                            0.2222222222222222,
                            "#7201a8"
                          ],
                          [
                            0.3333333333333333,
                            "#9c179e"
                          ],
                          [
                            0.4444444444444444,
                            "#bd3786"
                          ],
                          [
                            0.5555555555555556,
                            "#d8576b"
                          ],
                          [
                            0.6666666666666666,
                            "#ed7953"
                          ],
                          [
                            0.7777777777777778,
                            "#fb9f3a"
                          ],
                          [
                            0.8888888888888888,
                            "#fdca26"
                          ],
                          [
                            1,
                            "#f0f921"
                          ]
                        ],
                        "type": "heatmapgl"
                      }
                    ],
                    "histogram": [
                      {
                        "marker": {
                          "pattern": {
                            "fillmode": "overlay",
                            "size": 10,
                            "solidity": 0.2
                          }
                        },
                        "type": "histogram"
                      }
                    ],
                    "histogram2d": [
                      {
                        "colorbar": {
                          "outlinewidth": 0,
                          "ticks": ""
                        },
                        "colorscale": [
                          [
                            0,
                            "#0d0887"
                          ],
                          [
                            0.1111111111111111,
                            "#46039f"
                          ],
                          [
                            0.2222222222222222,
                            "#7201a8"
                          ],
                          [
                            0.3333333333333333,
                            "#9c179e"
                          ],
                          [
                            0.4444444444444444,
                            "#bd3786"
                          ],
                          [
                            0.5555555555555556,
                            "#d8576b"
                          ],
                          [
                            0.6666666666666666,
                            "#ed7953"
                          ],
                          [
                            0.7777777777777778,
                            "#fb9f3a"
                          ],
                          [
                            0.8888888888888888,
                            "#fdca26"
                          ],
                          [
                            1,
                            "#f0f921"
                          ]
                        ],
                        "type": "histogram2d"
                      }
                    ],
                    "histogram2dcontour": [
                      {
                        "colorbar": {
                          "outlinewidth": 0,
                          "ticks": ""
                        },
                        "colorscale": [
                          [
                            0,
                            "#0d0887"
                          ],
                          [
                            0.1111111111111111,
                            "#46039f"
                          ],
                          [
                            0.2222222222222222,
                            "#7201a8"
                          ],
                          [
                            0.3333333333333333,
                            "#9c179e"
                          ],
                          [
                            0.4444444444444444,
                            "#bd3786"
                          ],
                          [
                            0.5555555555555556,
                            "#d8576b"
                          ],
                          [
                            0.6666666666666666,
                            "#ed7953"
                          ],
                          [
                            0.7777777777777778,
                            "#fb9f3a"
                          ],
                          [
                            0.8888888888888888,
                            "#fdca26"
                          ],
                          [
                            1,
                            "#f0f921"
                          ]
                        ],
                        "type": "histogram2dcontour"
                      }
                    ],
                    "mesh3d": [
                      {
                        "colorbar": {
                          "outlinewidth": 0,
                          "ticks": ""
                        },
                        "type": "mesh3d"
                      }
                    ],
                    "parcoords": [
                      {
                        "line": {
                          "colorbar": {
                            "outlinewidth": 0,
                            "ticks": ""
                          }
                        },
                        "type": "parcoords"
                      }
                    ],
                    "pie": [
                      {
                        "automargin": true,
                        "type": "pie"
                      }
                    ],
                    "scatter": [
                      {
                        "fillpattern": {
                          "fillmode": "overlay",
                          "size": 10,
                          "solidity": 0.2
                        },
                        "type": "scatter"
                      }
                    ],
                    "scatter3d": [
                      {
                        "line": {
                          "colorbar": {
                            "outlinewidth": 0,
                            "ticks": ""
                          }
                        },
                        "marker": {
                          "colorbar": {
                            "outlinewidth": 0,
                            "ticks": ""
                          }
                        },
                        "type": "scatter3d"
                      }
                    ],
                    "scattercarpet": [
                      {
                        "marker": {
                          "colorbar": {
                            "outlinewidth": 0,
                            "ticks": ""
                          }
                        },
                        "type": "scattercarpet"
                      }
                    ],
                    "scattergeo": [
                      {
                        "marker": {
                          "colorbar": {
                            "outlinewidth": 0,
                            "ticks": ""
                          }
                        },
                        "type": "scattergeo"
                      }
                    ],
                    "scattergl": [
                      {
                        "marker": {
                          "colorbar": {
                            "outlinewidth": 0,
                            "ticks": ""
                          }
                        },
                        "type": "scattergl"
                      }
                    ],
                    "scattermapbox": [
                      {
                        "marker": {
                          "colorbar": {
                            "outlinewidth": 0,
                            "ticks": ""
                          }
                        },
                        "type": "scattermapbox"
                      }
                    ],
                    "scatterpolar": [
                      {
                        "marker": {
                          "colorbar": {
                            "outlinewidth": 0,
                            "ticks": ""
                          }
                        },
                        "type": "scatterpolar"
                      }
                    ],
                    "scatterpolargl": [
                      {
                        "marker": {
                          "colorbar": {
                            "outlinewidth": 0,
                            "ticks": ""
                          }
                        },
                        "type": "scatterpolargl"
                      }
                    ],
                    "scatterternary": [
                      {
                        "marker": {
                          "colorbar": {
                            "outlinewidth": 0,
                            "ticks": ""
                          }
                        },
                        "type": "scatterternary"
                      }
                    ],
                    "surface": [
                      {
                        "colorbar": {
                          "outlinewidth": 0,
                          "ticks": ""
                        },
                        "colorscale": [
                          [
                            0,
                            "#0d0887"
                          ],
                          [
                            0.1111111111111111,
                            "#46039f"
                          ],
                          [
                            0.2222222222222222,
                            "#7201a8"
                          ],
                          [
                            0.3333333333333333,
                            "#9c179e"
                          ],
                          [
                            0.4444444444444444,
                            "#bd3786"
                          ],
                          [
                            0.5555555555555556,
                            "#d8576b"
                          ],
                          [
                            0.6666666666666666,
                            "#ed7953"
                          ],
                          [
                            0.7777777777777778,
                            "#fb9f3a"
                          ],
                          [
                            0.8888888888888888,
                            "#fdca26"
                          ],
                          [
                            1,
                            "#f0f921"
                          ]
                        ],
                        "type": "surface"
                      }
                    ],
                    "table": [
                      {
                        "cells": {
                          "fill": {
                            "color": "#EBF0F8"
                          },
                          "line": {
                            "color": "white"
                          }
                        },
                        "header": {
                          "fill": {
                            "color": "#C8D4E3"
                          },
                          "line": {
                            "color": "white"
                          }
                        },
                        "type": "table"
                      }
                    ]
                  },
                  "layout": {
                    "annotationdefaults": {
                      "arrowcolor": "#2a3f5f",
                      "arrowhead": 0,
                      "arrowwidth": 1
                    },
                    "autotypenumbers": "strict",
                    "coloraxis": {
                      "colorbar": {
                        "outlinewidth": 0,
                        "ticks": ""
                      }
                    },
                    "colorscale": {
                      "diverging": [
                        [
                          0,
                          "#8e0152"
                        ],
                        [
                          0.1,
                          "#c51b7d"
                        ],
                        [
                          0.2,
                          "#de77ae"
                        ],
                        [
                          0.3,
                          "#f1b6da"
                        ],
                        [
                          0.4,
                          "#fde0ef"
                        ],
                        [
                          0.5,
                          "#f7f7f7"
                        ],
                        [
                          0.6,
                          "#e6f5d0"
                        ],
                        [
                          0.7,
                          "#b8e186"
                        ],
                        [
                          0.8,
                          "#7fbc41"
                        ],
                        [
                          0.9,
                          "#4d9221"
                        ],
                        [
                          1,
                          "#276419"
                        ]
                      ],
                      "sequential": [
                        [
                          0,
                          "#0d0887"
                        ],
                        [
                          0.1111111111111111,
                          "#46039f"
                        ],
                        [
                          0.2222222222222222,
                          "#7201a8"
                        ],
                        [
                          0.3333333333333333,
                          "#9c179e"
                        ],
                        [
                          0.4444444444444444,
                          "#bd3786"
                        ],
                        [
                          0.5555555555555556,
                          "#d8576b"
                        ],
                        [
                          0.6666666666666666,
                          "#ed7953"
                        ],
                        [
                          0.7777777777777778,
                          "#fb9f3a"
                        ],
                        [
                          0.8888888888888888,
                          "#fdca26"
                        ],
                        [
                          1,
                          "#f0f921"
                        ]
                      ],
                      "sequentialminus": [
                        [
                          0,
                          "#0d0887"
                        ],
                        [
                          0.1111111111111111,
                          "#46039f"
                        ],
                        [
                          0.2222222222222222,
                          "#7201a8"
                        ],
                        [
                          0.3333333333333333,
                          "#9c179e"
                        ],
                        [
                          0.4444444444444444,
                          "#bd3786"
                        ],
                        [
                          0.5555555555555556,
                          "#d8576b"
                        ],
                        [
                          0.6666666666666666,
                          "#ed7953"
                        ],
                        [
                          0.7777777777777778,
                          "#fb9f3a"
                        ],
                        [
                          0.8888888888888888,
                          "#fdca26"
                        ],
                        [
                          1,
                          "#f0f921"
                        ]
                      ]
                    },
                    "colorway": [
                      "#636efa",
                      "#EF553B",
                      "#00cc96",
                      "#ab63fa",
                      "#FFA15A",
                      "#19d3f3",
                      "#FF6692",
                      "#B6E880",
                      "#FF97FF",
                      "#FECB52"
                    ],
                    "font": {
                      "color": "#2a3f5f"
                    },
                    "geo": {
                      "bgcolor": "white",
                      "lakecolor": "white",
                      "landcolor": "#E5ECF6",
                      "showlakes": true,
                      "showland": true,
                      "subunitcolor": "white"
                    },
                    "hoverlabel": {
                      "align": "left"
                    },
                    "hovermode": "closest",
                    "mapbox": {
                      "style": "light"
                    },
                    "paper_bgcolor": "white",
                    "plot_bgcolor": "#E5ECF6",
                    "polar": {
                      "angularaxis": {
                        "gridcolor": "white",
                        "linecolor": "white",
                        "ticks": ""
                      },
                      "bgcolor": "#E5ECF6",
                      "radialaxis": {
                        "gridcolor": "white",
                        "linecolor": "white",
                        "ticks": ""
                      }
                    },
                    "scene": {
                      "xaxis": {
                        "backgroundcolor": "#E5ECF6",
                        "gridcolor": "white",
                        "gridwidth": 2,
                        "linecolor": "white",
                        "showbackground": true,
                        "ticks": "",
                        "zerolinecolor": "white"
                      },
                      "yaxis": {
                        "backgroundcolor": "#E5ECF6",
                        "gridcolor": "white",
                        "gridwidth": 2,
                        "linecolor": "white",
                        "showbackground": true,
                        "ticks": "",
                        "zerolinecolor": "white"
                      },
                      "zaxis": {
                        "backgroundcolor": "#E5ECF6",
                        "gridcolor": "white",
                        "gridwidth": 2,
                        "linecolor": "white",
                        "showbackground": true,
                        "ticks": "",
                        "zerolinecolor": "white"
                      }
                    },
                    "shapedefaults": {
                      "line": {
                        "color": "#2a3f5f"
                      }
                    },
                    "ternary": {
                      "aaxis": {
                        "gridcolor": "white",
                        "linecolor": "white",
                        "ticks": ""
                      },
                      "baxis": {
                        "gridcolor": "white",
                        "linecolor": "white",
                        "ticks": ""
                      },
                      "bgcolor": "#E5ECF6",
                      "caxis": {
                        "gridcolor": "white",
                        "linecolor": "white",
                        "ticks": ""
                      }
                    },
                    "title": {
                      "x": 0.05
                    },
                    "xaxis": {
                      "automargin": true,
                      "gridcolor": "white",
                      "linecolor": "white",
                      "ticks": "",
                      "title": {
                        "standoff": 15
                      },
                      "zerolinecolor": "white",
                      "zerolinewidth": 2
                    },
                    "yaxis": {
                      "automargin": true,
                      "gridcolor": "white",
                      "linecolor": "white",
                      "ticks": "",
                      "title": {
                        "standoff": 15
                      },
                      "zerolinecolor": "white",
                      "zerolinewidth": 2
                    }
                  }
                },
                "xaxis": {
                  "anchor": "y",
                  "constrain": "domain",
                  "domain": [
                    0,
                    1
                  ],
                  "scaleanchor": "y"
                },
                "yaxis": {
                  "anchor": "x",
                  "autorange": "reversed",
                  "constrain": "domain",
                  "domain": [
                    0,
                    1
                  ]
                }
              }
            }
          },
          "metadata": {},
          "output_type": "display_data"
        }
      ],
      "source": [
        "import plotly.express as px\n",
        "fig=px.imshow(heat_map_data)\n",
        "\n",
        "fig.show()"
      ]
    },
    {
      "cell_type": "code",
      "execution_count": null,
      "metadata": {},
      "outputs": [],
      "source": []
    }
  ],
  "metadata": {
    "colab": {
      "name": "auto-thermal-reformer.ipynb",
      "provenance": []
    },
    "kernelspec": {
      "display_name": "Python 3.9.7 64-bit",
      "language": "python",
      "name": "python3"
    },
    "language_info": {
      "codemirror_mode": {
        "name": "ipython",
        "version": 3
      },
      "file_extension": ".py",
      "mimetype": "text/x-python",
      "name": "python",
      "nbconvert_exporter": "python",
      "pygments_lexer": "ipython3",
      "version": "3.9.7"
    },
    "vscode": {
      "interpreter": {
        "hash": "c347c8f9a7ef94e4c9e03b4513be7835ed18f45b99a2a817fb579f408b867b16"
      }
    }
  },
  "nbformat": 4,
  "nbformat_minor": 0
}
