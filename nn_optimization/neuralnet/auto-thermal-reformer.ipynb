{
 "cells": [
  {
   "cell_type": "markdown",
   "metadata": {},
   "source": [
    "# ML Surrogates for Chemical Processes with OMLT\n",
    "This notebook illustrates the use of TensorFlow Keras and OMLT to produce an ML surrogate based on data from a chemical process flowsheet.\n",
    "\n",
    "There are several reasons to build surrogate models for complex processes, even when higher fidelity models already exist (e.g., reduce model size, improve convergence reliability, replace models with externally compiled code and make them fully-equation oriented).\n",
    "\n",
    "In this example, we have an existing model for an auto-thermal reformer flowsheet that has been built using the IDAES-PSE package. IDAES-PSE is a Python package that is built on Pyomo and provides a framework for equation-oriented modeling and analysis of advanced energy systems. We use this package to generate data for our systems, and then we utilize this data in an optimization problem with OMLT. To learn more about IDAES, see the [IDAES-PSE Github Page](https://github.com/IDAES/IDAES-PSE) or [IDAES Read-the-docs](https://idaes-pse.readthedocs.io/en/stable/)."
   ]
  },
  {
   "cell_type": "markdown",
   "metadata": {},
   "source": [
    "## The Auto-thermal Reformer Process\n",
    "\n",
    "The figure below shows the reformer process as modeled in IDAES.\n",
    "\n",
    "![Reformer Flowsheet](../images/reformer.png)\n",
    "\n",
    "This model has 12 outputs of interest, the steam flowrate, the reformer duty, and the properties of the outlet stream, including temperature, pressure, and composition. We are interested modeling how these outputs change as a function of two operating (or input) variables: \n",
    "- the fraction of natural gas that bypasses the reformer\n",
    "- steam to natural gas flow ratio\n",
    "\n",
    "We have already used IDAES to generate a CSV file that contains the input and output data for 2800 data points for our system.\n",
    "\n",
    "In this example, we will train a neural network model with sigmoid activations from our process data and then demonstrate that we can solve an optimization problem with that surrogate model. In realistic applications, this surrogate model would form part of a design or operations problem with a much larger flowsheet. "
   ]
  },
  {
   "cell_type": "code",
   "execution_count": 26,
   "metadata": {},
   "outputs": [
    {
     "name": "stdout",
     "output_type": "stream",
     "text": [
      "Defaulting to user installation because normal site-packages is not writeable\n",
      "Requirement already satisfied: omlt in c:\\users\\jwiggins\\appdata\\roaming\\python\\python39\\site-packages (1.0)\n",
      "Requirement already satisfied: numpy in c:\\users\\jwiggins\\appdata\\roaming\\python\\python39\\site-packages (from omlt) (1.22.3)\n",
      "Requirement already satisfied: networkx in c:\\users\\jwiggins\\appdata\\roaming\\python\\python39\\site-packages (from omlt) (2.8.4)\n",
      "Requirement already satisfied: pyomo in c:\\users\\jwiggins\\appdata\\roaming\\python\\python39\\site-packages (from omlt) (6.4.1)\n",
      "Requirement already satisfied: ply in c:\\users\\jwiggins\\appdata\\roaming\\python\\python39\\site-packages (from pyomo->omlt) (3.11)\n",
      "Note: you may need to restart the kernel to use updated packages.\n"
     ]
    },
    {
     "name": "stderr",
     "output_type": "stream",
     "text": [
      "WARNING: You are using pip version 21.2.3; however, version 22.1.2 is available.\n",
      "You should consider upgrading via the 'c:\\Program Files (x86)\\Microsoft Visual Studio\\Shared\\Python39_64\\python.exe -m pip install --upgrade pip' command.\n"
     ]
    },
    {
     "name": "stdout",
     "output_type": "stream",
     "text": [
      "Defaulting to user installation because normal site-packages is not writeable\n",
      "Requirement already satisfied: onnx in c:\\users\\jwiggins\\appdata\\roaming\\python\\python39\\site-packages (1.12.0)\n",
      "Requirement already satisfied: numpy>=1.16.6 in c:\\users\\jwiggins\\appdata\\roaming\\python\\python39\\site-packages (from onnx) (1.22.3)\n",
      "Requirement already satisfied: protobuf<=3.20.1,>=3.12.2 in c:\\users\\jwiggins\\appdata\\roaming\\python\\python39\\site-packages (from onnx) (3.20.1)\n",
      "Requirement already satisfied: typing-extensions>=3.6.2.1 in c:\\users\\jwiggins\\appdata\\roaming\\python\\python39\\site-packages (from onnx) (4.2.0)\n",
      "Note: you may need to restart the kernel to use updated packages.\n"
     ]
    },
    {
     "name": "stderr",
     "output_type": "stream",
     "text": [
      "WARNING: You are using pip version 21.2.3; however, version 22.1.2 is available.\n",
      "You should consider upgrading via the 'c:\\Program Files (x86)\\Microsoft Visual Studio\\Shared\\Python39_64\\python.exe -m pip install --upgrade pip' command.\n"
     ]
    },
    {
     "name": "stdout",
     "output_type": "stream",
     "text": [
      "Defaulting to user installation because normal site-packages is not writeable\n",
      "Collecting onyx\n",
      "  Using cached onyx-0.8.11.tar.gz (99 kB)\n",
      "  Using cached onyx-0.8.10.tar.gz (99 kB)\n",
      "  Using cached onyx-0.8.7.zip (177 kB)\n",
      "  Using cached onyx-0.8.5.zip (176 kB)\n",
      "  Using cached onyx-0.7.13.zip (93 kB)\n",
      "  Using cached onyx-0.7.12.zip (93 kB)\n",
      "  Using cached onyx-0.7.11.zip (93 kB)\n",
      "  Using cached onyx-0.7.10.tar.gz (54 kB)\n",
      "  Using cached onyx-0.7.8.zip (91 kB)\n",
      "  Using cached onyx-0.7.7.zip (91 kB)\n",
      "  Using cached onyx-0.7.6.zip (91 kB)\n",
      "  Using cached onyx-0.7.5.zip (90 kB)\n",
      "  Using cached onyx-0.7.4.tar.gz (52 kB)\n",
      "  Using cached onyx-0.7.3.zip (90 kB)\n",
      "  Using cached onyx-0.6.4.zip (89 kB)\n",
      "  Using cached onyx-0.6.3.zip (89 kB)\n",
      "  Using cached onyx-0.6.2.zip (89 kB)\n",
      "  Using cached onyx-0.6.1.tar.gz (53 kB)\n",
      "  Using cached onyx-0.5.zip (88 kB)\n",
      "  Using cached onyx-0.4.7.tar.gz (52 kB)\n",
      "  Using cached onyx-0.4.6.zip (88 kB)\n",
      "  Using cached onyx-0.4.5.zip (88 kB)\n",
      "  Using cached onyx-0.4.4.zip (88 kB)\n",
      "  Using cached onyx-0.4.2.zip (88 kB)\n",
      "  Using cached onyx-0.4.1.zip (87 kB)\n",
      "  Using cached onyx-0.4.zip (87 kB)\n",
      "  Using cached onyx-0.3.12.tar.gz (51 kB)\n",
      "  Using cached onyx-0.3.11.tar.gz (51 kB)\n",
      "  Using cached onyx-0.3.10.tar.gz (51 kB)\n",
      "  Using cached onyx-0.3.9.tar.gz (51 kB)\n",
      "  Using cached onyx-0.3.8.tar.gz (51 kB)\n",
      "  Using cached onyx-0.3.7.tar.gz (51 kB)\n",
      "  Using cached onyx-0.3.6.tar.gz (50 kB)\n",
      "  Using cached onyx-0.3.5.tar.gz (50 kB)\n",
      "  Using cached onyx-0.3.4.tar.gz (50 kB)\n",
      "  Using cached onyx-0.3.3.tar.gz (49 kB)\n",
      "  Using cached onyx-0.3.2.tar.gz (49 kB)\n",
      "  Using cached onyx-0.3.tar.gz (49 kB)\n",
      "  Using cached onyx-0.2.1.tar.gz (49 kB)\n",
      "  Using cached onyx-0.2.tar.gz (49 kB)\n",
      "  Using cached onyx-0.1.5.tar.gz (48 kB)\n",
      "  Using cached onyx-0.1.4.zip (83 kB)\n",
      "  Using cached onyx-0.1.3.zip (83 kB)\n",
      "  Using cached onyx-0.1.1.tar.gz (47 kB)\n",
      "  Using cached onyx-0.1.tar.gz (47 kB)\n",
      "  Using cached onyx-0.0.21.tar.gz (47 kB)\n",
      "  Using cached onyx-0.0.20.tar.gz (47 kB)\n",
      "  Using cached onyx-0.0.19.tar.gz (47 kB)\n",
      "  Using cached onyx-0.0.17.tar.gz (47 kB)\n",
      "  Using cached onyx-0.0.5.tar.gz (45 kB)\n",
      "Note: you may need to restart the kernel to use updated packages.\n"
     ]
    },
    {
     "name": "stderr",
     "output_type": "stream",
     "text": [
      "WARNING: Discarding https://files.pythonhosted.org/packages/a4/dc/3bbec75a0dc9d0e687341468f1104cacdf52cdd28976f1c9c568620adc76/onyx-0.8.11.tar.gz#sha256=4d7ee52a94a84fea56ad1e3997e57b5c2a76bdc088f15e494ec832974422f021 (from https://pypi.org/simple/onyx/). Requested onyx from https://files.pythonhosted.org/packages/a4/dc/3bbec75a0dc9d0e687341468f1104cacdf52cdd28976f1c9c568620adc76/onyx-0.8.11.tar.gz#sha256=4d7ee52a94a84fea56ad1e3997e57b5c2a76bdc088f15e494ec832974422f021 has inconsistent version: filename has '0.8.11', but metadata has '0.0.0.8.11'\n",
      "WARNING: Discarding https://files.pythonhosted.org/packages/d7/29/2bb706a539e39deba11f2d07989d65ef74fbfaa15647a32f7dbf28ef9556/onyx-0.8.10.tar.gz#sha256=2c3da298e74df518a2dbf7fd19c9a72d447100a9970654f7bb978b786bf83706 (from https://pypi.org/simple/onyx/). Requested onyx from https://files.pythonhosted.org/packages/d7/29/2bb706a539e39deba11f2d07989d65ef74fbfaa15647a32f7dbf28ef9556/onyx-0.8.10.tar.gz#sha256=2c3da298e74df518a2dbf7fd19c9a72d447100a9970654f7bb978b786bf83706 has inconsistent version: filename has '0.8.10', but metadata has '0.0.0.8.10'\n",
      "WARNING: Discarding https://files.pythonhosted.org/packages/df/23/6f09eaba88be41efa538463f01ee9005abebb17b3077028946f202507490/onyx-0.8.7.zip#sha256=e792973dd8b7e4427e3a17bfa3312eb6915a1bd8230ea43a5c4bcd771b02aee5 (from https://pypi.org/simple/onyx/). Requested onyx from https://files.pythonhosted.org/packages/df/23/6f09eaba88be41efa538463f01ee9005abebb17b3077028946f202507490/onyx-0.8.7.zip#sha256=e792973dd8b7e4427e3a17bfa3312eb6915a1bd8230ea43a5c4bcd771b02aee5 has inconsistent version: filename has '0.8.7', but metadata has '0.0.0.8.7'\n",
      "WARNING: Discarding https://files.pythonhosted.org/packages/63/dd/104e0ff6a6809350fdcc1835b0095a9f4c6b4032affe32604ffe1451ec2f/onyx-0.8.5.zip#sha256=21da4af81e261b190b50ecc5f1ad2d276bd7f1534b3a06c8d421639eda625d98 (from https://pypi.org/simple/onyx/). Requested onyx from https://files.pythonhosted.org/packages/63/dd/104e0ff6a6809350fdcc1835b0095a9f4c6b4032affe32604ffe1451ec2f/onyx-0.8.5.zip#sha256=21da4af81e261b190b50ecc5f1ad2d276bd7f1534b3a06c8d421639eda625d98 has inconsistent version: filename has '0.8.5', but metadata has '0.0.0.8.5'\n",
      "WARNING: Discarding https://files.pythonhosted.org/packages/06/5f/89131e123a2d94f880cf791f5cad5dca87ae16ea41b816940e89e25f015a/onyx-0.7.13.zip#sha256=12d4720888120cf5ef06a0d592ea0db3425ea184246d476ac8ff696a4a8bcd24 (from https://pypi.org/simple/onyx/). Requested onyx from https://files.pythonhosted.org/packages/06/5f/89131e123a2d94f880cf791f5cad5dca87ae16ea41b816940e89e25f015a/onyx-0.7.13.zip#sha256=12d4720888120cf5ef06a0d592ea0db3425ea184246d476ac8ff696a4a8bcd24 has inconsistent version: filename has '0.7.13', but metadata has '0.0.0.7.13'\n",
      "WARNING: Discarding https://files.pythonhosted.org/packages/59/4c/3539ee9206078b1f743b9fa2d69db3206110b37be9ed07589925e3822341/onyx-0.7.12.zip#sha256=00b4799dbb3dd9caf730e6b5dd9c6a3b9085abd7cea2bd6582d70dd7ce71040f (from https://pypi.org/simple/onyx/). Requested onyx from https://files.pythonhosted.org/packages/59/4c/3539ee9206078b1f743b9fa2d69db3206110b37be9ed07589925e3822341/onyx-0.7.12.zip#sha256=00b4799dbb3dd9caf730e6b5dd9c6a3b9085abd7cea2bd6582d70dd7ce71040f has inconsistent version: filename has '0.7.12', but metadata has '0.0.0.7.12'\n",
      "WARNING: Discarding https://files.pythonhosted.org/packages/55/98/6c6cb82e3a54826402ae9916bdf5a308f9f23b866d1fc057685d126a6659/onyx-0.7.11.zip#sha256=3757c11642fc236abe24760991a1b50c4ca14483560c0b6253941f35e72e2fe3 (from https://pypi.org/simple/onyx/). Requested onyx from https://files.pythonhosted.org/packages/55/98/6c6cb82e3a54826402ae9916bdf5a308f9f23b866d1fc057685d126a6659/onyx-0.7.11.zip#sha256=3757c11642fc236abe24760991a1b50c4ca14483560c0b6253941f35e72e2fe3 has inconsistent version: filename has '0.7.11', but metadata has '0.0.0.7.11'\n",
      "WARNING: Discarding https://files.pythonhosted.org/packages/39/ed/659ea073630ac6eaae46dcc7b8bce6a8b28a3bbd3c9181a12badd80f2d2d/onyx-0.7.10.tar.gz#sha256=5e19496c44f4ee522679b2f6d65c76f700f34e7678d6d06b446b2d42c0bb0d9c (from https://pypi.org/simple/onyx/). Requested onyx from https://files.pythonhosted.org/packages/39/ed/659ea073630ac6eaae46dcc7b8bce6a8b28a3bbd3c9181a12badd80f2d2d/onyx-0.7.10.tar.gz#sha256=5e19496c44f4ee522679b2f6d65c76f700f34e7678d6d06b446b2d42c0bb0d9c has inconsistent version: filename has '0.7.10', but metadata has '0.0.0.7.10'\n",
      "WARNING: Discarding https://files.pythonhosted.org/packages/a9/db/f906dd97f5126111f4edc3c03ff93bfc635b9051d122438c93b314f0a1a7/onyx-0.7.8.zip#sha256=22933b247185dd92db29f7259d57633a007ce00b6d770ff37d926dfcbb94bdaa (from https://pypi.org/simple/onyx/). Requested onyx from https://files.pythonhosted.org/packages/a9/db/f906dd97f5126111f4edc3c03ff93bfc635b9051d122438c93b314f0a1a7/onyx-0.7.8.zip#sha256=22933b247185dd92db29f7259d57633a007ce00b6d770ff37d926dfcbb94bdaa has inconsistent version: filename has '0.7.8', but metadata has '0.0.0.7.8'\n",
      "WARNING: Discarding https://files.pythonhosted.org/packages/c5/31/9114bc3017dd4709838dfc1a84aeefca8e1e6ce568266998892cb8844409/onyx-0.7.7.zip#sha256=b15fffd00b40346cc89aa02f2bf219f7fde285717e364976e4cc087e75597f61 (from https://pypi.org/simple/onyx/). Requested onyx from https://files.pythonhosted.org/packages/c5/31/9114bc3017dd4709838dfc1a84aeefca8e1e6ce568266998892cb8844409/onyx-0.7.7.zip#sha256=b15fffd00b40346cc89aa02f2bf219f7fde285717e364976e4cc087e75597f61 has inconsistent version: filename has '0.7.7', but metadata has '0.0.0.7.7'\n",
      "WARNING: Discarding https://files.pythonhosted.org/packages/39/74/3665040f146afb842e286d9a5452db45bd220996e3fbf0c7243d5ab262e9/onyx-0.7.6.zip#sha256=967995ee1f07f29764c73d0c02faef481648693afb7206de133c99ccb613e260 (from https://pypi.org/simple/onyx/). Requested onyx from https://files.pythonhosted.org/packages/39/74/3665040f146afb842e286d9a5452db45bd220996e3fbf0c7243d5ab262e9/onyx-0.7.6.zip#sha256=967995ee1f07f29764c73d0c02faef481648693afb7206de133c99ccb613e260 has inconsistent version: filename has '0.7.6', but metadata has '0.0.0.7.6'\n",
      "WARNING: Discarding https://files.pythonhosted.org/packages/af/d3/e3796fd8bcb1527efde6f9aa81ac9fcbceeb7fbba8de014366e7eb8ec3e1/onyx-0.7.5.zip#sha256=8a3377ac8f1777adf685a26f39293bc79f176d1e5d47c2d750207d51959f37c7 (from https://pypi.org/simple/onyx/). Requested onyx from https://files.pythonhosted.org/packages/af/d3/e3796fd8bcb1527efde6f9aa81ac9fcbceeb7fbba8de014366e7eb8ec3e1/onyx-0.7.5.zip#sha256=8a3377ac8f1777adf685a26f39293bc79f176d1e5d47c2d750207d51959f37c7 has inconsistent version: filename has '0.7.5', but metadata has '0.0.0.7.5'\n",
      "WARNING: Discarding https://files.pythonhosted.org/packages/7f/0e/899df3cd7656521e0cb608f5f67f6df54400dc15f18d6739e707f188100e/onyx-0.7.4.tar.gz#sha256=b252aa11d08a82daefac9e267af4403079dbddcb7142214a91cc87e3f68f3d89 (from https://pypi.org/simple/onyx/). Requested onyx from https://files.pythonhosted.org/packages/7f/0e/899df3cd7656521e0cb608f5f67f6df54400dc15f18d6739e707f188100e/onyx-0.7.4.tar.gz#sha256=b252aa11d08a82daefac9e267af4403079dbddcb7142214a91cc87e3f68f3d89 has inconsistent version: filename has '0.7.4', but metadata has '0.0.0.7.4'\n",
      "WARNING: Discarding https://files.pythonhosted.org/packages/73/f5/e81b0e898751d089c3653a7eb74c3edd4e8e5e1f295470d71773708d2e25/onyx-0.7.3.zip#sha256=8fba9148dd9442074be109472da84acfc4b0e201ea17ef094b5141e2bbdabe50 (from https://pypi.org/simple/onyx/). Requested onyx from https://files.pythonhosted.org/packages/73/f5/e81b0e898751d089c3653a7eb74c3edd4e8e5e1f295470d71773708d2e25/onyx-0.7.3.zip#sha256=8fba9148dd9442074be109472da84acfc4b0e201ea17ef094b5141e2bbdabe50 has inconsistent version: filename has '0.7.3', but metadata has '0.0.0.7.3'\n",
      "WARNING: Discarding https://files.pythonhosted.org/packages/c9/a9/f3289d425a9cd6835fd51ab0868f4bf617106367115d6778c92641ef3882/onyx-0.6.4.zip#sha256=55ef3e7eae6b40cc57d1bbeac19ec3403b803b46237e009b7fe8fcc659c8c79b (from https://pypi.org/simple/onyx/). Requested onyx from https://files.pythonhosted.org/packages/c9/a9/f3289d425a9cd6835fd51ab0868f4bf617106367115d6778c92641ef3882/onyx-0.6.4.zip#sha256=55ef3e7eae6b40cc57d1bbeac19ec3403b803b46237e009b7fe8fcc659c8c79b has inconsistent version: filename has '0.6.4', but metadata has '0.0.0.6.4'\n",
      "WARNING: Discarding https://files.pythonhosted.org/packages/de/d4/d109d7b15059b6ebadf1b44924802fb646996c1ff4bc5101d615369a6f71/onyx-0.6.3.zip#sha256=79cc576d498dc4da2d7449c20b2e6eb78d71e52eee95a2f4e1c16e769d60d04e (from https://pypi.org/simple/onyx/). Requested onyx from https://files.pythonhosted.org/packages/de/d4/d109d7b15059b6ebadf1b44924802fb646996c1ff4bc5101d615369a6f71/onyx-0.6.3.zip#sha256=79cc576d498dc4da2d7449c20b2e6eb78d71e52eee95a2f4e1c16e769d60d04e has inconsistent version: filename has '0.6.3', but metadata has '0.0.0.6.3'\n",
      "WARNING: Discarding https://files.pythonhosted.org/packages/db/c0/8ba3cca80105b516c8146c076bcb36da7ac38cdf13f9eac1f960e5b4f7a1/onyx-0.6.2.zip#sha256=5684ea33017a8af70b858932b03233bb5c7e63720ca9f659946ff516bb08ec7b (from https://pypi.org/simple/onyx/). Requested onyx from https://files.pythonhosted.org/packages/db/c0/8ba3cca80105b516c8146c076bcb36da7ac38cdf13f9eac1f960e5b4f7a1/onyx-0.6.2.zip#sha256=5684ea33017a8af70b858932b03233bb5c7e63720ca9f659946ff516bb08ec7b has inconsistent version: filename has '0.6.2', but metadata has '0.0.0.6.2'\n",
      "WARNING: Discarding https://files.pythonhosted.org/packages/a1/4c/9b3827aac1c6f7baa7cd7975abeda79370572b541b40d774637b81f60363/onyx-0.6.1.tar.gz#sha256=c667f0220356fa5767f63d8ed009de21437de65c5ade3861c0483d92e4e86ecd (from https://pypi.org/simple/onyx/). Requested onyx from https://files.pythonhosted.org/packages/a1/4c/9b3827aac1c6f7baa7cd7975abeda79370572b541b40d774637b81f60363/onyx-0.6.1.tar.gz#sha256=c667f0220356fa5767f63d8ed009de21437de65c5ade3861c0483d92e4e86ecd has inconsistent version: filename has '0.6.1', but metadata has '0.0.0.6.1'\n",
      "WARNING: Discarding https://files.pythonhosted.org/packages/b4/72/5848bdaf4e9229844cd01ea06a3be3dcf601cac5d1531e14f02d1da7c829/onyx-0.5.zip#sha256=d095d2b6bb4278b4312686eb834600ae1320dff473bf24070af2a3126ac24ae9 (from https://pypi.org/simple/onyx/). Requested onyx from https://files.pythonhosted.org/packages/b4/72/5848bdaf4e9229844cd01ea06a3be3dcf601cac5d1531e14f02d1da7c829/onyx-0.5.zip#sha256=d095d2b6bb4278b4312686eb834600ae1320dff473bf24070af2a3126ac24ae9 has inconsistent version: filename has '0.5', but metadata has '0.0.0.5'\n",
      "WARNING: Discarding https://files.pythonhosted.org/packages/81/9b/c74ff8eda10a852229f8daf5ab518727327a8e106ae71503129e0a0a55cd/onyx-0.4.7.tar.gz#sha256=1591fb11bd7d63ce35c2b7b3f591569f6e7e707ccfebd1b451a97756c440cd8a (from https://pypi.org/simple/onyx/). Requested onyx from https://files.pythonhosted.org/packages/81/9b/c74ff8eda10a852229f8daf5ab518727327a8e106ae71503129e0a0a55cd/onyx-0.4.7.tar.gz#sha256=1591fb11bd7d63ce35c2b7b3f591569f6e7e707ccfebd1b451a97756c440cd8a has inconsistent version: filename has '0.4.7', but metadata has '0.0.0.4.7'\n",
      "WARNING: Discarding https://files.pythonhosted.org/packages/ee/eb/30aa93b675542bc62ec4b1b5bde19f37da4dc4df02f1477a469b5d998aa3/onyx-0.4.6.zip#sha256=8402784c1d407bf00435f46cc5f936c1c70b2870a1728becd964e07c2ef11008 (from https://pypi.org/simple/onyx/). Requested onyx from https://files.pythonhosted.org/packages/ee/eb/30aa93b675542bc62ec4b1b5bde19f37da4dc4df02f1477a469b5d998aa3/onyx-0.4.6.zip#sha256=8402784c1d407bf00435f46cc5f936c1c70b2870a1728becd964e07c2ef11008 has inconsistent version: filename has '0.4.6', but metadata has '0.0.0.4.6'\n",
      "WARNING: Discarding https://files.pythonhosted.org/packages/03/1c/40d94f13964a13c8a295c0f746e1157e05be4365dc71895e80bc2c95de58/onyx-0.4.5.zip#sha256=09859958e729fdfd098537572880fef5fc3d8d6f927a52c1877a7cb95097c1da (from https://pypi.org/simple/onyx/). Requested onyx from https://files.pythonhosted.org/packages/03/1c/40d94f13964a13c8a295c0f746e1157e05be4365dc71895e80bc2c95de58/onyx-0.4.5.zip#sha256=09859958e729fdfd098537572880fef5fc3d8d6f927a52c1877a7cb95097c1da has inconsistent version: filename has '0.4.5', but metadata has '0.0.0.4.5'\n",
      "WARNING: Discarding https://files.pythonhosted.org/packages/21/68/2913a5283992ef89039e0528a1e7f1a88678a53bb2073e69dae92e072268/onyx-0.4.4.zip#sha256=d795646baf9506de0d047028d0d48aa53e15e4704f04da2f6e6089eb8523596a (from https://pypi.org/simple/onyx/). Requested onyx from https://files.pythonhosted.org/packages/21/68/2913a5283992ef89039e0528a1e7f1a88678a53bb2073e69dae92e072268/onyx-0.4.4.zip#sha256=d795646baf9506de0d047028d0d48aa53e15e4704f04da2f6e6089eb8523596a has inconsistent version: filename has '0.4.4', but metadata has '0.0.0.4.4'\n",
      "WARNING: Discarding https://files.pythonhosted.org/packages/b4/de/8eb88a0069d9498b04b5cd9671f77292a5001eb8485240efff2bfa64c6fd/onyx-0.4.2.zip#sha256=45e9a83858003627232c9f3e7c724014f8d777dc50d640289e2bfea679925e8c (from https://pypi.org/simple/onyx/). Requested onyx from https://files.pythonhosted.org/packages/b4/de/8eb88a0069d9498b04b5cd9671f77292a5001eb8485240efff2bfa64c6fd/onyx-0.4.2.zip#sha256=45e9a83858003627232c9f3e7c724014f8d777dc50d640289e2bfea679925e8c has inconsistent version: filename has '0.4.2', but metadata has '0.0.0.4.2'\n",
      "WARNING: Discarding https://files.pythonhosted.org/packages/06/0f/10f41b559f5054cab2e0a99f8206332561029d2a1cc684a272afbe221d2e/onyx-0.4.1.zip#sha256=3fa0961c0588236dd050f2feddbf4c2c664114caa3770e7e216e737bd9da9e72 (from https://pypi.org/simple/onyx/). Requested onyx from https://files.pythonhosted.org/packages/06/0f/10f41b559f5054cab2e0a99f8206332561029d2a1cc684a272afbe221d2e/onyx-0.4.1.zip#sha256=3fa0961c0588236dd050f2feddbf4c2c664114caa3770e7e216e737bd9da9e72 has inconsistent version: filename has '0.4.1', but metadata has '0.0.0.4.1'\n",
      "WARNING: Discarding https://files.pythonhosted.org/packages/c3/6d/59cf55e888d1e333eba48683cbb232d37f28c67b52f1dc113f52cb07ce2a/onyx-0.4.zip#sha256=781be6209547842b1cc42a956bc1ae12fc70b771d77f80c401a068f71f465a62 (from https://pypi.org/simple/onyx/). Requested onyx from https://files.pythonhosted.org/packages/c3/6d/59cf55e888d1e333eba48683cbb232d37f28c67b52f1dc113f52cb07ce2a/onyx-0.4.zip#sha256=781be6209547842b1cc42a956bc1ae12fc70b771d77f80c401a068f71f465a62 has inconsistent version: filename has '0.4', but metadata has '0.0.0.4'\n",
      "WARNING: Discarding https://files.pythonhosted.org/packages/66/ac/e6e9d93293634a26f8cb292df2ccaa665ec9f888d083860d8f457ad621cc/onyx-0.3.12.tar.gz#sha256=e924d0aacdc30886b1c81d6c4ee18dd4031e8243b5db69843677e16623ecc9a7 (from https://pypi.org/simple/onyx/). Requested onyx from https://files.pythonhosted.org/packages/66/ac/e6e9d93293634a26f8cb292df2ccaa665ec9f888d083860d8f457ad621cc/onyx-0.3.12.tar.gz#sha256=e924d0aacdc30886b1c81d6c4ee18dd4031e8243b5db69843677e16623ecc9a7 has inconsistent version: filename has '0.3.12', but metadata has '0.0.0.3.12'\n",
      "WARNING: Discarding https://files.pythonhosted.org/packages/d7/9f/52b9a2e7bfe25b759a82fdc5df54798940bb69bc748e1c783d32ddb1505d/onyx-0.3.11.tar.gz#sha256=87cbf3859a4a604d3845f1b7f3599f4429f0c088f80bfd6241933b6ef18795a5 (from https://pypi.org/simple/onyx/). Requested onyx from https://files.pythonhosted.org/packages/d7/9f/52b9a2e7bfe25b759a82fdc5df54798940bb69bc748e1c783d32ddb1505d/onyx-0.3.11.tar.gz#sha256=87cbf3859a4a604d3845f1b7f3599f4429f0c088f80bfd6241933b6ef18795a5 has inconsistent version: filename has '0.3.11', but metadata has '0.0.0.3.11'\n",
      "WARNING: Discarding https://files.pythonhosted.org/packages/58/e9/2d411cc7afbcadfdc71f116731663ac68b36fa6b9a91f19ac402a36b83d2/onyx-0.3.10.tar.gz#sha256=eb9456399e3212a4ab8c5867b0039dc877520ed29310e415e01cd80ef96171a0 (from https://pypi.org/simple/onyx/). Requested onyx from https://files.pythonhosted.org/packages/58/e9/2d411cc7afbcadfdc71f116731663ac68b36fa6b9a91f19ac402a36b83d2/onyx-0.3.10.tar.gz#sha256=eb9456399e3212a4ab8c5867b0039dc877520ed29310e415e01cd80ef96171a0 has inconsistent version: filename has '0.3.10', but metadata has '0.0.0.3.10'\n",
      "WARNING: Discarding https://files.pythonhosted.org/packages/97/75/e1109c2586805555341b376776e84b47be809de39bca3963d31ba869b7cc/onyx-0.3.9.tar.gz#sha256=e521ef67a2f0e17db386296b31f43e30b84592843b3e79c8e3ff169a1f5764c1 (from https://pypi.org/simple/onyx/). Requested onyx from https://files.pythonhosted.org/packages/97/75/e1109c2586805555341b376776e84b47be809de39bca3963d31ba869b7cc/onyx-0.3.9.tar.gz#sha256=e521ef67a2f0e17db386296b31f43e30b84592843b3e79c8e3ff169a1f5764c1 has inconsistent version: filename has '0.3.9', but metadata has '0.0.0.3.9'\n",
      "WARNING: Discarding https://files.pythonhosted.org/packages/98/00/e06bda66eed80877bdf4a84fc375036aa4e6fe5f81bf3d86ccbb62de1b9f/onyx-0.3.8.tar.gz#sha256=9c52c1352d508340f2ff2baba49e762afb4b786c1490ec96adda5da0b1f16fae (from https://pypi.org/simple/onyx/). Requested onyx from https://files.pythonhosted.org/packages/98/00/e06bda66eed80877bdf4a84fc375036aa4e6fe5f81bf3d86ccbb62de1b9f/onyx-0.3.8.tar.gz#sha256=9c52c1352d508340f2ff2baba49e762afb4b786c1490ec96adda5da0b1f16fae has inconsistent version: filename has '0.3.8', but metadata has '0.0.0.3.8'\n",
      "WARNING: Discarding https://files.pythonhosted.org/packages/d7/09/4dae2b4104ea582910552adaf75f8f0b49320e0cd6223ef06af2e9b166ef/onyx-0.3.7.tar.gz#sha256=128e58a305b88addeb840ef7238c43b20c6481791d70e78cbaf8972d03d74192 (from https://pypi.org/simple/onyx/). Requested onyx from https://files.pythonhosted.org/packages/d7/09/4dae2b4104ea582910552adaf75f8f0b49320e0cd6223ef06af2e9b166ef/onyx-0.3.7.tar.gz#sha256=128e58a305b88addeb840ef7238c43b20c6481791d70e78cbaf8972d03d74192 has inconsistent version: filename has '0.3.7', but metadata has '0.0.0.3.7'\n",
      "WARNING: Discarding https://files.pythonhosted.org/packages/45/7f/b3de4666b0b2e6ba121991ee61e3ae15ebcd3f1718416d0fd60156ba8daa/onyx-0.3.6.tar.gz#sha256=c2a1f9e86819319d87b91cef353de70f48991af08eea12c9dc0ab707eacd491a (from https://pypi.org/simple/onyx/). Requested onyx from https://files.pythonhosted.org/packages/45/7f/b3de4666b0b2e6ba121991ee61e3ae15ebcd3f1718416d0fd60156ba8daa/onyx-0.3.6.tar.gz#sha256=c2a1f9e86819319d87b91cef353de70f48991af08eea12c9dc0ab707eacd491a has inconsistent version: filename has '0.3.6', but metadata has '0.0.0.3.6'\n",
      "WARNING: Discarding https://files.pythonhosted.org/packages/06/5a/a0ac24ed834378f50c9f1eae68d74341ba2363a39cf1b2c8ce84492ff455/onyx-0.3.5.tar.gz#sha256=6494a5afbdbcb1b6e78652b0a53091c2f9e4a913cacec03cd2372332d6fdad9a (from https://pypi.org/simple/onyx/). Requested onyx from https://files.pythonhosted.org/packages/06/5a/a0ac24ed834378f50c9f1eae68d74341ba2363a39cf1b2c8ce84492ff455/onyx-0.3.5.tar.gz#sha256=6494a5afbdbcb1b6e78652b0a53091c2f9e4a913cacec03cd2372332d6fdad9a has inconsistent version: filename has '0.3.5', but metadata has '0.0.0.3.5'\n",
      "WARNING: Discarding https://files.pythonhosted.org/packages/d0/90/f1b20c086cc690a7044cecedb0b48d44b72a80562814d6e5f3005fa117d5/onyx-0.3.4.tar.gz#sha256=22ed4990f77facd9ef0b7bc9e81d0f8cf33bd546090b7f7c193e01dfcac5507f (from https://pypi.org/simple/onyx/). Requested onyx from https://files.pythonhosted.org/packages/d0/90/f1b20c086cc690a7044cecedb0b48d44b72a80562814d6e5f3005fa117d5/onyx-0.3.4.tar.gz#sha256=22ed4990f77facd9ef0b7bc9e81d0f8cf33bd546090b7f7c193e01dfcac5507f has inconsistent version: filename has '0.3.4', but metadata has '0.0.0.3.4'\n",
      "WARNING: Discarding https://files.pythonhosted.org/packages/5c/82/0ea5ca49cf62b872e0be9e877954d7a942fb08d471f937cd95416905c3d9/onyx-0.3.3.tar.gz#sha256=c8d3327ba0c9c70c773b8477b3cba1a7bd1b547fb50144b05dd474c9fb0053e4 (from https://pypi.org/simple/onyx/). Requested onyx from https://files.pythonhosted.org/packages/5c/82/0ea5ca49cf62b872e0be9e877954d7a942fb08d471f937cd95416905c3d9/onyx-0.3.3.tar.gz#sha256=c8d3327ba0c9c70c773b8477b3cba1a7bd1b547fb50144b05dd474c9fb0053e4 has inconsistent version: filename has '0.3.3', but metadata has '0.0.0.3.3'\n",
      "WARNING: Discarding https://files.pythonhosted.org/packages/5a/db/8a291d8ec12f1ac1b1d8b37b158fcaed5cef62640effd28bcf96c1b77db7/onyx-0.3.2.tar.gz#sha256=188a7e5e311416bcafaa9398e38ccd62d1118cb153c84e4481afe15324b2c82c (from https://pypi.org/simple/onyx/). Requested onyx from https://files.pythonhosted.org/packages/5a/db/8a291d8ec12f1ac1b1d8b37b158fcaed5cef62640effd28bcf96c1b77db7/onyx-0.3.2.tar.gz#sha256=188a7e5e311416bcafaa9398e38ccd62d1118cb153c84e4481afe15324b2c82c has inconsistent version: filename has '0.3.2', but metadata has '0.0.0.3.2'\n",
      "WARNING: Discarding https://files.pythonhosted.org/packages/c7/2e/cd142843ac8a8f1733a068c113c45514eac26a5e98a45effc675be9c4c8a/onyx-0.3.tar.gz#sha256=0bb09002a8408fa2220282af8ef5240538e40a75c39d5500b8acb7c088257679 (from https://pypi.org/simple/onyx/). Requested onyx from https://files.pythonhosted.org/packages/c7/2e/cd142843ac8a8f1733a068c113c45514eac26a5e98a45effc675be9c4c8a/onyx-0.3.tar.gz#sha256=0bb09002a8408fa2220282af8ef5240538e40a75c39d5500b8acb7c088257679 has inconsistent version: filename has '0.3', but metadata has '0.0.0.3'\n",
      "WARNING: Discarding https://files.pythonhosted.org/packages/f6/32/0d54482b8076a3a8ede8bdb09bc5f9e33c1b4dd3d872aa733c971899486e/onyx-0.2.1.tar.gz#sha256=3a13b69e66584835acedd1fabac02817dd3486e4bfe1f633e91d9f3355778c69 (from https://pypi.org/simple/onyx/). Requested onyx from https://files.pythonhosted.org/packages/f6/32/0d54482b8076a3a8ede8bdb09bc5f9e33c1b4dd3d872aa733c971899486e/onyx-0.2.1.tar.gz#sha256=3a13b69e66584835acedd1fabac02817dd3486e4bfe1f633e91d9f3355778c69 has inconsistent version: filename has '0.2.1', but metadata has '0.0.0.2.1'\n",
      "WARNING: Discarding https://files.pythonhosted.org/packages/0d/84/280882b9bb748f74f01c2f8cc89432b152b2426067e5cd27a207f5cd2b84/onyx-0.2.tar.gz#sha256=81bf1738f6bc36bf8a6952186b52533abbd503dda6f7d4123750d92e7715c1e8 (from https://pypi.org/simple/onyx/). Requested onyx from https://files.pythonhosted.org/packages/0d/84/280882b9bb748f74f01c2f8cc89432b152b2426067e5cd27a207f5cd2b84/onyx-0.2.tar.gz#sha256=81bf1738f6bc36bf8a6952186b52533abbd503dda6f7d4123750d92e7715c1e8 has inconsistent version: filename has '0.2', but metadata has '0.0.0.2'\n",
      "WARNING: Discarding https://files.pythonhosted.org/packages/6c/0b/fc370fbd73aba0eae08a4040b4d8161992ad34e04c8785a78d66936beaeb/onyx-0.1.5.tar.gz#sha256=cf3b533f718efacb0f390cf7900ba07a7da4165a183abb97aa31643fbdc6fed1 (from https://pypi.org/simple/onyx/). Requested onyx from https://files.pythonhosted.org/packages/6c/0b/fc370fbd73aba0eae08a4040b4d8161992ad34e04c8785a78d66936beaeb/onyx-0.1.5.tar.gz#sha256=cf3b533f718efacb0f390cf7900ba07a7da4165a183abb97aa31643fbdc6fed1 has inconsistent version: filename has '0.1.5', but metadata has '0.0.0.1.5'\n",
      "WARNING: Discarding https://files.pythonhosted.org/packages/49/de/8f3dd2fbb26c657e1801accb6fde08415be848f21d75579cbc5b3e04a0a7/onyx-0.1.4.zip#sha256=6715dbdfc064c9e29602dfe49d7f59829f6263d3605edd2f4b61890e4d37d33c (from https://pypi.org/simple/onyx/). Requested onyx from https://files.pythonhosted.org/packages/49/de/8f3dd2fbb26c657e1801accb6fde08415be848f21d75579cbc5b3e04a0a7/onyx-0.1.4.zip#sha256=6715dbdfc064c9e29602dfe49d7f59829f6263d3605edd2f4b61890e4d37d33c has inconsistent version: filename has '0.1.4', but metadata has '0.0.0.1.4'\n",
      "WARNING: Discarding https://files.pythonhosted.org/packages/50/5b/9ccfbd671e362e9fd0c627e4c1dbfb5894e3147ec49ff6e361a94810ebd2/onyx-0.1.3.zip#sha256=a198576f245d433105eaa84f705f8e528dba5755ec62e953870ba918e0dfca11 (from https://pypi.org/simple/onyx/). Requested onyx from https://files.pythonhosted.org/packages/50/5b/9ccfbd671e362e9fd0c627e4c1dbfb5894e3147ec49ff6e361a94810ebd2/onyx-0.1.3.zip#sha256=a198576f245d433105eaa84f705f8e528dba5755ec62e953870ba918e0dfca11 has inconsistent version: filename has '0.1.3', but metadata has '0.0.0.1.3'\n",
      "WARNING: Discarding https://files.pythonhosted.org/packages/6e/8d/b585ae381b99a34feda8ec27053f93b91b72b67723ed1d5de082ee29af85/onyx-0.1.1.tar.gz#sha256=890a95c5a035906d2f2b8df6727aaffc53e8deee4558a7f2a9c0a2cf53819741 (from https://pypi.org/simple/onyx/). Requested onyx from https://files.pythonhosted.org/packages/6e/8d/b585ae381b99a34feda8ec27053f93b91b72b67723ed1d5de082ee29af85/onyx-0.1.1.tar.gz#sha256=890a95c5a035906d2f2b8df6727aaffc53e8deee4558a7f2a9c0a2cf53819741 has inconsistent version: filename has '0.1.1', but metadata has '0.0.0.1.1'\n",
      "WARNING: Discarding https://files.pythonhosted.org/packages/8c/89/7593520610ff5fba7feb016898f3c5716c7b0538200d5d43f95ae72eabf9/onyx-0.1.tar.gz#sha256=01f77f1f034a2f9b0db013b2457e1adc50d8f225071d4ca1486a5fe76aba74d7 (from https://pypi.org/simple/onyx/). Requested onyx from https://files.pythonhosted.org/packages/8c/89/7593520610ff5fba7feb016898f3c5716c7b0538200d5d43f95ae72eabf9/onyx-0.1.tar.gz#sha256=01f77f1f034a2f9b0db013b2457e1adc50d8f225071d4ca1486a5fe76aba74d7 has inconsistent version: filename has '0.1', but metadata has '0.0.0.1'\n",
      "WARNING: Discarding https://files.pythonhosted.org/packages/57/6d/efa6bbc37b3287cfda9f19962d9f26c6043df8fa2fd66963e1a9a2856bbc/onyx-0.0.21.tar.gz#sha256=2a5743488546e630218d233c1176c4a1058d716a94fc9566ef32cbbdef7fdc7f (from https://pypi.org/simple/onyx/). Requested onyx from https://files.pythonhosted.org/packages/57/6d/efa6bbc37b3287cfda9f19962d9f26c6043df8fa2fd66963e1a9a2856bbc/onyx-0.0.21.tar.gz#sha256=2a5743488546e630218d233c1176c4a1058d716a94fc9566ef32cbbdef7fdc7f has inconsistent version: filename has '0.0.21', but metadata has '0.0.0.0.21'\n",
      "WARNING: Discarding https://files.pythonhosted.org/packages/89/43/a4dabc2d285dd3fac7689be312c11695328a4dd5658830269f53b7d55a1c/onyx-0.0.20.tar.gz#sha256=5b9482c9f27f7526a5ff026d247938a096eebf2a6edb73cda34e099bd89b2356 (from https://pypi.org/simple/onyx/). Requested onyx from https://files.pythonhosted.org/packages/89/43/a4dabc2d285dd3fac7689be312c11695328a4dd5658830269f53b7d55a1c/onyx-0.0.20.tar.gz#sha256=5b9482c9f27f7526a5ff026d247938a096eebf2a6edb73cda34e099bd89b2356 has inconsistent version: filename has '0.0.20', but metadata has '0.0.0.0.20'\n",
      "WARNING: Discarding https://files.pythonhosted.org/packages/0b/11/55b52bdadb0714c6437a53f494022e0bcf7b38d346a50c29528912a6b5db/onyx-0.0.19.tar.gz#sha256=327b7fcd1c6851fdd2a2bd5605d5e0564d16671831055622c80f163590c3258f (from https://pypi.org/simple/onyx/). Requested onyx from https://files.pythonhosted.org/packages/0b/11/55b52bdadb0714c6437a53f494022e0bcf7b38d346a50c29528912a6b5db/onyx-0.0.19.tar.gz#sha256=327b7fcd1c6851fdd2a2bd5605d5e0564d16671831055622c80f163590c3258f has inconsistent version: filename has '0.0.19', but metadata has '0.0.0.0.19'\n",
      "WARNING: Discarding https://files.pythonhosted.org/packages/67/c7/a0cadba9cf5c63e0454a58fd0180ecd575b082a3bd8af77e70b34d815eb2/onyx-0.0.17.tar.gz#sha256=144f101eff8781923a1ec64c6c86263d27a5b1736545eb02690f687cfec5d562 (from https://pypi.org/simple/onyx/). Requested onyx from https://files.pythonhosted.org/packages/67/c7/a0cadba9cf5c63e0454a58fd0180ecd575b082a3bd8af77e70b34d815eb2/onyx-0.0.17.tar.gz#sha256=144f101eff8781923a1ec64c6c86263d27a5b1736545eb02690f687cfec5d562 has inconsistent version: filename has '0.0.17', but metadata has '0.0.0.0.17'\n",
      "WARNING: Discarding https://files.pythonhosted.org/packages/97/fd/0b6642f8f3dc5f26d2db9c2f994b5f650ef2948b3041c3683865f52972a6/onyx-0.0.5.tar.gz#sha256=7bc9dce4a8f86252e97a58b21eafb347db3c018d6ceb5f6753a98b279a2125d3 (from https://pypi.org/simple/onyx/). Requested onyx from https://files.pythonhosted.org/packages/97/fd/0b6642f8f3dc5f26d2db9c2f994b5f650ef2948b3041c3683865f52972a6/onyx-0.0.5.tar.gz#sha256=7bc9dce4a8f86252e97a58b21eafb347db3c018d6ceb5f6753a98b279a2125d3 has inconsistent version: filename has '0.0.5', but metadata has '0.0.0.0.5'\n",
      "ERROR: Could not find a version that satisfies the requirement onyx (from versions: 0.0.5, 0.0.17, 0.0.19, 0.0.20, 0.0.21, 0.1, 0.1.1, 0.1.3, 0.1.4, 0.1.5, 0.2, 0.2.1, 0.3, 0.3.2, 0.3.3, 0.3.4, 0.3.5, 0.3.6, 0.3.7, 0.3.8, 0.3.9, 0.3.10, 0.3.11, 0.3.12, 0.4, 0.4.1, 0.4.2, 0.4.4, 0.4.5, 0.4.6, 0.4.7, 0.5, 0.6.1, 0.6.2, 0.6.3, 0.6.4, 0.7.3, 0.7.4, 0.7.5, 0.7.6, 0.7.7, 0.7.8, 0.7.10, 0.7.11, 0.7.12, 0.7.13, 0.8.5, 0.8.7, 0.8.10, 0.8.11)\n",
      "ERROR: No matching distribution found for onyx\n",
      "WARNING: You are using pip version 21.2.3; however, version 22.1.2 is available.\n",
      "You should consider upgrading via the 'c:\\Program Files (x86)\\Microsoft Visual Studio\\Shared\\Python39_64\\python.exe -m pip install --upgrade pip' command.\n"
     ]
    },
    {
     "name": "stdout",
     "output_type": "stream",
     "text": [
      "Defaulting to user installation because normal site-packages is not writeable\n",
      "Collecting ipopt\n",
      "  Downloading ipopt-1.0.3.tar.gz (42 kB)\n",
      "  Downloading ipopt-0.3.0.tar.gz (56 kB)\n",
      "  Downloading ipopt-0.2.0.tar.gz (162 kB)\n",
      "Requirement already satisfied: numpy in c:\\users\\jwiggins\\appdata\\roaming\\python\\python39\\site-packages (from ipopt) (1.22.3)\n",
      "Requirement already satisfied: cython in c:\\users\\jwiggins\\appdata\\roaming\\python\\python39\\site-packages (from ipopt) (0.29.28)\n",
      "Requirement already satisfied: six in c:\\users\\jwiggins\\appdata\\roaming\\python\\python39\\site-packages (from ipopt) (1.16.0)\n",
      "Collecting future\n",
      "  Downloading future-0.18.2.tar.gz (829 kB)\n",
      "Requirement already satisfied: setuptools in c:\\program files (x86)\\microsoft visual studio\\shared\\python39_64\\lib\\site-packages (from ipopt) (57.4.0)\n",
      "Building wheels for collected packages: ipopt, future\n",
      "  Building wheel for ipopt (setup.py): started\n",
      "  Building wheel for ipopt (setup.py): finished with status 'error'\n",
      "  Running setup.py clean for ipopt\n",
      "  Building wheel for future (setup.py): started\n",
      "  Building wheel for future (setup.py): finished with status 'done'\n",
      "  Created wheel for future: filename=future-0.18.2-py3-none-any.whl size=491070 sha256=e65549e9b07d714612754a700627ebb1fa30c1274bacbabf6bf40dfc4ddc1689\n",
      "  Stored in directory: c:\\users\\jwiggins\\appdata\\local\\pip\\cache\\wheels\\2f\\a0\\d3\\4030d9f80e6b3be787f19fc911b8e7aa462986a40ab1e4bb94\n",
      "Successfully built future\n",
      "Failed to build ipopt\n",
      "Installing collected packages: future, ipopt\n",
      "    Running setup.py install for ipopt: started\n",
      "    Running setup.py install for ipopt: finished with status 'error'\n",
      "Note: you may need to restart the kernel to use updated packages.\n"
     ]
    },
    {
     "name": "stderr",
     "output_type": "stream",
     "text": [
      "    ERROR: Command errored out with exit status 1:\n",
      "     command: 'c:\\Program Files (x86)\\Microsoft Visual Studio\\Shared\\Python39_64\\python.exe' -c 'import io, os, sys, setuptools, tokenize; sys.argv[0] = '\"'\"'C:\\\\Users\\\\jwiggins\\\\AppData\\\\Local\\\\Temp\\\\pip-install-ltd0t_2y\\\\ipopt_74a2abb4e4b84e31bfe959785c472241\\\\setup.py'\"'\"'; __file__='\"'\"'C:\\\\Users\\\\jwiggins\\\\AppData\\\\Local\\\\Temp\\\\pip-install-ltd0t_2y\\\\ipopt_74a2abb4e4b84e31bfe959785c472241\\\\setup.py'\"'\"';f = getattr(tokenize, '\"'\"'open'\"'\"', open)(__file__) if os.path.exists(__file__) else io.StringIO('\"'\"'from setuptools import setup; setup()'\"'\"');code = f.read().replace('\"'\"'\\r\\n'\"'\"', '\"'\"'\\n'\"'\"');f.close();exec(compile(code, __file__, '\"'\"'exec'\"'\"'))' egg_info --egg-base 'C:\\Users\\jwiggins\\AppData\\Local\\Temp\\pip-pip-egg-info-0vizgmg_'\n",
      "         cwd: C:\\Users\\jwiggins\\AppData\\Local\\Temp\\pip-install-ltd0t_2y\\ipopt_74a2abb4e4b84e31bfe959785c472241\\\n",
      "    Complete output (13 lines):\n",
      "    Traceback (most recent call last):\n",
      "      File \"<string>\", line 1, in <module>\n",
      "      File \"C:\\Users\\jwiggins\\AppData\\Local\\Temp\\pip-install-ltd0t_2y\\ipopt_74a2abb4e4b84e31bfe959785c472241\\setup.py\", line 194, in <module>\n",
      "        ext_module_data = handle_ext_modules_general_os()\n",
      "      File \"C:\\Users\\jwiggins\\AppData\\Local\\Temp\\pip-install-ltd0t_2y\\ipopt_74a2abb4e4b84e31bfe959785c472241\\setup.py\", line 173, in handle_ext_modules_general_os\n",
      "        **pkgconfig(\"ipopt\"))\n",
      "      File \"C:\\Users\\jwiggins\\AppData\\Local\\Temp\\pip-install-ltd0t_2y\\ipopt_74a2abb4e4b84e31bfe959785c472241\\setup.py\", line 100, in pkgconfig\n",
      "        output = sp.Popen([\"pkg-config\", \"--libs\", \"--cflags\"] + list(packages),\n",
      "      File \"c:\\Program Files (x86)\\Microsoft Visual Studio\\Shared\\Python39_64\\lib\\subprocess.py\", line 951, in __init__\n",
      "        self._execute_child(args, executable, preexec_fn, close_fds,\n",
      "      File \"c:\\Program Files (x86)\\Microsoft Visual Studio\\Shared\\Python39_64\\lib\\subprocess.py\", line 1420, in _execute_child\n",
      "        hp, ht, pid, tid = _winapi.CreateProcess(executable, args,\n",
      "    FileNotFoundError: [WinError 2] The system cannot find the file specified\n",
      "    ----------------------------------------\n",
      "WARNING: Discarding https://files.pythonhosted.org/packages/62/f1/86f03ab61b8859f8ebcab4043a526ee0aef9ec749e35360327f80868370e/ipopt-1.0.3.tar.gz#sha256=656e787b06fe56e82c65ac18d3e1bba5e5b84f54df3800af9aeaf299caedaffc (from https://pypi.org/simple/ipopt/). Command errored out with exit status 1: python setup.py egg_info Check the logs for full command output.\n",
      "    ERROR: Command errored out with exit status 1:\n",
      "     command: 'c:\\Program Files (x86)\\Microsoft Visual Studio\\Shared\\Python39_64\\python.exe' -c 'import io, os, sys, setuptools, tokenize; sys.argv[0] = '\"'\"'C:\\\\Users\\\\jwiggins\\\\AppData\\\\Local\\\\Temp\\\\pip-install-ltd0t_2y\\\\ipopt_8838417e51544b2f8279d42f864ba00e\\\\setup.py'\"'\"'; __file__='\"'\"'C:\\\\Users\\\\jwiggins\\\\AppData\\\\Local\\\\Temp\\\\pip-install-ltd0t_2y\\\\ipopt_8838417e51544b2f8279d42f864ba00e\\\\setup.py'\"'\"';f = getattr(tokenize, '\"'\"'open'\"'\"', open)(__file__) if os.path.exists(__file__) else io.StringIO('\"'\"'from setuptools import setup; setup()'\"'\"');code = f.read().replace('\"'\"'\\r\\n'\"'\"', '\"'\"'\\n'\"'\"');f.close();exec(compile(code, __file__, '\"'\"'exec'\"'\"'))' egg_info --egg-base 'C:\\Users\\jwiggins\\AppData\\Local\\Temp\\pip-pip-egg-info-ptm6rv__'\n",
      "         cwd: C:\\Users\\jwiggins\\AppData\\Local\\Temp\\pip-install-ltd0t_2y\\ipopt_8838417e51544b2f8279d42f864ba00e\\\n",
      "    Complete output (11 lines):\n",
      "    Traceback (most recent call last):\n",
      "      File \"<string>\", line 1, in <module>\n",
      "      File \"C:\\Users\\jwiggins\\AppData\\Local\\Temp\\pip-install-ltd0t_2y\\ipopt_8838417e51544b2f8279d42f864ba00e\\setup.py\", line 166, in <module>\n",
      "        **pkgconfig('ipopt'))]\n",
      "      File \"C:\\Users\\jwiggins\\AppData\\Local\\Temp\\pip-install-ltd0t_2y\\ipopt_8838417e51544b2f8279d42f864ba00e\\setup.py\", line 77, in pkgconfig\n",
      "        output = sp.Popen([\"pkg-config\", \"--libs\", \"--cflags\"] + list(packages),\n",
      "      File \"c:\\Program Files (x86)\\Microsoft Visual Studio\\Shared\\Python39_64\\lib\\subprocess.py\", line 951, in __init__\n",
      "        self._execute_child(args, executable, preexec_fn, close_fds,\n",
      "      File \"c:\\Program Files (x86)\\Microsoft Visual Studio\\Shared\\Python39_64\\lib\\subprocess.py\", line 1420, in _execute_child\n",
      "        hp, ht, pid, tid = _winapi.CreateProcess(executable, args,\n",
      "    FileNotFoundError: [WinError 2] The system cannot find the file specified\n",
      "    ----------------------------------------\n",
      "WARNING: Discarding https://files.pythonhosted.org/packages/13/29/6a8f36efc3e2bd030c7b46ee635550494b93d66fca190636c53394fc1e4c/ipopt-0.3.0.tar.gz#sha256=ca032b3c95486927394e8197893bf6e7a2f5b5fb6c51a4354109e1e322a26902 (from https://pypi.org/simple/ipopt/). Command errored out with exit status 1: python setup.py egg_info Check the logs for full command output.\n",
      "  ERROR: Command errored out with exit status 1:\n",
      "   command: 'c:\\Program Files (x86)\\Microsoft Visual Studio\\Shared\\Python39_64\\python.exe' -u -c 'import io, os, sys, setuptools, tokenize; sys.argv[0] = '\"'\"'C:\\\\Users\\\\jwiggins\\\\AppData\\\\Local\\\\Temp\\\\pip-install-ltd0t_2y\\\\ipopt_56714c3ec2b34b08b04f0bbfba0b268f\\\\setup.py'\"'\"'; __file__='\"'\"'C:\\\\Users\\\\jwiggins\\\\AppData\\\\Local\\\\Temp\\\\pip-install-ltd0t_2y\\\\ipopt_56714c3ec2b34b08b04f0bbfba0b268f\\\\setup.py'\"'\"';f = getattr(tokenize, '\"'\"'open'\"'\"', open)(__file__) if os.path.exists(__file__) else io.StringIO('\"'\"'from setuptools import setup; setup()'\"'\"');code = f.read().replace('\"'\"'\\r\\n'\"'\"', '\"'\"'\\n'\"'\"');f.close();exec(compile(code, __file__, '\"'\"'exec'\"'\"'))' bdist_wheel -d 'C:\\Users\\jwiggins\\AppData\\Local\\Temp\\pip-wheel-axghc5eg'\n",
      "       cwd: C:\\Users\\jwiggins\\AppData\\Local\\Temp\\pip-install-ltd0t_2y\\ipopt_56714c3ec2b34b08b04f0bbfba0b268f\\\n",
      "  Complete output (15 lines):\n",
      "  running bdist_wheel\n",
      "  running build\n",
      "  running build_py\n",
      "  creating build\n",
      "  creating build\\lib.win-amd64-3.9\n",
      "  creating build\\lib.win-amd64-3.9\\ipopt\n",
      "  copying ipopt\\ipopt_wrapper.py -> build\\lib.win-amd64-3.9\\ipopt\n",
      "  copying ipopt\\version.py -> build\\lib.win-amd64-3.9\\ipopt\n",
      "  copying ipopt\\__init__.py -> build\\lib.win-amd64-3.9\\ipopt\n",
      "  running build_ext\n",
      "  cythoning src/cyipopt.pyx to src\\cyipopt.c\n",
      "  C:\\Users\\jwiggins\\AppData\\Roaming\\Python\\Python39\\site-packages\\Cython\\Compiler\\Main.py:369: FutureWarning: Cython directive 'language_level' not set, using 2 for now (Py2). This will change in a later release! File: C:\\Users\\jwiggins\\AppData\\Local\\Temp\\pip-install-ltd0t_2y\\ipopt_56714c3ec2b34b08b04f0bbfba0b268f\\src\\cyipopt.pyx\n",
      "    tree = Parsing.p_module(s, pxd, full_module_name)\n",
      "  building 'cyipopt' extension\n",
      "  error: Microsoft Visual C++ 14.0 or greater is required. Get it with \"Microsoft C++ Build Tools\": https://visualstudio.microsoft.com/visual-cpp-build-tools/\n",
      "  ----------------------------------------\n",
      "  ERROR: Failed building wheel for ipopt\n",
      "  WARNING: The scripts futurize.exe and pasteurize.exe are installed in 'C:\\Users\\jwiggins\\AppData\\Roaming\\Python\\Python39\\Scripts' which is not on PATH.\n",
      "  Consider adding this directory to PATH or, if you prefer to suppress this warning, use --no-warn-script-location.\n",
      "    ERROR: Command errored out with exit status 1:\n",
      "     command: 'c:\\Program Files (x86)\\Microsoft Visual Studio\\Shared\\Python39_64\\python.exe' -u -c 'import io, os, sys, setuptools, tokenize; sys.argv[0] = '\"'\"'C:\\\\Users\\\\jwiggins\\\\AppData\\\\Local\\\\Temp\\\\pip-install-ltd0t_2y\\\\ipopt_56714c3ec2b34b08b04f0bbfba0b268f\\\\setup.py'\"'\"'; __file__='\"'\"'C:\\\\Users\\\\jwiggins\\\\AppData\\\\Local\\\\Temp\\\\pip-install-ltd0t_2y\\\\ipopt_56714c3ec2b34b08b04f0bbfba0b268f\\\\setup.py'\"'\"';f = getattr(tokenize, '\"'\"'open'\"'\"', open)(__file__) if os.path.exists(__file__) else io.StringIO('\"'\"'from setuptools import setup; setup()'\"'\"');code = f.read().replace('\"'\"'\\r\\n'\"'\"', '\"'\"'\\n'\"'\"');f.close();exec(compile(code, __file__, '\"'\"'exec'\"'\"'))' install --record 'C:\\Users\\jwiggins\\AppData\\Local\\Temp\\pip-record-ebmz4ahh\\install-record.txt' --single-version-externally-managed --user --prefix= --compile --install-headers 'C:\\Users\\jwiggins\\AppData\\Roaming\\Python\\Python39\\Include\\ipopt'\n",
      "         cwd: C:\\Users\\jwiggins\\AppData\\Local\\Temp\\pip-install-ltd0t_2y\\ipopt_56714c3ec2b34b08b04f0bbfba0b268f\\\n",
      "    Complete output (13 lines):\n",
      "    running install\n",
      "    running build\n",
      "    running build_py\n",
      "    creating build\n",
      "    creating build\\lib.win-amd64-3.9\n",
      "    creating build\\lib.win-amd64-3.9\\ipopt\n",
      "    copying ipopt\\ipopt_wrapper.py -> build\\lib.win-amd64-3.9\\ipopt\n",
      "    copying ipopt\\version.py -> build\\lib.win-amd64-3.9\\ipopt\n",
      "    copying ipopt\\__init__.py -> build\\lib.win-amd64-3.9\\ipopt\n",
      "    running build_ext\n",
      "    skipping 'src\\cyipopt.c' Cython extension (up-to-date)\n",
      "    building 'cyipopt' extension\n",
      "    error: Microsoft Visual C++ 14.0 or greater is required. Get it with \"Microsoft C++ Build Tools\": https://visualstudio.microsoft.com/visual-cpp-build-tools/\n",
      "    ----------------------------------------\n",
      "ERROR: Command errored out with exit status 1: 'c:\\Program Files (x86)\\Microsoft Visual Studio\\Shared\\Python39_64\\python.exe' -u -c 'import io, os, sys, setuptools, tokenize; sys.argv[0] = '\"'\"'C:\\\\Users\\\\jwiggins\\\\AppData\\\\Local\\\\Temp\\\\pip-install-ltd0t_2y\\\\ipopt_56714c3ec2b34b08b04f0bbfba0b268f\\\\setup.py'\"'\"'; __file__='\"'\"'C:\\\\Users\\\\jwiggins\\\\AppData\\\\Local\\\\Temp\\\\pip-install-ltd0t_2y\\\\ipopt_56714c3ec2b34b08b04f0bbfba0b268f\\\\setup.py'\"'\"';f = getattr(tokenize, '\"'\"'open'\"'\"', open)(__file__) if os.path.exists(__file__) else io.StringIO('\"'\"'from setuptools import setup; setup()'\"'\"');code = f.read().replace('\"'\"'\\r\\n'\"'\"', '\"'\"'\\n'\"'\"');f.close();exec(compile(code, __file__, '\"'\"'exec'\"'\"'))' install --record 'C:\\Users\\jwiggins\\AppData\\Local\\Temp\\pip-record-ebmz4ahh\\install-record.txt' --single-version-externally-managed --user --prefix= --compile --install-headers 'C:\\Users\\jwiggins\\AppData\\Roaming\\Python\\Python39\\Include\\ipopt' Check the logs for full command output.\n",
      "WARNING: You are using pip version 21.2.3; however, version 22.1.2 is available.\n",
      "You should consider upgrading via the 'c:\\Program Files (x86)\\Microsoft Visual Studio\\Shared\\Python39_64\\python.exe -m pip install --upgrade pip' command.\n"
     ]
    }
   ],
   "source": [
    "%pip install omlt\n",
    "%pip install onnx\n",
    "%pip install onyx\n",
    "%pip install ipopt"
   ]
  },
  {
   "cell_type": "code",
   "execution_count": 5,
   "metadata": {},
   "outputs": [],
   "source": [
    "import os\n",
    "os.environ['TF_CPP_MIN_LOG_LEVEL'] = '2' # suppress CUDA warnings from tensorflow\n",
    "\n",
    "# import the necessary packages\n",
    "from omlt import OmltBlock, OffsetScaling\n",
    "from omlt.io.keras_reader import load_keras_sequential\n",
    "from omlt.neuralnet import FullSpaceSmoothNNFormulation\n",
    "import pyomo.environ as pyo\n",
    "import pandas as pd\n",
    "import tensorflow.keras as keras\n",
    "from tensorflow.keras.models import Sequential\n",
    "from tensorflow.keras.layers import Dense\n",
    "from tensorflow.keras.optimizers import Adam\n",
    "from tensorflow.keras.callbacks import ModelCheckpoint"
   ]
  },
  {
   "cell_type": "code",
   "execution_count": 6,
   "metadata": {},
   "outputs": [
    {
     "name": "stdout",
     "output_type": "stream",
     "text": [
      "      Bypass Fraction  NG Steam Ratio  Steam Flow  Reformer Duty        AR  \\\n",
      "0                 0.8        0.800000    0.193898    9806.732716  0.002662   \n",
      "1                 0.8        0.810526    0.196449    9846.047501  0.002660   \n",
      "2                 0.8        0.821053    0.199000    9885.419259  0.002657   \n",
      "3                 0.8        0.831579    0.201552    9924.849127  0.002654   \n",
      "4                 0.8        0.842105    0.204103    9964.338177  0.002651   \n",
      "...               ...             ...         ...            ...       ...   \n",
      "2795              0.1        1.157895    1.262887   39771.876388  0.004086   \n",
      "2796              0.1        1.168421    1.274368   39989.582852  0.004080   \n",
      "2797              0.1        1.178947    1.285849   40207.531167  0.004073   \n",
      "2798              0.1        1.189474    1.297330   40425.721366  0.004067   \n",
      "2799              0.1        1.200000    1.308811   40644.153425  0.004060   \n",
      "\n",
      "          C2H6      C3H8     C4H10       CH4        CO       CO2        H2  \\\n",
      "0     0.012120  0.002651  0.001515  0.369276  0.073971  0.032251  0.208494   \n",
      "1     0.012107  0.002648  0.001513  0.368883  0.073684  0.032432  0.208507   \n",
      "2     0.012094  0.002646  0.001512  0.368491  0.073398  0.032612  0.208519   \n",
      "3     0.012082  0.002643  0.001510  0.368100  0.073114  0.032791  0.208529   \n",
      "4     0.012069  0.002640  0.001509  0.367710  0.072832  0.032968  0.208537   \n",
      "...        ...       ...       ...       ...       ...       ...       ...   \n",
      "2795  0.000517  0.000113  0.000065  0.016104  0.103440  0.054146  0.330923   \n",
      "2796  0.000516  0.000113  0.000064  0.016073  0.103003  0.054335  0.330682   \n",
      "2797  0.000515  0.000113  0.000064  0.016043  0.102569  0.054521  0.330439   \n",
      "2798  0.000514  0.000112  0.000064  0.016013  0.102138  0.054706  0.330196   \n",
      "2799  0.000513  0.000112  0.000064  0.015984  0.101710  0.054889  0.329953   \n",
      "\n",
      "           H2O        N2  \n",
      "0     0.070771  0.226288  \n",
      "1     0.071514  0.226050  \n",
      "2     0.072258  0.225813  \n",
      "3     0.073000  0.225577  \n",
      "4     0.073743  0.225341  \n",
      "...        ...       ...  \n",
      "2795  0.152351  0.338256  \n",
      "2796  0.153420  0.337714  \n",
      "2797  0.154487  0.337174  \n",
      "2798  0.155552  0.336636  \n",
      "2799  0.156616  0.336099  \n",
      "\n",
      "[2800 rows x 14 columns]\n"
     ]
    }
   ],
   "source": [
    "# read in our csv data\n",
    "columns = ['Bypass Fraction', 'NG Steam Ratio', 'Steam Flow',\n",
    "           'Reformer Duty','AR', 'C2H6', 'C3H8', 'C4H10',\n",
    "           'CH4', 'CO', 'CO2', 'H2', 'H2O', 'N2']\n",
    "df = pd.read_csv(r'C:\\Users\\jwiggins\\Documents\\Python_virtual_env\\Supply Chain Simulation\\supply_chain_simulation\\supply_chain_simulation\\nn_optimization\\reformer.csv', usecols=columns)\n",
    "print(df)"
   ]
  },
  {
   "cell_type": "code",
   "execution_count": 7,
   "metadata": {},
   "outputs": [],
   "source": [
    "# separate the data into inputs and outputs\n",
    "inputs = ['Bypass Fraction', 'NG Steam Ratio']\n",
    "outputs = [ 'Steam Flow', 'Reformer Duty','AR', 'C2H6', 'C3H8', 'C4H10',\n",
    "           'CH4', 'CO', 'CO2', 'H2', 'H2O', 'N2']\n",
    "dfin = df[inputs]\n",
    "dfout = df[outputs]"
   ]
  },
  {
   "cell_type": "code",
   "execution_count": 8,
   "metadata": {},
   "outputs": [],
   "source": [
    "# We scale the data for improved training, however, we want to formulate\n",
    "# our optimizaton problem on the original variables. Therefore, we keep\n",
    "# the scaling parameters to use later in our optimization formulation\n",
    "\n",
    "x_offset, x_factor = dfin.mean().to_dict(), dfin.std().to_dict()\n",
    "y_offset, y_factor = dfout.mean().to_dict(), dfout.std().to_dict()\n",
    "\n",
    "dfin = (dfin - dfin.mean()).divide(dfin.std())\n",
    "dfout = (dfout - dfout.mean()).divide(dfout.std())\n",
    "\n",
    "# capture the minimum and maximum values of the scaled inputs\n",
    "# so we don't use the model outside the valid range\n",
    "scaled_lb = dfin.min()[inputs].values\n",
    "scaled_ub = dfin.max()[inputs].values"
   ]
  },
  {
   "cell_type": "code",
   "execution_count": 9,
   "metadata": {},
   "outputs": [],
   "source": [
    "# create our Keras Sequential model\n",
    "nn = Sequential(name='reformer_sigmoid_4_20')\n",
    "nn.add(Dense(units=20, input_dim=len(inputs), activation='sigmoid'))\n",
    "nn.add(Dense(units=20, activation='sigmoid'))\n",
    "nn.add(Dense(units=20, activation='sigmoid'))\n",
    "nn.add(Dense(units=20, activation='sigmoid'))\n",
    "nn.add(Dense(units=len(outputs)))\n",
    "nn.compile(optimizer=Adam(), loss='mse')"
   ]
  },
  {
   "cell_type": "code",
   "execution_count": 10,
   "metadata": {},
   "outputs": [
    {
     "name": "stdout",
     "output_type": "stream",
     "text": [
      "Epoch 1/100\n",
      "88/88 [==============================] - 1s 1ms/step - loss: 1.0671\n",
      "Epoch 2/100\n",
      "88/88 [==============================] - 0s 1ms/step - loss: 0.9969\n",
      "Epoch 3/100\n",
      "88/88 [==============================] - 0s 1ms/step - loss: 0.9701\n",
      "Epoch 4/100\n",
      "88/88 [==============================] - 0s 1ms/step - loss: 0.7652\n",
      "Epoch 5/100\n",
      "88/88 [==============================] - 0s 1ms/step - loss: 0.3158\n",
      "Epoch 6/100\n",
      "88/88 [==============================] - 0s 1ms/step - loss: 0.1692\n",
      "Epoch 7/100\n",
      "88/88 [==============================] - 0s 2ms/step - loss: 0.1363\n",
      "Epoch 8/100\n",
      "88/88 [==============================] - 0s 1ms/step - loss: 0.1171\n",
      "Epoch 9/100\n",
      "88/88 [==============================] - 0s 1ms/step - loss: 0.1042\n",
      "Epoch 10/100\n",
      "88/88 [==============================] - 0s 1ms/step - loss: 0.0949\n",
      "Epoch 11/100\n",
      "88/88 [==============================] - 0s 1ms/step - loss: 0.0881\n",
      "Epoch 12/100\n",
      "88/88 [==============================] - 0s 1ms/step - loss: 0.0829\n",
      "Epoch 13/100\n",
      "88/88 [==============================] - 0s 922us/step - loss: 0.0789\n",
      "Epoch 14/100\n",
      "88/88 [==============================] - 0s 1ms/step - loss: 0.0763\n",
      "Epoch 15/100\n",
      "88/88 [==============================] - 0s 1ms/step - loss: 0.0744\n",
      "Epoch 16/100\n",
      "88/88 [==============================] - 0s 1ms/step - loss: 0.0732\n",
      "Epoch 17/100\n",
      "88/88 [==============================] - 0s 1ms/step - loss: 0.0721\n",
      "Epoch 18/100\n",
      "88/88 [==============================] - 0s 1ms/step - loss: 0.0712\n",
      "Epoch 19/100\n",
      "88/88 [==============================] - 0s 1ms/step - loss: 0.0706\n",
      "Epoch 20/100\n",
      "88/88 [==============================] - 0s 1ms/step - loss: 0.0699\n",
      "Epoch 21/100\n",
      "88/88 [==============================] - 0s 1ms/step - loss: 0.0693\n",
      "Epoch 22/100\n",
      "88/88 [==============================] - 0s 1ms/step - loss: 0.0683\n",
      "Epoch 23/100\n",
      "88/88 [==============================] - 0s 1ms/step - loss: 0.0676\n",
      "Epoch 24/100\n",
      "88/88 [==============================] - 0s 1ms/step - loss: 0.0667\n",
      "Epoch 25/100\n",
      "88/88 [==============================] - 0s 1ms/step - loss: 0.0655\n",
      "Epoch 26/100\n",
      "88/88 [==============================] - 0s 1ms/step - loss: 0.0636\n",
      "Epoch 27/100\n",
      "88/88 [==============================] - 0s 1ms/step - loss: 0.0605\n",
      "Epoch 28/100\n",
      "88/88 [==============================] - 0s 1ms/step - loss: 0.0544\n",
      "Epoch 29/100\n",
      "88/88 [==============================] - 0s 1ms/step - loss: 0.0433\n",
      "Epoch 30/100\n",
      "88/88 [==============================] - 0s 1ms/step - loss: 0.0285\n",
      "Epoch 31/100\n",
      "88/88 [==============================] - 0s 2ms/step - loss: 0.0173\n",
      "Epoch 32/100\n",
      "88/88 [==============================] - 0s 2ms/step - loss: 0.0111\n",
      "Epoch 33/100\n",
      "88/88 [==============================] - 0s 1ms/step - loss: 0.0079\n",
      "Epoch 34/100\n",
      "88/88 [==============================] - 0s 1ms/step - loss: 0.0061\n",
      "Epoch 35/100\n",
      "88/88 [==============================] - 0s 1ms/step - loss: 0.0050\n",
      "Epoch 36/100\n",
      "88/88 [==============================] - 0s 1ms/step - loss: 0.0043\n",
      "Epoch 37/100\n",
      "88/88 [==============================] - 0s 2ms/step - loss: 0.0037\n",
      "Epoch 38/100\n",
      "88/88 [==============================] - 0s 1ms/step - loss: 0.0033\n",
      "Epoch 39/100\n",
      "88/88 [==============================] - 0s 1ms/step - loss: 0.0029\n",
      "Epoch 40/100\n",
      "88/88 [==============================] - 0s 1ms/step - loss: 0.0026\n",
      "Epoch 41/100\n",
      "88/88 [==============================] - 0s 1ms/step - loss: 0.0025\n",
      "Epoch 42/100\n",
      "88/88 [==============================] - 0s 1ms/step - loss: 0.0022\n",
      "Epoch 43/100\n",
      "88/88 [==============================] - 0s 1ms/step - loss: 0.0020\n",
      "Epoch 44/100\n",
      "88/88 [==============================] - 0s 958us/step - loss: 0.0019\n",
      "Epoch 45/100\n",
      "88/88 [==============================] - 0s 1ms/step - loss: 0.0017\n",
      "Epoch 46/100\n",
      "88/88 [==============================] - 0s 1ms/step - loss: 0.0016\n",
      "Epoch 47/100\n",
      "88/88 [==============================] - 0s 1ms/step - loss: 0.0015\n",
      "Epoch 48/100\n",
      "88/88 [==============================] - 0s 915us/step - loss: 0.0013\n",
      "Epoch 49/100\n",
      "88/88 [==============================] - 0s 913us/step - loss: 0.0013\n",
      "Epoch 50/100\n",
      "88/88 [==============================] - 0s 1ms/step - loss: 0.0012\n",
      "Epoch 51/100\n",
      "88/88 [==============================] - 0s 1ms/step - loss: 0.0011\n",
      "Epoch 52/100\n",
      "88/88 [==============================] - 0s 1ms/step - loss: 0.0010\n",
      "Epoch 53/100\n",
      "88/88 [==============================] - 0s 1ms/step - loss: 9.6962e-04\n",
      "Epoch 54/100\n",
      "88/88 [==============================] - 0s 1ms/step - loss: 8.9195e-04\n",
      "Epoch 55/100\n",
      "88/88 [==============================] - 0s 1ms/step - loss: 8.3537e-04\n",
      "Epoch 56/100\n",
      "88/88 [==============================] - 0s 1ms/step - loss: 7.8459e-04\n",
      "Epoch 57/100\n",
      "88/88 [==============================] - 0s 1ms/step - loss: 7.7357e-04\n",
      "Epoch 58/100\n",
      "88/88 [==============================] - 0s 1ms/step - loss: 7.2982e-04\n",
      "Epoch 59/100\n",
      "88/88 [==============================] - 0s 1ms/step - loss: 6.6254e-04\n",
      "Epoch 60/100\n",
      "88/88 [==============================] - 0s 1ms/step - loss: 6.4671e-04\n",
      "Epoch 61/100\n",
      "88/88 [==============================] - 0s 1ms/step - loss: 6.0806e-04\n",
      "Epoch 62/100\n",
      "88/88 [==============================] - 0s 1ms/step - loss: 5.8483e-04\n",
      "Epoch 63/100\n",
      "88/88 [==============================] - 0s 1ms/step - loss: 5.5240e-04\n",
      "Epoch 64/100\n",
      "88/88 [==============================] - 0s 1ms/step - loss: 5.3723e-04\n",
      "Epoch 65/100\n",
      "88/88 [==============================] - 0s 1ms/step - loss: 5.1754e-04\n",
      "Epoch 66/100\n",
      "88/88 [==============================] - 0s 1ms/step - loss: 4.9058e-04\n",
      "Epoch 67/100\n",
      "88/88 [==============================] - 0s 1ms/step - loss: 4.5804e-04\n",
      "Epoch 68/100\n",
      "88/88 [==============================] - 0s 1ms/step - loss: 4.3663e-04\n",
      "Epoch 69/100\n",
      "88/88 [==============================] - 0s 1ms/step - loss: 4.1368e-04\n",
      "Epoch 70/100\n",
      "88/88 [==============================] - 0s 1ms/step - loss: 4.2031e-04\n",
      "Epoch 71/100\n",
      "88/88 [==============================] - 0s 1ms/step - loss: 4.1077e-04\n",
      "Epoch 72/100\n",
      "88/88 [==============================] - 0s 1ms/step - loss: 3.8411e-04\n",
      "Epoch 73/100\n",
      "88/88 [==============================] - 0s 1ms/step - loss: 3.7719e-04\n",
      "Epoch 74/100\n",
      "88/88 [==============================] - 0s 1ms/step - loss: 3.5815e-04\n",
      "Epoch 75/100\n",
      "88/88 [==============================] - 0s 1ms/step - loss: 3.4581e-04\n",
      "Epoch 76/100\n",
      "88/88 [==============================] - 0s 1ms/step - loss: 3.3815e-04\n",
      "Epoch 77/100\n",
      "88/88 [==============================] - 0s 1ms/step - loss: 3.0866e-04\n",
      "Epoch 78/100\n",
      "88/88 [==============================] - 0s 1ms/step - loss: 2.8951e-04\n",
      "Epoch 79/100\n",
      "88/88 [==============================] - 0s 1ms/step - loss: 3.1820e-04\n",
      "Epoch 80/100\n",
      "88/88 [==============================] - 0s 1ms/step - loss: 2.9970e-04\n",
      "Epoch 81/100\n",
      "88/88 [==============================] - 0s 1ms/step - loss: 2.6287e-04\n",
      "Epoch 82/100\n",
      "88/88 [==============================] - 0s 1ms/step - loss: 2.7001e-04\n",
      "Epoch 83/100\n",
      "88/88 [==============================] - 0s 1ms/step - loss: 2.5526e-04\n",
      "Epoch 84/100\n",
      "88/88 [==============================] - 0s 1ms/step - loss: 2.3927e-04\n",
      "Epoch 85/100\n",
      "88/88 [==============================] - 0s 1ms/step - loss: 2.3544e-04\n",
      "Epoch 86/100\n",
      "88/88 [==============================] - 0s 1ms/step - loss: 2.2848e-04\n",
      "Epoch 87/100\n",
      "88/88 [==============================] - 0s 781us/step - loss: 2.3673e-04\n",
      "Epoch 88/100\n",
      "88/88 [==============================] - 0s 1ms/step - loss: 2.1352e-04\n",
      "Epoch 89/100\n",
      "88/88 [==============================] - 0s 1ms/step - loss: 2.1246e-04\n",
      "Epoch 90/100\n",
      "88/88 [==============================] - 0s 1ms/step - loss: 2.0395e-04\n",
      "Epoch 91/100\n",
      "88/88 [==============================] - 0s 1ms/step - loss: 1.8574e-04\n",
      "Epoch 92/100\n",
      "88/88 [==============================] - 0s 1ms/step - loss: 1.9050e-04\n",
      "Epoch 93/100\n",
      "88/88 [==============================] - 0s 1ms/step - loss: 1.7411e-04\n",
      "Epoch 94/100\n",
      "88/88 [==============================] - 0s 1ms/step - loss: 2.0516e-04\n",
      "Epoch 95/100\n",
      "88/88 [==============================] - 0s 977us/step - loss: 1.5722e-04\n",
      "Epoch 96/100\n",
      "88/88 [==============================] - 0s 1ms/step - loss: 1.5939e-04\n",
      "Epoch 97/100\n",
      "88/88 [==============================] - 0s 1ms/step - loss: 1.6330e-04\n",
      "Epoch 98/100\n",
      "88/88 [==============================] - 0s 1ms/step - loss: 1.7074e-04\n",
      "Epoch 99/100\n",
      "88/88 [==============================] - 0s 1ms/step - loss: 1.4991e-04\n",
      "Epoch 100/100\n",
      "88/88 [==============================] - 0s 1ms/step - loss: 1.5553e-04\n"
     ]
    }
   ],
   "source": [
    "# train our model\n",
    "x = dfin.values\n",
    "y = dfout.values\n",
    "\n",
    "history = nn.fit(x, y, epochs=100)"
   ]
  },
  {
   "cell_type": "code",
   "execution_count": 11,
   "metadata": {},
   "outputs": [
    {
     "name": "stdout",
     "output_type": "stream",
     "text": [
      "INFO:tensorflow:Assets written to: reformer_nn\\assets\n"
     ]
    }
   ],
   "source": [
    "# save the model to disk\n",
    "# While not technically necessary, this shows how we can load a previously saved model into\n",
    "# our optimization formulation)\n",
    "nn.save('reformer_nn')"
   ]
  },
  {
   "cell_type": "markdown",
   "metadata": {},
   "source": [
    "## Optimization Problem\n",
    "In this small example, we will formulate a simple optimization problem that seeks to maximize the concentration of Hydrogen in the outlet while placing an upper bound on the Nitrogen concentration."
   ]
  },
  {
   "cell_type": "code",
   "execution_count": 12,
   "metadata": {},
   "outputs": [],
   "source": [
    "# first, create the Pyomo model\n",
    "m = pyo.ConcreteModel()"
   ]
  },
  {
   "cell_type": "code",
   "execution_count": 18,
   "metadata": {},
   "outputs": [
    {
     "name": "stdout",
     "output_type": "stream",
     "text": [
      "WARNING: Implicitly replacing the Component attribute reformer (type=<class\n",
      "    'pyomo.core.base.block._ScalarOmltBlock'>) on block unknown with a new\n",
      "    Component (type=<class 'pyomo.core.base.block._ScalarOmltBlock'>). This is\n",
      "    usually indicative of a modelling error. To avoid this warning, use\n",
      "    block.del_component() and block.add_component().\n"
     ]
    }
   ],
   "source": [
    "# create the OmltBlock to hold the neural network model\n",
    "m.reformer = OmltBlock()"
   ]
  },
  {
   "cell_type": "code",
   "execution_count": 19,
   "metadata": {},
   "outputs": [],
   "source": [
    "# load the Keras model\n",
    "nn_reformer = keras.models.load_model('reformer_nn', compile=False)\n",
    "\n",
    "# Note: The neural network is in the scaled space. We want access to the\n",
    "# variables in the unscaled space. Therefore, we need to tell OMLT about the\n",
    "# scaling factors\n",
    "scaler = OffsetScaling(\n",
    "        offset_inputs={i: x_offset[inputs[i]] for i in range(len(inputs))},\n",
    "        factor_inputs={i: x_factor[inputs[i]] for i in range(len(inputs))},\n",
    "        offset_outputs={i: y_offset[outputs[i]] for i in range(len(outputs))},\n",
    "        factor_outputs={i: y_factor[outputs[i]] for i in range(len(outputs))}\n",
    "    )\n",
    "\n",
    "scaled_input_bounds = {i: (scaled_lb[i], scaled_ub[i]) for i in range(len(inputs))}\n",
    "\n",
    "# create a network definition from the Keras model\n",
    "net = load_keras_sequential(nn_reformer, scaling_object=scaler, scaled_input_bounds=scaled_input_bounds)\n",
    "\n",
    "# create the variables and constraints for the neural network in Pyomo\n",
    "m.reformer.build_formulation(FullSpaceSmoothNNFormulation(net))"
   ]
  },
  {
   "cell_type": "code",
   "execution_count": 20,
   "metadata": {},
   "outputs": [
    {
     "name": "stdout",
     "output_type": "stream",
     "text": [
      "WARNING: Implicitly replacing the Component attribute obj (type=<class\n",
      "    'pyomo.core.base.objective.ScalarObjective'>) on block unknown with a new\n",
      "    Component (type=<class 'pyomo.core.base.objective.ScalarObjective'>). This\n",
      "    is usually indicative of a modelling error. To avoid this warning, use\n",
      "    block.del_component() and block.add_component().\n",
      "WARNING: Implicitly replacing the Component attribute con (type=<class\n",
      "    'pyomo.core.base.constraint.ScalarConstraint'>) on block unknown with a\n",
      "    new Component (type=<class\n",
      "    'pyomo.core.base.constraint.AbstractScalarConstraint'>). This is usually\n",
      "    indicative of a modelling error. To avoid this warning, use\n",
      "    block.del_component() and block.add_component().\n"
     ]
    }
   ],
   "source": [
    "# now add the objective and the constraints\n",
    "h2_idx = outputs.index('H2')\n",
    "n2_idx = outputs.index('N2')\n",
    "m.obj = pyo.Objective(expr=m.reformer.outputs[h2_idx], sense=pyo.maximize)\n",
    "m.con = pyo.Constraint(expr=m.reformer.outputs[n2_idx] <= 0.34)"
   ]
  },
  {
   "cell_type": "code",
   "execution_count": 35,
   "metadata": {},
   "outputs": [
    {
     "name": "stdout",
     "output_type": "stream",
     "text": [
      "WARNING: Could not locate the 'gurobi' executable, which is required for\n",
      "    solver gurobi\n"
     ]
    },
    {
     "ename": "ApplicationError",
     "evalue": "No executable found for solver 'gurobi'",
     "output_type": "error",
     "traceback": [
      "\u001b[1;31m---------------------------------------------------------------------------\u001b[0m",
      "\u001b[1;31mApplicationError\u001b[0m                          Traceback (most recent call last)",
      "\u001b[1;32mc:\\Users\\jwiggins\\Documents\\Python_virtual_env\\Supply Chain Simulation\\supply_chain_simulation\\supply_chain_simulation\\nn_optimization\\neuralnet\\auto-thermal-reformer.ipynb Cell 16'\u001b[0m in \u001b[0;36m<cell line: 3>\u001b[1;34m()\u001b[0m\n\u001b[0;32m      <a href='vscode-notebook-cell:/c%3A/Users/jwiggins/Documents/Python_virtual_env/Supply%20Chain%20Simulation/supply_chain_simulation/supply_chain_simulation/nn_optimization/neuralnet/auto-thermal-reformer.ipynb#ch0000014?line=0'>1</a>\u001b[0m \u001b[39m# now solve the optimization problem\u001b[39;00m\n\u001b[0;32m      <a href='vscode-notebook-cell:/c%3A/Users/jwiggins/Documents/Python_virtual_env/Supply%20Chain%20Simulation/supply_chain_simulation/supply_chain_simulation/nn_optimization/neuralnet/auto-thermal-reformer.ipynb#ch0000014?line=1'>2</a>\u001b[0m solver \u001b[39m=\u001b[39m pyo\u001b[39m.\u001b[39mSolverFactory(\u001b[39m'\u001b[39m\u001b[39mgurobi\u001b[39m\u001b[39m'\u001b[39m)\n\u001b[1;32m----> <a href='vscode-notebook-cell:/c%3A/Users/jwiggins/Documents/Python_virtual_env/Supply%20Chain%20Simulation/supply_chain_simulation/supply_chain_simulation/nn_optimization/neuralnet/auto-thermal-reformer.ipynb#ch0000014?line=2'>3</a>\u001b[0m status \u001b[39m=\u001b[39m solver\u001b[39m.\u001b[39;49msolve(m, tee\u001b[39m=\u001b[39;49m\u001b[39mTrue\u001b[39;49;00m)\n",
      "File \u001b[1;32m~\\AppData\\Roaming\\Python\\Python39\\site-packages\\pyomo\\opt\\base\\solvers.py:513\u001b[0m, in \u001b[0;36mOptSolver.solve\u001b[1;34m(self, *args, **kwds)\u001b[0m\n\u001b[0;32m    510\u001b[0m \u001b[39mdef\u001b[39;00m \u001b[39msolve\u001b[39m(\u001b[39mself\u001b[39m, \u001b[39m*\u001b[39margs, \u001b[39m*\u001b[39m\u001b[39m*\u001b[39mkwds):\n\u001b[0;32m    511\u001b[0m     \u001b[39m\"\"\" Solve the problem \"\"\"\u001b[39;00m\n\u001b[1;32m--> 513\u001b[0m     \u001b[39mself\u001b[39;49m\u001b[39m.\u001b[39;49mavailable(exception_flag\u001b[39m=\u001b[39;49m\u001b[39mTrue\u001b[39;49;00m)\n\u001b[0;32m    514\u001b[0m     \u001b[39m#\u001b[39;00m\n\u001b[0;32m    515\u001b[0m     \u001b[39m# If the inputs are models, then validate that they have been\u001b[39;00m\n\u001b[0;32m    516\u001b[0m     \u001b[39m# constructed! Collect suffix names to try and import from solution.\u001b[39;00m\n\u001b[0;32m    517\u001b[0m     \u001b[39m#\u001b[39;00m\n\u001b[0;32m    518\u001b[0m     \u001b[39mfrom\u001b[39;00m \u001b[39mpyomo\u001b[39;00m\u001b[39m.\u001b[39;00m\u001b[39mcore\u001b[39;00m\u001b[39m.\u001b[39;00m\u001b[39mbase\u001b[39;00m\u001b[39m.\u001b[39;00m\u001b[39mblock\u001b[39;00m \u001b[39mimport\u001b[39;00m _BlockData\n",
      "File \u001b[1;32m~\\AppData\\Roaming\\Python\\Python39\\site-packages\\pyomo\\opt\\solver\\ilmcmd.py:37\u001b[0m, in \u001b[0;36mILMLicensedSystemCallSolver.available\u001b[1;34m(self, exception_flag)\u001b[0m\n\u001b[0;32m     35\u001b[0m \u001b[39mif\u001b[39;00m \u001b[39mself\u001b[39m\u001b[39m.\u001b[39m_assert_available:\n\u001b[0;32m     36\u001b[0m     \u001b[39mreturn\u001b[39;00m \u001b[39mTrue\u001b[39;00m\n\u001b[1;32m---> 37\u001b[0m \u001b[39mif\u001b[39;00m \u001b[39mnot\u001b[39;00m pyomo\u001b[39m.\u001b[39;49mopt\u001b[39m.\u001b[39;49msolver\u001b[39m.\u001b[39;49mshellcmd\u001b[39m.\u001b[39;49mSystemCallSolver\u001b[39m.\u001b[39;49mavailable(\u001b[39mself\u001b[39;49m, exception_flag):\n\u001b[0;32m     38\u001b[0m     \u001b[39mreturn\u001b[39;00m \u001b[39mFalse\u001b[39;00m\n\u001b[0;32m     39\u001b[0m executable \u001b[39m=\u001b[39m pyomo\u001b[39m.\u001b[39mcommon\u001b[39m.\u001b[39mExecutable(\u001b[39m\"\u001b[39m\u001b[39milmlist\u001b[39m\u001b[39m\"\u001b[39m)\n",
      "File \u001b[1;32m~\\AppData\\Roaming\\Python\\Python39\\site-packages\\pyomo\\opt\\solver\\shellcmd.py:129\u001b[0m, in \u001b[0;36mSystemCallSolver.available\u001b[1;34m(self, exception_flag)\u001b[0m\n\u001b[0;32m    127\u001b[0m     \u001b[39mif\u001b[39;00m exception_flag:\n\u001b[0;32m    128\u001b[0m         msg \u001b[39m=\u001b[39m \u001b[39m\"\u001b[39m\u001b[39mNo executable found for solver \u001b[39m\u001b[39m'\u001b[39m\u001b[39m%s\u001b[39;00m\u001b[39m'\u001b[39m\u001b[39m\"\u001b[39m\n\u001b[1;32m--> 129\u001b[0m         \u001b[39mraise\u001b[39;00m ApplicationError(msg \u001b[39m%\u001b[39m \u001b[39mself\u001b[39m\u001b[39m.\u001b[39mname)\n\u001b[0;32m    130\u001b[0m     \u001b[39mreturn\u001b[39;00m \u001b[39mFalse\u001b[39;00m\n\u001b[0;32m    131\u001b[0m \u001b[39mreturn\u001b[39;00m \u001b[39mTrue\u001b[39;00m\n",
      "\u001b[1;31mApplicationError\u001b[0m: No executable found for solver 'gurobi'"
     ]
    }
   ],
   "source": [
    "# now solve the optimization problem\n",
    "solver = pyo.SolverFactory('gurobi')\n",
    "status = solver.solve(m, tee=True)"
   ]
  },
  {
   "cell_type": "code",
   "execution_count": 15,
   "metadata": {},
   "outputs": [
    {
     "name": "stdout",
     "output_type": "stream",
     "text": [
      "Bypass Fraction: 0.10000025307452928\n",
      "NG Steam Ratio: 1.1197517732543654\n",
      "H2 Concentration: 0.3313070992873072\n",
      "N2 Concentration: 0.34000000393182694\n"
     ]
    }
   ],
   "source": [
    "print('Bypass Fraction:', pyo.value(m.reformer.inputs[0]))\n",
    "print('NG Steam Ratio:', pyo.value(m.reformer.inputs[1]))\n",
    "print('H2 Concentration:', pyo.value(m.reformer.outputs[h2_idx]))\n",
    "print('N2 Concentration:', pyo.value(m.reformer.outputs[n2_idx]))"
   ]
  },
  {
   "cell_type": "code",
   "execution_count": 33,
   "metadata": {},
   "outputs": [
    {
     "ename": "SyntaxError",
     "evalue": "invalid syntax (4269050250.py, line 1)",
     "output_type": "error",
     "traceback": [
      "\u001b[1;36m  Input \u001b[1;32mIn [33]\u001b[1;36m\u001b[0m\n\u001b[1;33m    idaes get-extensions\u001b[0m\n\u001b[1;37m          ^\u001b[0m\n\u001b[1;31mSyntaxError\u001b[0m\u001b[1;31m:\u001b[0m invalid syntax\n"
     ]
    }
   ],
   "source": [
    "idaes get-extensions"
   ]
  },
  {
   "cell_type": "code",
   "execution_count": 34,
   "metadata": {},
   "outputs": [
    {
     "name": "stderr",
     "output_type": "stream",
     "text": [
      "UsageError: Line magic function `%pyomo` not found.\n"
     ]
    }
   ],
   "source": [
    "%pyomo help --solvers\n"
   ]
  },
  {
   "cell_type": "code",
   "execution_count": null,
   "metadata": {},
   "outputs": [],
   "source": []
  }
 ],
 "metadata": {
  "kernelspec": {
   "display_name": "Python 3.9.7 64-bit",
   "language": "python",
   "name": "python3"
  },
  "language_info": {
   "codemirror_mode": {
    "name": "ipython",
    "version": 3
   },
   "file_extension": ".py",
   "mimetype": "text/x-python",
   "name": "python",
   "nbconvert_exporter": "python",
   "pygments_lexer": "ipython3",
   "version": "3.9.7"
  },
  "vscode": {
   "interpreter": {
    "hash": "c347c8f9a7ef94e4c9e03b4513be7835ed18f45b99a2a817fb579f408b867b16"
   }
  }
 },
 "nbformat": 4,
 "nbformat_minor": 4
}
